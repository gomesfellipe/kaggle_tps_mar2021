{
 "cells": [
  {
   "cell_type": "code",
   "execution_count": 1,
   "metadata": {
    "_cell_guid": "b1076dfc-b9ad-4769-8c92-a6c4dae69d19",
    "_uuid": "8f2839f25d086af736a60e9eeb907d3b93b6e0e5",
    "execution": {
     "iopub.execute_input": "2021-03-20T23:35:59.668910Z",
     "iopub.status.busy": "2021-03-20T23:35:59.668200Z",
     "iopub.status.idle": "2021-03-20T23:36:02.143889Z",
     "shell.execute_reply": "2021-03-20T23:36:02.142646Z"
    },
    "papermill": {
     "duration": 2.498652,
     "end_time": "2021-03-20T23:36:02.144124",
     "exception": false,
     "start_time": "2021-03-20T23:35:59.645472",
     "status": "completed"
    },
    "tags": []
   },
   "outputs": [
    {
     "data": {
      "text/html": [
       "<style type='text/css'>\n",
       ".datatable table.frame { margin-bottom: 0; }\n",
       ".datatable table.frame thead { border-bottom: none; }\n",
       ".datatable table.frame tr.coltypes td {  color: #FFFFFF;  line-height: 6px;  padding: 0 0.5em;}\n",
       ".datatable .bool    { background: #DDDD99; }\n",
       ".datatable .object  { background: #565656; }\n",
       ".datatable .int     { background: #5D9E5D; }\n",
       ".datatable .float   { background: #4040CC; }\n",
       ".datatable .str     { background: #CC4040; }\n",
       ".datatable .row_index {  background: var(--jp-border-color3);  border-right: 1px solid var(--jp-border-color0);  color: var(--jp-ui-font-color3);  font-size: 9px;}\n",
       ".datatable .frame tr.coltypes .row_index {  background: var(--jp-border-color0);}\n",
       ".datatable th:nth-child(2) { padding-left: 12px; }\n",
       ".datatable .hellipsis {  color: var(--jp-cell-editor-border-color);}\n",
       ".datatable .vellipsis {  background: var(--jp-layout-color0);  color: var(--jp-cell-editor-border-color);}\n",
       ".datatable .na {  color: var(--jp-cell-editor-border-color);  font-size: 80%;}\n",
       ".datatable .footer { font-size: 9px; }\n",
       ".datatable .frame_dimensions {  background: var(--jp-border-color3);  border-top: 1px solid var(--jp-border-color0);  color: var(--jp-ui-font-color3);  display: inline-block;  opacity: 0.6;  padding: 1px 10px 1px 5px;}\n",
       "</style>\n"
      ],
      "text/plain": [
       "<IPython.core.display.HTML object>"
      ]
     },
     "metadata": {},
     "output_type": "display_data"
    }
   ],
   "source": [
    "import numpy as np\n",
    "import pandas as pd\n",
    "import time\n",
    "\n",
    "from sklearn.model_selection import train_test_split, StratifiedKFold, cross_val_score\n",
    "from sklearn.metrics import roc_auc_score, average_precision_score, log_loss\n",
    "\n",
    "from hyperopt import fmin, hp, tpe, Trials, space_eval\n",
    "from hyperopt.pyll import scope as ho_scope\n",
    "from hyperopt.pyll.stochastic import sample as ho_sample\n",
    "from functools import partial\n",
    "\n",
    "from lightgbm import LGBMClassifier\n",
    "\n",
    "from imblearn.pipeline import Pipeline\n",
    "#from imblearn.over_sampling import ADASYN\n",
    "#from imblearn.under_sampling import OneSidedSelection, NeighbourhoodCleaningRule, TomekLinks\n",
    "from imblearn.under_sampling import RandomUnderSampler"
   ]
  },
  {
   "cell_type": "code",
   "execution_count": 2,
   "metadata": {
    "execution": {
     "iopub.execute_input": "2021-03-20T23:36:02.182120Z",
     "iopub.status.busy": "2021-03-20T23:36:02.181451Z",
     "iopub.status.idle": "2021-03-20T23:36:02.184421Z",
     "shell.execute_reply": "2021-03-20T23:36:02.183906Z"
    },
    "papermill": {
     "duration": 0.024457,
     "end_time": "2021-03-20T23:36:02.184561",
     "exception": false,
     "start_time": "2021-03-20T23:36:02.160104",
     "status": "completed"
    },
    "tags": []
   },
   "outputs": [],
   "source": [
    "def evalue_model(model, y_test, X_test, model_name):\n",
    "    \n",
    "    yhat_prob = [x[1] for x in model.predict_proba(X_test)]\n",
    "    \n",
    "    results = {'model': model_name,\n",
    "               'auc': roc_auc_score(y_true = y_test, y_score = yhat_prob),\n",
    "               'aucpr': average_precision_score(y_true = y_test, y_score = yhat_prob),\n",
    "               'logloss': log_loss(y_test, yhat_prob)}\n",
    "    \n",
    "    return results"
   ]
  },
  {
   "cell_type": "code",
   "execution_count": 3,
   "metadata": {
    "execution": {
     "iopub.execute_input": "2021-03-20T23:36:02.221251Z",
     "iopub.status.busy": "2021-03-20T23:36:02.220447Z",
     "iopub.status.idle": "2021-03-20T23:36:06.467184Z",
     "shell.execute_reply": "2021-03-20T23:36:06.466603Z"
    },
    "papermill": {
     "duration": 4.266007,
     "end_time": "2021-03-20T23:36:06.467342",
     "exception": false,
     "start_time": "2021-03-20T23:36:02.201335",
     "status": "completed"
    },
    "tags": []
   },
   "outputs": [],
   "source": [
    "submission = pd.read_csv('../input/tabular-playground-series-mar-2021/sample_submission.csv')\n",
    "X_test = pd.read_csv('../input/tabular-playground-series-mar-2021/test.csv')\n",
    "train = pd.read_csv('../input/tabular-playground-series-mar-2021/train.csv')"
   ]
  },
  {
   "cell_type": "code",
   "execution_count": 4,
   "metadata": {
    "execution": {
     "iopub.execute_input": "2021-03-20T23:36:06.509596Z",
     "iopub.status.busy": "2021-03-20T23:36:06.508903Z",
     "iopub.status.idle": "2021-03-20T23:36:06.635336Z",
     "shell.execute_reply": "2021-03-20T23:36:06.635872Z"
    },
    "papermill": {
     "duration": 0.153142,
     "end_time": "2021-03-20T23:36:06.636122",
     "exception": false,
     "start_time": "2021-03-20T23:36:06.482980",
     "status": "completed"
    },
    "tags": []
   },
   "outputs": [],
   "source": [
    "train.drop(columns = \"id\", inplace = True)\n",
    "X_test.drop(columns = \"id\", inplace = True)"
   ]
  },
  {
   "cell_type": "code",
   "execution_count": 5,
   "metadata": {
    "execution": {
     "iopub.execute_input": "2021-03-20T23:36:06.670760Z",
     "iopub.status.busy": "2021-03-20T23:36:06.670058Z",
     "iopub.status.idle": "2021-03-20T23:36:08.137918Z",
     "shell.execute_reply": "2021-03-20T23:36:08.138425Z"
    },
    "papermill": {
     "duration": 1.486754,
     "end_time": "2021-03-20T23:36:08.138618",
     "exception": false,
     "start_time": "2021-03-20T23:36:06.651864",
     "status": "completed"
    },
    "tags": []
   },
   "outputs": [],
   "source": [
    "for col in train.columns[train.dtypes == \"object\"].tolist():\n",
    "    train[col] = train[col].astype('category')\n",
    "    \n",
    "for col in X_test.columns[X_test.dtypes == \"object\"].tolist():\n",
    "    X_test[col] = X_test[col].astype('category')"
   ]
  },
  {
   "cell_type": "code",
   "execution_count": 6,
   "metadata": {
    "execution": {
     "iopub.execute_input": "2021-03-20T23:36:08.173690Z",
     "iopub.status.busy": "2021-03-20T23:36:08.173030Z",
     "iopub.status.idle": "2021-03-20T23:36:08.463705Z",
     "shell.execute_reply": "2021-03-20T23:36:08.463148Z"
    },
    "papermill": {
     "duration": 0.309384,
     "end_time": "2021-03-20T23:36:08.463881",
     "exception": false,
     "start_time": "2021-03-20T23:36:08.154497",
     "status": "completed"
    },
    "tags": []
   },
   "outputs": [],
   "source": [
    "X = train.drop('target', axis=1)\n",
    "y = train['target']\n",
    "\n",
    "X_train, X_val, y_train, y_val = train_test_split(X, y, test_size=0.2, random_state=42, stratify=y)"
   ]
  },
  {
   "cell_type": "markdown",
   "metadata": {
    "papermill": {
     "duration": 0.015514,
     "end_time": "2021-03-20T23:36:08.495552",
     "exception": false,
     "start_time": "2021-03-20T23:36:08.480038",
     "status": "completed"
    },
    "tags": []
   },
   "source": [
    "high_cardinality = [\"cat5\", \"cat7\", \"cat8\", \"cat10\"]\n",
    "\n",
    "categorical_cols = X.columns[X.dtypes == \"category\"].tolist()\n",
    "\n",
    "categorical_cols = list(set(categorical_cols) - set(high_cardinality))\n",
    "\n",
    "cat_columns_position = [X.columns.tolist().index(x) for x in categorical_cols + high_cardinality]"
   ]
  },
  {
   "cell_type": "code",
   "execution_count": 7,
   "metadata": {
    "execution": {
     "iopub.execute_input": "2021-03-20T23:36:08.534333Z",
     "iopub.status.busy": "2021-03-20T23:36:08.533615Z",
     "iopub.status.idle": "2021-03-20T23:36:19.111525Z",
     "shell.execute_reply": "2021-03-20T23:36:19.111995Z"
    },
    "papermill": {
     "duration": 10.600502,
     "end_time": "2021-03-20T23:36:19.112171",
     "exception": false,
     "start_time": "2021-03-20T23:36:08.511669",
     "status": "completed"
    },
    "tags": []
   },
   "outputs": [
    {
     "name": "stderr",
     "output_type": "stream",
     "text": [
      "/opt/conda/lib/python3.7/site-packages/lightgbm/basic.py:1286: UserWarning: Overriding the parameters from Reference Dataset.\n",
      "  warnings.warn('Overriding the parameters from Reference Dataset.')\n",
      "/opt/conda/lib/python3.7/site-packages/lightgbm/basic.py:1098: UserWarning: categorical_column in param dict is overridden.\n",
      "  warnings.warn('{} in param dict is overridden.'.format(cat_alias))\n"
     ]
    },
    {
     "name": "stdout",
     "output_type": "stream",
     "text": [
      "Baseline: 0.8921210472254326\n"
     ]
    }
   ],
   "source": [
    "lgbm=LGBMClassifier(random_state = 42, \n",
    "                    #device = \"gpu\", \n",
    "                    learning_rate = 0.1,\n",
    "                    n_estimators = 20000)\n",
    "\n",
    "lgbm.fit(X_train, y_train, \n",
    "         eval_set=(X_val,y_val),\n",
    "         early_stopping_rounds=200,\n",
    "         verbose=False)\n",
    "\n",
    "predictions=lgbm.predict_proba(X_val)[:,1]\n",
    "\n",
    "auc_baseline=roc_auc_score(y_val,predictions)\n",
    "\n",
    "print(f'Baseline: {auc_baseline}')"
   ]
  },
  {
   "cell_type": "code",
   "execution_count": 8,
   "metadata": {
    "execution": {
     "iopub.execute_input": "2021-03-20T23:36:19.151173Z",
     "iopub.status.busy": "2021-03-20T23:36:19.150397Z",
     "iopub.status.idle": "2021-03-20T23:36:21.711340Z",
     "shell.execute_reply": "2021-03-20T23:36:21.711888Z"
    },
    "papermill": {
     "duration": 2.583172,
     "end_time": "2021-03-20T23:36:21.712183",
     "exception": false,
     "start_time": "2021-03-20T23:36:19.129011",
     "status": "completed"
    },
    "tags": []
   },
   "outputs": [],
   "source": [
    "submission_baseline = submission.copy()\n",
    "submission_baseline.loc[:, 'target'] = lgbm.predict_proba(X_test)[:,1]\n",
    "submission_baseline.to_csv('submission_baseline.csv', index = False)"
   ]
  },
  {
   "cell_type": "code",
   "execution_count": 9,
   "metadata": {
    "execution": {
     "iopub.execute_input": "2021-03-20T23:36:21.754328Z",
     "iopub.status.busy": "2021-03-20T23:36:21.753617Z",
     "iopub.status.idle": "2021-03-20T23:36:21.764280Z",
     "shell.execute_reply": "2021-03-20T23:36:21.764752Z"
    },
    "papermill": {
     "duration": 0.031284,
     "end_time": "2021-03-20T23:36:21.765032",
     "exception": false,
     "start_time": "2021-03-20T23:36:21.733748",
     "status": "completed"
    },
    "tags": []
   },
   "outputs": [],
   "source": [
    "hp_space = {\n",
    "    'undersample': hp.choice(label = 'undersample', options = [True, False]),\n",
    "    'clf': {\n",
    "        'boosting_type': hp.choice(label = 'boosting_type', options = ['gbdt', 'goss']),\n",
    "        \n",
    "        'num_leaves': hp.choice(label = 'num_leaves', options = [15, 31, 63, 127, 255, 511, 1023, 2047, 4095]), \n",
    "        #'max_depth': ho_scope.int(hp.quniform('max_depth',1,32,1)), # default 'max_depth': -1\n",
    "        'min_child_weight': ho_scope.int(hp.quniform('min_child_weight', 0, 0.01,0.001)),\n",
    "        'min_child_samples': ho_scope.int(hp.quniform('min_child_samples',1,300,1)),\n",
    "        \n",
    "        'max_bin': ho_scope.int(hp.quniform('max_bin',128,1024,128)), # Typical: 255\n",
    "        'max_delta_step': ho_scope.int(hp.quniform('max_delta_step',1,10,1)),\n",
    "        \n",
    "        'subsample_freq': ho_scope.int(hp.quniform('subsample_freq',0,10, 1)),\n",
    "       # 'subsample': hp.uniform('subsample',0.2,1),\n",
    "        'colsample_bytree': hp.uniform('colsample_bytree',0.2,1),\n",
    "        \n",
    "        'reg_lambda': hp.loguniform('reg_lambda',np.log(1e-4),np.log(3)),\n",
    "        'reg_alpha': hp.loguniform('reg_alpha',np.log(1e-4),np.log(3)),\n",
    "        \n",
    "        'min_data_per_group': ho_scope.int(hp.quniform('min_data_per_group',50,200,1)),\n",
    "        'cat_smooth':  ho_scope.int(hp.quniform('cat_smooth',5,100,1)),\n",
    "        'cat_l2': ho_scope.int(hp.quniform('cat_l2',1,20,1))\n",
    "    }\n",
    "}\n",
    "\n",
    "#ho_sample(hp_space)"
   ]
  },
  {
   "cell_type": "code",
   "execution_count": 10,
   "metadata": {
    "execution": {
     "iopub.execute_input": "2021-03-20T23:36:21.802199Z",
     "iopub.status.busy": "2021-03-20T23:36:21.801437Z",
     "iopub.status.idle": "2021-03-20T23:36:21.805165Z",
     "shell.execute_reply": "2021-03-20T23:36:21.805617Z"
    },
    "papermill": {
     "duration": 0.023767,
     "end_time": "2021-03-20T23:36:21.805788",
     "exception": false,
     "start_time": "2021-03-20T23:36:21.782021",
     "status": "completed"
    },
    "tags": []
   },
   "outputs": [],
   "source": [
    "iteracoes = Trials()"
   ]
  },
  {
   "cell_type": "code",
   "execution_count": 11,
   "metadata": {
    "execution": {
     "iopub.execute_input": "2021-03-20T23:36:21.843457Z",
     "iopub.status.busy": "2021-03-20T23:36:21.842773Z",
     "iopub.status.idle": "2021-03-20T23:36:21.848181Z",
     "shell.execute_reply": "2021-03-20T23:36:21.848648Z"
    },
    "papermill": {
     "duration": 0.02578,
     "end_time": "2021-03-20T23:36:21.848857",
     "exception": false,
     "start_time": "2021-03-20T23:36:21.823077",
     "status": "completed"
    },
    "tags": []
   },
   "outputs": [],
   "source": [
    "def instancia_modelo(hiperparametros):\n",
    "    \n",
    "    clf = LGBMClassifier(**hiperparametros['clf'],\n",
    "                         random_state = 42, \n",
    "                         #device = \"gpu\", \n",
    "                         learning_rate = 0.1,\n",
    "                         n_estimators = 20000)\n",
    "\n",
    "    if hiperparametros['undersample'] == True:\n",
    "        undersample = RandomUnderSampler(sampling_strategy='majority')\n",
    "    else:\n",
    "        undersample = None\n",
    "\n",
    "    pipe = Pipeline([('undersample', undersample),\n",
    "                     ('clf', clf) ])\n",
    "\n",
    "    return pipe"
   ]
  },
  {
   "cell_type": "code",
   "execution_count": 12,
   "metadata": {
    "execution": {
     "iopub.execute_input": "2021-03-20T23:36:21.887530Z",
     "iopub.status.busy": "2021-03-20T23:36:21.886765Z",
     "iopub.status.idle": "2021-03-20T23:36:21.892913Z",
     "shell.execute_reply": "2021-03-20T23:36:21.893392Z"
    },
    "papermill": {
     "duration": 0.027004,
     "end_time": "2021-03-20T23:36:21.893569",
     "exception": false,
     "start_time": "2021-03-20T23:36:21.866565",
     "status": "completed"
    },
    "tags": []
   },
   "outputs": [],
   "source": [
    "def funcao_para_minimizar(hiperparametros, features, target):\n",
    "    \n",
    "    pipe = instancia_modelo(hiperparametros)\n",
    "    \n",
    "    eval_set=(X_val,y_val)\n",
    "    \n",
    "    fit_params={'clf__early_stopping_rounds': 200, \n",
    "                'clf__eval_metric': 'auc', # logloss\n",
    "                'clf__verbose': False,\n",
    "                'clf__eval_set': eval_set}\n",
    "    \n",
    "    cv = StratifiedKFold(n_splits=5,random_state=42,shuffle=True)\n",
    "    \n",
    "    resultado = cross_val_score(estimator = pipe, \n",
    "                                X = features, \n",
    "                                y = target, \n",
    "                                scoring = \"roc_auc\",\n",
    "                                cv = cv, \n",
    "                                error_score = \"raise\",\n",
    "                                fit_params = fit_params,\n",
    "                                n_jobs = -1)\n",
    "\n",
    "    return -resultado.mean()"
   ]
  },
  {
   "cell_type": "code",
   "execution_count": 13,
   "metadata": {
    "execution": {
     "iopub.execute_input": "2021-03-20T23:36:21.932029Z",
     "iopub.status.busy": "2021-03-20T23:36:21.931361Z",
     "iopub.status.idle": "2021-03-21T03:27:45.738231Z",
     "shell.execute_reply": "2021-03-21T03:27:45.735870Z"
    },
    "papermill": {
     "duration": 13883.827933,
     "end_time": "2021-03-21T03:27:45.739029",
     "exception": false,
     "start_time": "2021-03-20T23:36:21.911096",
     "status": "completed"
    },
    "tags": []
   },
   "outputs": [
    {
     "name": "stdout",
     "output_type": "stream",
     "text": [
      "  1%|          | 2/180 [02:44<3:51:57, 78.19s/trial, best loss: -0.8898215030033307] "
     ]
    },
    {
     "name": "stderr",
     "output_type": "stream",
     "text": [
      "/opt/conda/lib/python3.7/site-packages/joblib/externals/loky/process_executor.py:691: UserWarning: A worker stopped while some jobs were given to the executor. This can be caused by a too short worker timeout or by a memory leak.\n",
      "  \"timeout or by a memory leak.\", UserWarning\n",
      "\n"
     ]
    },
    {
     "name": "stdout",
     "output_type": "stream",
     "text": [
      "  7%|▋         | 12/180 [16:27<4:09:02, 88.94s/trial, best loss: -0.8920465167023208] "
     ]
    },
    {
     "name": "stderr",
     "output_type": "stream",
     "text": [
      "/opt/conda/lib/python3.7/site-packages/joblib/externals/loky/process_executor.py:691: UserWarning: A worker stopped while some jobs were given to the executor. This can be caused by a too short worker timeout or by a memory leak.\n",
      "  \"timeout or by a memory leak.\", UserWarning\n",
      "\n"
     ]
    },
    {
     "name": "stdout",
     "output_type": "stream",
     "text": [
      " 14%|█▍        | 25/180 [33:38<3:50:36, 89.27s/trial, best loss: -0.8937380583623172]"
     ]
    },
    {
     "name": "stderr",
     "output_type": "stream",
     "text": [
      "/opt/conda/lib/python3.7/site-packages/joblib/externals/loky/process_executor.py:691: UserWarning: A worker stopped while some jobs were given to the executor. This can be caused by a too short worker timeout or by a memory leak.\n",
      "  \"timeout or by a memory leak.\", UserWarning\n",
      "\n"
     ]
    },
    {
     "name": "stdout",
     "output_type": "stream",
     "text": [
      "100%|██████████| 180/180 [3:51:23<00:00, 77.13s/trial, best loss: -0.8946670140884698] \n",
      "CPU times: user 58.6 s, sys: 10.5 s, total: 1min 9s\n",
      "Wall time: 3h 51min 23s\n"
     ]
    }
   ],
   "source": [
    "%%time\n",
    "\n",
    "otimizacao = fmin(fn = partial(funcao_para_minimizar, features = X_train, target = y_train),\n",
    "                  space = hp_space, \n",
    "                  algo = tpe.suggest,\n",
    "                  trials = iteracoes,\n",
    "                  max_evals = int(180), \n",
    "                  rstate = np.random.RandomState(42))"
   ]
  },
  {
   "cell_type": "code",
   "execution_count": 14,
   "metadata": {
    "execution": {
     "iopub.execute_input": "2021-03-21T03:27:45.901132Z",
     "iopub.status.busy": "2021-03-21T03:27:45.900255Z",
     "iopub.status.idle": "2021-03-21T03:27:45.903741Z",
     "shell.execute_reply": "2021-03-21T03:27:45.902956Z"
    },
    "papermill": {
     "duration": 0.088132,
     "end_time": "2021-03-21T03:27:45.903937",
     "exception": false,
     "start_time": "2021-03-21T03:27:45.815805",
     "status": "completed"
    },
    "tags": []
   },
   "outputs": [],
   "source": [
    "def extrai_space_eval(hp_space, trial):\n",
    "\n",
    "    desempacota_trial = space_eval(space = hp_space, \n",
    "                                   hp_assignment = {k: v[0] for (k, v) in trial['misc']['vals'].items() if len(v) > 0})\n",
    "    \n",
    "    return desempacota_trial"
   ]
  },
  {
   "cell_type": "code",
   "execution_count": 15,
   "metadata": {
    "execution": {
     "iopub.execute_input": "2021-03-21T03:27:46.058702Z",
     "iopub.status.busy": "2021-03-21T03:27:46.057947Z",
     "iopub.status.idle": "2021-03-21T03:27:46.061489Z",
     "shell.execute_reply": "2021-03-21T03:27:46.060794Z"
    },
    "papermill": {
     "duration": 0.084133,
     "end_time": "2021-03-21T03:27:46.061646",
     "exception": false,
     "start_time": "2021-03-21T03:27:45.977513",
     "status": "completed"
    },
    "tags": []
   },
   "outputs": [],
   "source": [
    "def desempacota_dicionario(dicionario):\n",
    "    desempacotado = {}\n",
    "    for (chave, valor) in dicionario.items():\n",
    "        if isinstance(valor, dict):\n",
    "            desempacotado = {**desempacotado, **desempacota_dicionario(valor)}\n",
    "        else:\n",
    "            desempacotado[chave] = valor\n",
    "            \n",
    "    return desempacotado"
   ]
  },
  {
   "cell_type": "code",
   "execution_count": 16,
   "metadata": {
    "execution": {
     "iopub.execute_input": "2021-03-21T03:27:46.220255Z",
     "iopub.status.busy": "2021-03-21T03:27:46.219511Z",
     "iopub.status.idle": "2021-03-21T03:27:46.579235Z",
     "shell.execute_reply": "2021-03-21T03:27:46.578496Z"
    },
    "papermill": {
     "duration": 0.444205,
     "end_time": "2021-03-21T03:27:46.579386",
     "exception": false,
     "start_time": "2021-03-21T03:27:46.135181",
     "status": "completed"
    },
    "tags": []
   },
   "outputs": [],
   "source": [
    "historico = pd.DataFrame([desempacota_dicionario(extrai_space_eval(hp_space, x)) for x in iteracoes.trials])\n",
    "\n",
    "historico['auc'] = [-x['loss'] for x in iteracoes.results]"
   ]
  },
  {
   "cell_type": "code",
   "execution_count": 17,
   "metadata": {
    "execution": {
     "iopub.execute_input": "2021-03-21T03:27:46.737251Z",
     "iopub.status.busy": "2021-03-21T03:27:46.736534Z",
     "iopub.status.idle": "2021-03-21T03:27:46.740246Z",
     "shell.execute_reply": "2021-03-21T03:27:46.739585Z"
    },
    "papermill": {
     "duration": 0.086659,
     "end_time": "2021-03-21T03:27:46.740392",
     "exception": false,
     "start_time": "2021-03-21T03:27:46.653733",
     "status": "completed"
    },
    "tags": []
   },
   "outputs": [
    {
     "name": "stdout",
     "output_type": "stream",
     "text": [
      "Selected hyperparameters:\n",
      "{'clf': {'boosting_type': 'gbdt', 'cat_l2': 1, 'cat_smooth': 97, 'colsample_bytree': 0.23314910219255458, 'max_bin': 256, 'max_delta_step': 1, 'min_child_samples': 233, 'min_child_weight': 0, 'min_data_per_group': 51, 'num_leaves': 127, 'reg_alpha': 0.0004706110974528811, 'reg_lambda': 0.007557348150846436, 'subsample_freq': 9}, 'undersample': False}\n"
     ]
    }
   ],
   "source": [
    "hiperparametros_selecionados = space_eval(space = hp_space, hp_assignment = otimizacao)\n",
    "print('Selected hyperparameters:\\n%s' % hiperparametros_selecionados)"
   ]
  },
  {
   "cell_type": "code",
   "execution_count": 18,
   "metadata": {
    "execution": {
     "iopub.execute_input": "2021-03-21T03:27:46.898185Z",
     "iopub.status.busy": "2021-03-21T03:27:46.897450Z",
     "iopub.status.idle": "2021-03-21T03:27:49.715174Z",
     "shell.execute_reply": "2021-03-21T03:27:49.714488Z"
    },
    "papermill": {
     "duration": 2.899052,
     "end_time": "2021-03-21T03:27:49.715339",
     "exception": false,
     "start_time": "2021-03-21T03:27:46.816287",
     "status": "completed"
    },
    "tags": []
   },
   "outputs": [
    {
     "data": {
      "text/html": [
       "        <script type=\"text/javascript\">\n",
       "        window.PlotlyConfig = {MathJaxConfig: 'local'};\n",
       "        if (window.MathJax) {MathJax.Hub.Config({SVG: {font: \"STIX-Web\"}});}\n",
       "        if (typeof require !== 'undefined') {\n",
       "        require.undef(\"plotly\");\n",
       "        requirejs.config({\n",
       "            paths: {\n",
       "                'plotly': ['https://cdn.plot.ly/plotly-latest.min']\n",
       "            }\n",
       "        });\n",
       "        require(['plotly'], function(Plotly) {\n",
       "            window._Plotly = Plotly;\n",
       "        });\n",
       "        }\n",
       "        </script>\n",
       "        "
      ]
     },
     "metadata": {},
     "output_type": "display_data"
    },
    {
     "data": {
      "text/html": [
       "<div>                            <div id=\"417774a3-8d07-4b15-a029-a4655e7c07d5\" class=\"plotly-graph-div\" style=\"height:525px; width:1200px;\"></div>            <script type=\"text/javascript\">                require([\"plotly\"], function(Plotly) {                    window.PLOTLYENV=window.PLOTLYENV || {};                                    if (document.getElementById(\"417774a3-8d07-4b15-a029-a4655e7c07d5\")) {                    Plotly.newPlot(                        \"417774a3-8d07-4b15-a029-a4655e7c07d5\",                        [{\"dimensions\": [{\"label\": \"cat_l2\", \"values\": [20, 3, 20, 8, 12, 17, 12, 13, 12, 9, 1, 2, 19, 9, 3, 16, 12, 19, 7, 6, 16, 6, 15, 6, 14, 14, 18, 18, 14, 17, 10, 10, 4, 10, 11, 8, 4, 11, 8, 13, 11, 13, 13, 9, 15, 10, 7, 12, 5, 9, 20, 1, 15, 7, 16, 13, 12, 18, 2, 8, 5, 2, 5, 3, 5, 5, 3, 4, 5, 6, 2, 2, 1, 1, 1, 1, 1, 4, 3, 3, 1, 2, 4, 1, 6, 1, 7, 2, 3, 2, 4, 7, 4, 8, 3, 1, 6, 2, 9, 19, 1, 3, 20, 5, 2, 4, 17, 6, 1, 3, 8, 9, 2, 6, 11, 4, 7, 5, 14, 1, 3, 10, 2, 5, 3, 1, 4, 7, 2, 12, 3, 16, 1, 4, 11, 17, 6, 5, 15, 8, 2, 4, 1, 9, 7, 1, 1, 2, 3, 1, 2, 3, 5, 1, 2, 2, 4, 3, 1, 3, 4, 6, 19, 2, 5, 1, 3, 2, 1, 4, 3, 5, 6, 8, 1, 2, 4, 7, 14, 1]}, {\"label\": \"cat_smooth\", \"values\": [38, 57, 65, 72, 43, 44, 61, 93, 40, 78, 77, 30, 94, 96, 49, 70, 44, 93, 64, 28, 17, 7, 12, 23, 84, 84, 19, 84, 33, 6, 34, 20, 54, 35, 15, 24, 11, 38, 49, 57, 55, 61, 59, 70, 50, 41, 75, 45, 68, 29, 34, 57, 67, 46, 88, 38, 25, 63, 99, 53, 75, 81, 78, 100, 74, 89, 89, 80, 91, 95, 88, 97, 97, 86, 98, 92, 98, 84, 86, 94, 82, 95, 78, 100, 71, 86, 73, 66, 91, 96, 86, 76, 93, 62, 80, 98, 70, 82, 64, 68, 59, 90, 100, 51, 77, 97, 84, 87, 92, 72, 79, 47, 83, 42, 94, 8, 96, 32, 59, 100, 90, 86, 38, 56, 74, 69, 88, 26, 98, 93, 81, 15, 76, 65, 84, 91, 20, 79, 72, 100, 95, 53, 67, 98, 61, 68, 48, 63, 44, 66, 51, 82, 88, 85, 74, 76, 59, 78, 90, 55, 70, 94, 82, 61, 36, 80, 92, 87, 40, 73, 97, 85, 89, 94, 67, 99, 96, 57, 64, 78]}, {\"label\": \"colsample_bytree\", \"values\": [0.4548361945775497, 0.7182332706775021, 0.9627841201518348, 0.9785655821543109, 0.651565756449674, 0.2576544933461576, 0.6459417629101478, 0.7074396569146397, 0.8607567651583368, 0.3407251244702364, 0.8506219716105308, 0.7898445021128107, 0.8625549608825027, 0.8927302979855609, 0.8837990190978109, 0.23692410961091515, 0.786114865311385, 0.65217879802142, 0.46294164081678696, 0.4778529234749696, 0.21383380600265325, 0.5049190231475965, 0.3623628936455188, 0.5413441014619117, 0.39876010649024907, 0.33843384731571957, 0.20718619375074263, 0.3988191302500003, 0.3165993562487635, 0.2928045881857081, 0.21208878450249585, 0.5599860723674077, 0.2749550391278624, 0.20053502538635093, 0.21293854793731995, 0.4404973818280684, 0.41617619832895686, 0.6098578106586514, 0.25706463858392736, 0.29629016053264395, 0.37031757426708434, 0.3057181957088386, 0.514814051624935, 0.7031946527277044, 0.5832664380421617, 0.9882782447913954, 0.24634869992315178, 0.7378219214898258, 0.9271027729596534, 0.4315885635416057, 0.33791700885492437, 0.48848701576161013, 0.3760045459293175, 0.8087640502458964, 0.2376700194437571, 0.6062513960649727, 0.6753754761641142, 0.28182583204562967, 0.5311396958295573, 0.45916095037057136, 0.3279192978077532, 0.32642545435676057, 0.3952551868590488, 0.3978567917398224, 0.6366852796504321, 0.27109370821071677, 0.3587018989753203, 0.4189757265969685, 0.2687123957332556, 0.27436843791102716, 0.2325202400039803, 0.22413604368743123, 0.23314910219255458, 0.2441032943857345, 0.2288774975126658, 0.483873031545563, 0.3122967249598439, 0.20220334195462064, 0.25701007000451653, 0.35178377911295383, 0.20032703303978006, 0.5660245513381602, 0.2886911942332052, 0.9507958271161391, 0.3064618382433645, 0.2441795570670412, 0.38314591014402544, 0.749703072167389, 0.4524700260822167, 0.3442422833866787, 0.22363369488610657, 0.4202944905686621, 0.5304617512371426, 0.5048559835338207, 0.8186706404974923, 0.4420810272657353, 0.36301072622871733, 0.29585333154204596, 0.4717985354472951, 0.32211279080942146, 0.6234055681938614, 0.2565432867979497, 0.6849834107394602, 0.3862212851879677, 0.5873927358700017, 0.21316040130251512, 0.9092712524011344, 0.2330707621990059, 0.41302351480931, 0.3354441609589144, 0.8720383971397394, 0.2544450456026172, 0.5517398991198641, 0.5099309375227202, 0.369786533673587, 0.2849361634021964, 0.3100420453575596, 0.7700203838955983, 0.20523788745469426, 0.8288750909706172, 0.9989979527179571, 0.6554073643878116, 0.49449123573206877, 0.24092318706895907, 0.43198236527291, 0.351958996427347, 0.27104928726037153, 0.40685743924608997, 0.22312891391495737, 0.2007229117668946, 0.3167804650801619, 0.4559509316617607, 0.3768831676663925, 0.29911487674097603, 0.5777972492958495, 0.9681487887707871, 0.5237257257317667, 0.33508535783490123, 0.7084609270757691, 0.2601536304723786, 0.38990175915448605, 0.4753061646365413, 0.22401611637094793, 0.28634963167872385, 0.437674609099323, 0.22733265646615913, 0.24834427026420422, 0.21755316009410683, 0.2669642688457123, 0.20206878318574445, 0.34601492595527755, 0.31942925235422964, 0.284382770456699, 0.2420406886436638, 0.3022004719148283, 0.20124770525583596, 0.3563809700774001, 0.2321857098919894, 0.2764414875607283, 0.3286768915643429, 0.25684069672536863, 0.4052957297075929, 0.29701212597275006, 0.2165839779071994, 0.37927435902156015, 0.3643390370139018, 0.42115940196273677, 0.20230608168372854, 0.2390703885662847, 0.31261998232640564, 0.7387874426927366, 0.34060775893432294, 0.26957499629441395, 0.7957103536492279, 0.2187720909098416, 0.2522517061974137, 0.5409650892382384, 0.2860111218994602, 0.8440071611970057, 0.45092728026048345]}, {\"label\": \"max_bin\", \"values\": [256, 384, 640, 640, 896, 256, 768, 768, 512, 640, 896, 896, 256, 512, 768, 512, 256, 384, 640, 512, 1024, 128, 1024, 1024, 896, 1024, 896, 896, 768, 768, 768, 896, 768, 640, 384, 1024, 640, 896, 768, 768, 640, 768, 512, 128, 640, 384, 640, 768, 512, 896, 768, 384, 512, 1024, 896, 768, 640, 896, 512, 1024, 640, 256, 640, 384, 512, 640, 640, 512, 640, 512, 640, 384, 256, 128, 128, 128, 256, 128, 256, 128, 256, 128, 256, 128, 128, 256, 128, 256, 128, 384, 256, 128, 384, 256, 128, 256, 384, 128, 128, 384, 256, 128, 256, 128, 384, 256, 128, 384, 256, 128, 128, 256, 384, 256, 128, 384, 512, 256, 128, 256, 128, 384, 256, 128, 128, 512, 384, 128, 256, 128, 256, 384, 512, 128, 256, 128, 256, 512, 384, 256, 128, 128, 256, 384, 128, 256, 256, 128, 256, 384, 128, 256, 128, 256, 384, 128, 256, 128, 384, 256, 256, 128, 256, 512, 384, 128, 128, 256, 512, 128, 384, 128, 256, 256, 128, 384, 768, 256, 1024, 128]}, {\"label\": \"max_delta_step\", \"values\": [3, 8, 4, 8, 5, 6, 6, 5, 1, 4, 2, 3, 3, 6, 3, 1, 9, 2, 5, 5, 7, 7, 10, 7, 7, 9, 7, 8, 10, 10, 9, 9, 8, 9, 8, 6, 9, 4, 7, 8, 10, 8, 9, 6, 10, 8, 4, 9, 8, 6, 10, 8, 2, 5, 7, 9, 6, 7, 10, 8, 4, 4, 3, 2, 1, 3, 3, 3, 2, 2, 1, 1, 1, 1, 1, 1, 2, 1, 1, 2, 1, 2, 3, 2, 4, 1, 1, 2, 3, 5, 3, 4, 1, 2, 1, 5, 2, 1, 3, 2, 4, 3, 1, 5, 1, 2, 4, 2, 1, 3, 2, 1, 3, 6, 2, 1, 5, 4, 3, 2, 1, 2, 1, 4, 3, 1, 2, 2, 1, 7, 6, 3, 4, 1, 5, 1, 2, 3, 2, 3, 1, 4, 2, 1, 5, 1, 2, 1, 2, 1, 2, 1, 2, 1, 3, 2, 1, 1, 3, 2, 2, 1, 1, 3, 2, 1, 7, 2, 3, 1, 2, 4, 6, 1, 3, 1, 2, 2, 4, 1]}, {\"label\": \"min_child_samples\", \"values\": [65, 106, 42, 47, 102, 208, 138, 195, 172, 1, 95, 191, 121, 21, 290, 100, 9, 205, 203, 208, 255, 260, 255, 244, 299, 293, 278, 298, 231, 230, 167, 157, 77, 273, 170, 65, 134, 38, 185, 277, 224, 154, 117, 80, 137, 176, 47, 216, 278, 240, 91, 129, 114, 144, 163, 198, 185, 22, 266, 287, 247, 246, 285, 218, 262, 287, 300, 284, 250, 252, 235, 235, 233, 234, 189, 208, 189, 217, 201, 177, 224, 193, 269, 160, 150, 177, 213, 225, 258, 106, 238, 181, 207, 127, 148, 169, 197, 293, 228, 144, 272, 242, 212, 263, 164, 191, 221, 185, 202, 173, 253, 231, 157, 122, 85, 295, 246, 279, 133, 260, 211, 70, 194, 112, 141, 231, 55, 100, 181, 267, 204, 218, 153, 4, 239, 273, 31, 167, 281, 252, 222, 234, 190, 198, 242, 172, 187, 207, 161, 180, 213, 198, 225, 190, 257, 147, 130, 140, 203, 248, 123, 174, 219, 227, 289, 186, 153, 109, 235, 212, 161, 273, 166, 265, 193, 245, 208, 255, 94, 181]}, {\"label\": \"min_child_weight\", \"values\": [0, 0, 0, 0, 0, 0, 0, 0, 0, 0, 0, 0, 0, 0, 0, 0, 0, 0, 0, 0, 0, 0, 0, 0, 0, 0, 0, 0, 0, 0, 0, 0, 0, 0, 0, 0, 0, 0, 0, 0, 0, 0, 0, 0, 0, 0, 0, 0, 0, 0, 0, 0, 0, 0, 0, 0, 0, 0, 0, 0, 0, 0, 0, 0, 0, 0, 0, 0, 0, 0, 0, 0, 0, 0, 0, 0, 0, 0, 0, 0, 0, 0, 0, 0, 0, 0, 0, 0, 0, 0, 0, 0, 0, 0, 0, 0, 0, 0, 0, 0, 0, 0, 0, 0, 0, 0, 0, 0, 0, 0, 0, 0, 0, 0, 0, 0, 0, 0, 0, 0, 0, 0, 0, 0, 0, 0, 0, 0, 0, 0, 0, 0, 0, 0, 0, 0, 0, 0, 0, 0, 0, 0, 0, 0, 0, 0, 0, 0, 0, 0, 0, 0, 0, 0, 0, 0, 0, 0, 0, 0, 0, 0, 0, 0, 0, 0, 0, 0, 0, 0, 0, 0, 0, 0, 0, 0, 0, 0, 0, 0]}, {\"label\": \"min_data_per_group\", \"values\": [123, 151, 180, 78, 64, 52, 170, 139, 99, 107, 137, 104, 124, 170, 199, 54, 98, 154, 191, 193, 75, 77, 83, 187, 66, 64, 90, 91, 115, 115, 116, 143, 131, 115, 153, 89, 162, 128, 51, 69, 59, 70, 109, 143, 175, 85, 98, 133, 120, 56, 160, 105, 147, 95, 79, 72, 60, 122, 109, 138, 102, 82, 67, 101, 86, 67, 94, 62, 73, 77, 73, 51, 51, 54, 60, 55, 59, 50, 81, 55, 64, 57, 51, 62, 87, 94, 76, 179, 70, 53, 80, 200, 63, 90, 110, 165, 67, 187, 58, 134, 75, 128, 69, 97, 196, 112, 84, 148, 106, 53, 92, 65, 120, 158, 73, 102, 60, 87, 141, 171, 82, 56, 50, 79, 70, 61, 53, 118, 77, 124, 65, 50, 57, 97, 88, 112, 75, 128, 71, 62, 84, 92, 68, 100, 156, 68, 55, 58, 65, 51, 80, 73, 62, 59, 53, 68, 50, 104, 74, 85, 78, 56, 71, 63, 94, 66, 187, 90, 81, 60, 53, 77, 69, 55, 150, 50, 83, 65, 60, 88]}, {\"label\": \"num_leaves\", \"values\": [2047, 511, 4095, 31, 127, 31, 511, 511, 255, 15, 1023, 31, 4095, 255, 1023, 127, 127, 1023, 1023, 63, 31, 63, 31, 15, 1023, 2047, 31, 1023, 1023, 2047, 31, 31, 31, 4095, 31, 31, 511, 255, 15, 31, 63, 2047, 4095, 511, 31, 127, 255, 31, 15, 31, 127, 511, 4095, 63, 31, 255, 2047, 31, 15, 31, 127, 127, 127, 127, 127, 127, 127, 127, 127, 127, 127, 127, 127, 127, 127, 63, 4095, 127, 1023, 511, 2047, 255, 127, 15, 127, 63, 1023, 4095, 511, 2047, 127, 127, 15, 255, 127, 63, 1023, 4095, 127, 511, 2047, 127, 255, 127, 15, 127, 63, 127, 4095, 511, 127, 1023, 2047, 255, 127, 15, 127, 127, 63, 1023, 4095, 511, 127, 2047, 255, 127, 15, 127, 127, 63, 1023, 4095, 31, 127, 511, 2047, 127, 255, 127, 15, 127, 31, 63, 4095, 1023, 63, 63, 63, 63, 63, 63, 63, 63, 127, 511, 2047, 127, 255, 63, 127, 127, 15, 31, 1023, 4095, 127, 511, 63, 127, 2047, 255, 127, 15, 127, 63, 31, 4095, 127, 1023, 511]}, {\"label\": \"reg_alpha\", \"values\": [0.00024622906835070123, 0.0029795434745826235, 0.049004043683734975, 0.00012408846495103306, 2.459190295001676, 0.2189680228762772, 0.3870522231545337, 0.0009900675787300047, 2.5543565137771127, 0.009840021719677456, 0.2392215037087966, 0.08848791697264417, 0.0014993766002944229, 0.0010262040077577844, 0.36210421548318433, 0.660638208587746, 0.004926812233456493, 0.00035604911608233124, 2.1152588083005375, 0.08115411112101735, 1.1255811005015413, 1.1742614594760101, 1.1454104993209415, 0.02832689739757877, 2.31784577437292, 0.13355919956255147, 0.9203646472250079, 0.5897636558181668, 2.6323568833124065, 0.016544506170483878, 2.946306769917741, 0.8159629624553421, 0.03557621251032035, 0.17584809431419313, 0.06450696805369514, 0.3603007069597358, 0.009921767802882717, 1.3459348617747555, 0.004063466295858448, 0.11991518358727289, 0.02091172745620469, 0.12953909804652808, 0.00016387537017249724, 0.011137382540914143, 0.0003628726609298322, 0.002128803198791326, 0.054901157416137436, 0.2666371386324934, 0.5070486030105401, 0.006201477467607008, 1.7417605207655324, 0.04290745853524026, 0.08687701773067373, 0.15160909548540077, 0.25755869816492627, 0.015562421692134117, 0.0005560572306755534, 0.4320021329879561, 0.0001070136661856752, 1.5396537472629683, 0.0025334990279242283, 0.003816771396750098, 0.002074997522657652, 0.000977069428572964, 0.0022451668054988294, 0.000784586554845032, 0.000749278518866652, 0.00018423478091966308, 0.0013490687455019281, 0.0013911561147934063, 0.00031980591583512393, 0.00037456258252789706, 0.0004706110974528811, 0.000277139793893598, 0.000493326810980925, 0.00024623578451050927, 0.00014700898775151742, 0.000581133162282638, 0.00010215074386819221, 0.0058852616981594375, 0.0002207980281414623, 0.00046717067801132475, 0.0002744446987208737, 0.00013542309441186032, 0.0034048315055956995, 0.007183627807718898, 0.0016147563055171595, 0.00045888511702771247, 0.00018456818665092301, 0.0006942316815693243, 0.0009775984709507305, 0.0017224871210919808, 0.013772104868813397, 0.001182324452963664, 0.003026564307198359, 0.02825977901052607, 0.00788004367872689, 0.00010986425966888822, 0.004678052586654226, 0.00021484375754805967, 0.02195015740693156, 0.0004311870451768527, 0.0006045121553952256, 0.000329106840317015, 0.0002726511111193274, 0.002739169389707031, 0.0008941133687306773, 0.0012385927856822985, 0.001753255200084775, 0.00012431306494739875, 0.00016881162189118551, 0.0005292685367366563, 0.00446851723068191, 0.009537087865686647, 0.0008071527096144957, 0.000392086263870291, 0.00010044591543569528, 0.06863099195854251, 0.005748847471061562, 0.012536779179991213, 0.0006716331195330463, 0.00014720199167051056, 0.0020100234293936032, 0.0010704779001472046, 0.00019819989157171747, 0.00024678251298505116, 0.0003143434196581195, 0.003605543930433742, 0.0023624795813392387, 0.0014912315633544538, 0.04495801185366229, 0.0004694617082543517, 0.00012300919622536, 0.019552334704258233, 0.025752855881498133, 0.0030628206797907354, 0.03345025524943909, 0.00707401403972638, 0.00030610517558513214, 0.19791405026761502, 0.10042000397247702, 0.0005871313343269247, 0.0009003452400293245, 0.001256169050404453, 0.00015956205077701627, 0.0008035168999254859, 0.00023300496322808245, 0.0004352725528530805, 0.0007326683146514936, 0.0018845355830080207, 0.00036978847773760524, 0.0005455022319291773, 0.0010179176873938733, 0.00027029498348082675, 0.00010216218192911865, 0.0001782563842005477, 0.0053120358273273825, 0.0009077273652172331, 0.010079616966356618, 0.0014204560220850168, 0.002791224493521383, 0.00013581212107576638, 0.004027571680478977, 0.0002111317072510588, 0.00034802426006762455, 0.001113884831257351, 0.0004813214112087854, 0.0006594991456294302, 0.008032683636028387, 0.00027940651276185316, 0.0023533890405827993, 0.00012231420771211332, 0.000383730836825169, 0.0016203578675039717, 0.00021354188148211875, 0.0001541261242228087, 0.0008534613929364671, 0.00010244173288666331, 0.0005752853549487884, 0.014596357524495309]}, {\"label\": \"reg_lambda\", \"values\": [0.07135636079720019, 0.682466873247336, 0.07166053062736279, 0.021483646469587312, 0.013871340972121953, 0.0008006346868940828, 1.5036781736474643, 0.002167785585466841, 0.00031549583772561127, 0.014863094486204736, 0.0003798623229324175, 0.015588126787661633, 0.09648086874091555, 0.0002567193540741948, 0.0003133291652528649, 0.0024064681468322154, 0.0005630022902168812, 2.7361484401446066, 0.005709898917282415, 0.255820576610298, 0.0020641419045070684, 0.00010061307887067348, 0.0038841264531395744, 0.005409748974949589, 0.0013705641891012894, 0.00012706813731554162, 0.0012257278316033977, 0.0011871969672120934, 0.0010309341921354315, 0.00014653016033240783, 0.031844511449345775, 0.03477635496026845, 0.20695531076424944, 0.49443717056003034, 0.03202747548858593, 0.10518314202317905, 0.0073730068045683205, 0.05062018121642966, 0.007722110103916056, 0.02415821698437378, 1.1793747337162754, 0.25270798414793344, 0.02547648018189447, 0.1447736792268422, 0.05129021594230827, 0.5135907268246821, 0.010730889931892293, 0.01927095733446117, 0.05253787712306404, 2.704877551279325, 0.0035949416032250115, 0.9336651272870434, 0.012926526510005303, 0.40637435816075634, 0.08066522077545697, 0.15952895349046797, 0.0028827914628085163, 0.0005812940414440588, 1.740754433343309, 0.0019736017831608545, 0.009389303647429586, 0.00020412095713248944, 0.0006886982177851233, 0.00044871832871896586, 0.0007685117236109107, 0.004358626750151892, 0.0016129141009956593, 0.00480421903741298, 0.0007285780114287008, 0.0002751564134921512, 0.00853597380638887, 0.008218326127255173, 0.007557348150846436, 0.01617391833931362, 0.006164817267048983, 0.0158580519789393, 0.0062985954583988655, 0.0028713560276489468, 0.06668622093099967, 0.012988089469819681, 0.03681486406035616, 0.0209807011988988, 0.0010005640902396467, 0.003341687469123635, 0.0017535463587906826, 0.1099707601155732, 0.0023839189110249582, 0.039807796123979916, 0.0061330177308380985, 0.011803859086769194, 0.017482108326455015, 0.025016982792725538, 0.07227121404673273, 0.0003859371173213721, 0.33890625835916854, 0.027977255777992555, 0.14177551388850498, 0.004879917766407782, 0.000916551958214342, 0.001314278164138163, 0.010301324977631763, 0.00020680249519762722, 0.060859379459639464, 0.08935264969865017, 0.006643388163308542, 0.003908756023668618, 0.0436818818812595, 0.015636330434688744, 0.7144298902943867, 0.0029055469399253526, 0.19506278903260987, 0.00010403221897434065, 0.019813445077204287, 0.02962868111486864, 0.0015473440564975304, 0.11035187234668127, 0.0005083309927134332, 0.007595466610568819, 0.001899602956307771, 0.005387260071503673, 0.0024572898561593445, 0.010094565932712182, 0.01269708505515968, 0.053743632553037955, 0.022306696870469246, 0.322228428555131, 0.04255468260285513, 0.004102368398628451, 0.0006382652009196206, 0.0012068621082562965, 0.003269973983549603, 0.00017455870244749202, 0.0003239535434510635, 0.0022378505332721053, 0.001020453104678328, 0.01624875857072122, 0.19462334063415168, 0.03579395598651925, 0.00494960436935944, 0.1304458328175924, 0.008935631767230914, 0.013625620347714076, 0.06935410651607513, 0.00668913001992108, 0.028452797858436678, 0.08731137555281908, 2.0055945993182034, 0.25042883702011753, 0.06340903433246364, 0.020898854394264307, 0.010935005107512647, 0.857699285085282, 0.04629626420671384, 0.07515657667715481, 0.47682788075506133, 0.01779581662395039, 0.11294356243263014, 0.03326055007361994, 0.16446019166459955, 0.005789342657461281, 0.02506037499044884, 0.055863552358246304, 0.008491989137657491, 0.0033774045810798206, 0.6054011930398129, 0.0015485470096289846, 0.004512392052059672, 0.23650626291071686, 0.3549709347705425, 0.0008390010769532487, 0.0026165361674419805, 0.015007000630916615, 0.0421103857684555, 0.010507173154146107, 0.007610111225344257, 0.013097933059673928, 0.003894715917176017, 0.09436501592251965, 0.0018712857700946756, 0.02256160016670667]}, {\"label\": \"subsample_freq\", \"values\": [1, 6, 5, 1, 8, 3, 9, 5, 1, 5, 6, 4, 5, 8, 4, 1, 1, 4, 8, 6, 3, 10, 3, 7, 2, 2, 0, 0, 0, 0, 0, 2, 0, 2, 0, 1, 3, 2, 10, 1, 1, 3, 7, 4, 1, 2, 9, 6, 4, 1, 5, 3, 7, 0, 1, 9, 4, 6, 5, 2, 3, 3, 4, 6, 4, 5, 5, 4, 7, 8, 7, 8, 9, 9, 9, 10, 9, 9, 10, 8, 10, 9, 8, 10, 9, 7, 8, 9, 6, 10, 9, 10, 8, 8, 7, 9, 10, 6, 7, 8, 9, 10, 7, 8, 9, 10, 6, 9, 10, 7, 8, 9, 8, 10, 6, 7, 5, 9, 8, 10, 9, 7, 6, 8, 10, 9, 8, 7, 10, 9, 10, 8, 9, 7, 6, 5, 10, 9, 8, 7, 8, 9, 10, 6, 5, 10, 10, 9, 10, 9, 10, 9, 8, 10, 9, 8, 10, 9, 10, 8, 9, 7, 8, 10, 9, 10, 7, 9, 8, 10, 8, 9, 7, 10, 9, 8, 3, 10, 6, 9]}, {\"label\": \"undersample\", \"values\": [0, 1, 1, 1, 0, 0, 1, 1, 1, 1, 0, 1, 0, 1, 1, 1, 0, 1, 0, 1, 0, 0, 0, 0, 0, 0, 0, 0, 0, 0, 0, 0, 0, 0, 0, 0, 0, 0, 0, 0, 0, 0, 0, 0, 1, 0, 1, 0, 1, 0, 0, 1, 0, 0, 1, 0, 0, 1, 0, 0, 0, 1, 0, 0, 0, 0, 0, 0, 0, 0, 0, 0, 0, 0, 0, 0, 0, 0, 0, 1, 0, 0, 0, 1, 0, 0, 0, 0, 1, 0, 0, 0, 1, 0, 0, 0, 0, 1, 0, 0, 0, 0, 0, 1, 0, 0, 0, 1, 0, 0, 0, 0, 1, 0, 0, 0, 0, 0, 1, 0, 0, 0, 0, 1, 0, 0, 0, 0, 1, 0, 0, 0, 0, 1, 0, 0, 0, 0, 1, 0, 0, 0, 0, 1, 0, 0, 0, 0, 0, 0, 0, 0, 0, 0, 0, 0, 0, 0, 0, 0, 0, 0, 0, 0, 0, 1, 0, 0, 0, 0, 1, 0, 0, 0, 0, 0, 1, 0, 0, 0]}, {\"label\": \"auc\", \"values\": [0.8898215030033307, 0.8891583387706972, 0.8834691315385692, 0.8917708857562792, 0.8908417542584143, 0.8920465167023208, 0.8896151522516943, 0.8897632944833763, 0.8914421441756378, 0.8891566935580549, 0.8906109076977863, 0.8918600113005601, 0.8906141969130557, 0.8846668300292386, 0.8897291853414879, 0.8895543261716543, 0.8857396571930407, 0.8899516998689329, 0.8936397100477794, 0.8902826142543789, 0.8936984572500581, 0.893329688629527, 0.8935716797872916, 0.8929473773425627, 0.8937380583623172, 0.8936136790054189, 0.8938398426106453, 0.8937067909537312, 0.8938154049368621, 0.893410271694148, 0.8940069598399478, 0.8932103483570326, 0.8934175693513927, 0.8927396041532105, 0.8936829371112642, 0.8933389076771796, 0.8931975059547659, 0.8933817820641206, 0.8934729421494, 0.8940794427518176, 0.8939813703677231, 0.8923925727311189, 0.8917686619217596, 0.8919225819123138, 0.8901761988354245, 0.8927158369636607, 0.8925067329059054, 0.8907748097432288, 0.892032186777336, 0.8938337401185326, 0.891869738050573, 0.8899467053699281, 0.8918928273906788, 0.8933089704250451, 0.8906785283404011, 0.8933333483682959, 0.8921401589156834, 0.8922780077378354, 0.8918329236710297, 0.8938992488438829, 0.894397352603699, 0.8909299752621251, 0.894170239445746, 0.8940189285478282, 0.8936851536190893, 0.8942974580944861, 0.8940078021303147, 0.8940678033417996, 0.8942468317107496, 0.8941339330268822, 0.8944210083558204, 0.8944401399508759, 0.8946670140884698, 0.8946166809187905, 0.8945528952775377, 0.8938893000133392, 0.8932873529933151, 0.8939779303648198, 0.892694585245739, 0.8909827754536102, 0.8925571359386739, 0.8934641150978996, 0.8945162197231854, 0.8917978887470517, 0.8920749007736883, 0.8943868445914234, 0.893398847394956, 0.8923386923565746, 0.8926465510798011, 0.8912362040806056, 0.8945151083389604, 0.8939726215513225, 0.8925735381176108, 0.891333580388682, 0.8928509539841567, 0.8940336351556881, 0.8931171155550042, 0.892762806530586, 0.8920887573840343, 0.893370892784444, 0.8929516547805386, 0.8941985805768933, 0.8935094213188666, 0.890913739846009, 0.8934177906890332, 0.8938082876076301, 0.8930710169922442, 0.8932717438747069, 0.8919378613504332, 0.8937674332183967, 0.8928077409352897, 0.8929751196390402, 0.8919589774525681, 0.8913610186454974, 0.8937441958546681, 0.8929985878069416, 0.8941725819733695, 0.8931298694288066, 0.8900682926496735, 0.8925144001667725, 0.8916475030888149, 0.8918346228656743, 0.8939378431183537, 0.8901083313820154, 0.8936163349801902, 0.894161588691541, 0.8932182779728718, 0.8938527224863334, 0.8905717385676922, 0.8941695087877468, 0.8934173461372579, 0.8931575093446712, 0.8938330548186117, 0.8892979002764818, 0.892973920023379, 0.8918594000052092, 0.8929674590470398, 0.8939583303426459, 0.8899315252094752, 0.8937324137257331, 0.8941505357820022, 0.8936193990051532, 0.8945389801156937, 0.8904187128750373, 0.8934475671511752, 0.8944038099368161, 0.8943122673036458, 0.8944107676096413, 0.8938019286343316, 0.8939006577498064, 0.8941978231326095, 0.8943399750001355, 0.8941331950981727, 0.8944732366077888, 0.8937282020051642, 0.892079024585453, 0.8940569259669287, 0.8939514111903145, 0.8940321308858541, 0.8944905516772327, 0.8938540364479401, 0.8937111609090078, 0.894180891057618, 0.8925205483680289, 0.8937060543192249, 0.8931101744460749, 0.8916142241390286, 0.894017812143322, 0.894530314800569, 0.8935643033065315, 0.8918558141421926, 0.892540363671842, 0.8937166127159681, 0.8933423558257854, 0.8943485100316482, 0.8938887988389415, 0.8922917107399538, 0.8921260272472686, 0.8903958706670965, 0.8929469202038411]}], \"domain\": {\"x\": [0.0, 1.0], \"y\": [0.0, 1.0]}, \"line\": {\"color\": [0.8898215030033307, 0.8891583387706972, 0.8834691315385692, 0.8917708857562792, 0.8908417542584143, 0.8920465167023208, 0.8896151522516943, 0.8897632944833763, 0.8914421441756378, 0.8891566935580549, 0.8906109076977863, 0.8918600113005601, 0.8906141969130557, 0.8846668300292386, 0.8897291853414879, 0.8895543261716543, 0.8857396571930407, 0.8899516998689329, 0.8936397100477794, 0.8902826142543789, 0.8936984572500581, 0.893329688629527, 0.8935716797872916, 0.8929473773425627, 0.8937380583623172, 0.8936136790054189, 0.8938398426106453, 0.8937067909537312, 0.8938154049368621, 0.893410271694148, 0.8940069598399478, 0.8932103483570326, 0.8934175693513927, 0.8927396041532105, 0.8936829371112642, 0.8933389076771796, 0.8931975059547659, 0.8933817820641206, 0.8934729421494, 0.8940794427518176, 0.8939813703677231, 0.8923925727311189, 0.8917686619217596, 0.8919225819123138, 0.8901761988354245, 0.8927158369636607, 0.8925067329059054, 0.8907748097432288, 0.892032186777336, 0.8938337401185326, 0.891869738050573, 0.8899467053699281, 0.8918928273906788, 0.8933089704250451, 0.8906785283404011, 0.8933333483682959, 0.8921401589156834, 0.8922780077378354, 0.8918329236710297, 0.8938992488438829, 0.894397352603699, 0.8909299752621251, 0.894170239445746, 0.8940189285478282, 0.8936851536190893, 0.8942974580944861, 0.8940078021303147, 0.8940678033417996, 0.8942468317107496, 0.8941339330268822, 0.8944210083558204, 0.8944401399508759, 0.8946670140884698, 0.8946166809187905, 0.8945528952775377, 0.8938893000133392, 0.8932873529933151, 0.8939779303648198, 0.892694585245739, 0.8909827754536102, 0.8925571359386739, 0.8934641150978996, 0.8945162197231854, 0.8917978887470517, 0.8920749007736883, 0.8943868445914234, 0.893398847394956, 0.8923386923565746, 0.8926465510798011, 0.8912362040806056, 0.8945151083389604, 0.8939726215513225, 0.8925735381176108, 0.891333580388682, 0.8928509539841567, 0.8940336351556881, 0.8931171155550042, 0.892762806530586, 0.8920887573840343, 0.893370892784444, 0.8929516547805386, 0.8941985805768933, 0.8935094213188666, 0.890913739846009, 0.8934177906890332, 0.8938082876076301, 0.8930710169922442, 0.8932717438747069, 0.8919378613504332, 0.8937674332183967, 0.8928077409352897, 0.8929751196390402, 0.8919589774525681, 0.8913610186454974, 0.8937441958546681, 0.8929985878069416, 0.8941725819733695, 0.8931298694288066, 0.8900682926496735, 0.8925144001667725, 0.8916475030888149, 0.8918346228656743, 0.8939378431183537, 0.8901083313820154, 0.8936163349801902, 0.894161588691541, 0.8932182779728718, 0.8938527224863334, 0.8905717385676922, 0.8941695087877468, 0.8934173461372579, 0.8931575093446712, 0.8938330548186117, 0.8892979002764818, 0.892973920023379, 0.8918594000052092, 0.8929674590470398, 0.8939583303426459, 0.8899315252094752, 0.8937324137257331, 0.8941505357820022, 0.8936193990051532, 0.8945389801156937, 0.8904187128750373, 0.8934475671511752, 0.8944038099368161, 0.8943122673036458, 0.8944107676096413, 0.8938019286343316, 0.8939006577498064, 0.8941978231326095, 0.8943399750001355, 0.8941331950981727, 0.8944732366077888, 0.8937282020051642, 0.892079024585453, 0.8940569259669287, 0.8939514111903145, 0.8940321308858541, 0.8944905516772327, 0.8938540364479401, 0.8937111609090078, 0.894180891057618, 0.8925205483680289, 0.8937060543192249, 0.8931101744460749, 0.8916142241390286, 0.894017812143322, 0.894530314800569, 0.8935643033065315, 0.8918558141421926, 0.892540363671842, 0.8937166127159681, 0.8933423558257854, 0.8943485100316482, 0.8938887988389415, 0.8922917107399538, 0.8921260272472686, 0.8903958706670965, 0.8929469202038411], \"coloraxis\": \"coloraxis\"}, \"name\": \"\", \"type\": \"parcoords\"}],                        {\"coloraxis\": {\"colorbar\": {\"title\": {\"text\": \"auc\"}}, \"colorscale\": [[0.0, \"#0d0887\"], [0.1111111111111111, \"#46039f\"], [0.2222222222222222, \"#7201a8\"], [0.3333333333333333, \"#9c179e\"], [0.4444444444444444, \"#bd3786\"], [0.5555555555555556, \"#d8576b\"], [0.6666666666666666, \"#ed7953\"], [0.7777777777777778, \"#fb9f3a\"], [0.8888888888888888, \"#fdca26\"], [1.0, \"#f0f921\"]]}, \"legend\": {\"tracegroupgap\": 0}, \"margin\": {\"t\": 60}, \"template\": {\"data\": {\"bar\": [{\"error_x\": {\"color\": \"#2a3f5f\"}, \"error_y\": {\"color\": \"#2a3f5f\"}, \"marker\": {\"line\": {\"color\": \"#E5ECF6\", \"width\": 0.5}}, \"type\": \"bar\"}], \"barpolar\": [{\"marker\": {\"line\": {\"color\": \"#E5ECF6\", \"width\": 0.5}}, \"type\": \"barpolar\"}], \"carpet\": [{\"aaxis\": {\"endlinecolor\": \"#2a3f5f\", \"gridcolor\": \"white\", \"linecolor\": \"white\", \"minorgridcolor\": \"white\", \"startlinecolor\": \"#2a3f5f\"}, \"baxis\": {\"endlinecolor\": \"#2a3f5f\", \"gridcolor\": \"white\", \"linecolor\": \"white\", \"minorgridcolor\": \"white\", \"startlinecolor\": \"#2a3f5f\"}, \"type\": \"carpet\"}], \"choropleth\": [{\"colorbar\": {\"outlinewidth\": 0, \"ticks\": \"\"}, \"type\": \"choropleth\"}], \"contour\": [{\"colorbar\": {\"outlinewidth\": 0, \"ticks\": \"\"}, \"colorscale\": [[0.0, \"#0d0887\"], [0.1111111111111111, \"#46039f\"], [0.2222222222222222, \"#7201a8\"], [0.3333333333333333, \"#9c179e\"], [0.4444444444444444, \"#bd3786\"], [0.5555555555555556, \"#d8576b\"], [0.6666666666666666, \"#ed7953\"], [0.7777777777777778, \"#fb9f3a\"], [0.8888888888888888, \"#fdca26\"], [1.0, \"#f0f921\"]], \"type\": \"contour\"}], \"contourcarpet\": [{\"colorbar\": {\"outlinewidth\": 0, \"ticks\": \"\"}, \"type\": \"contourcarpet\"}], \"heatmap\": [{\"colorbar\": {\"outlinewidth\": 0, \"ticks\": \"\"}, \"colorscale\": [[0.0, \"#0d0887\"], [0.1111111111111111, \"#46039f\"], [0.2222222222222222, \"#7201a8\"], [0.3333333333333333, \"#9c179e\"], [0.4444444444444444, \"#bd3786\"], [0.5555555555555556, \"#d8576b\"], [0.6666666666666666, \"#ed7953\"], [0.7777777777777778, \"#fb9f3a\"], [0.8888888888888888, \"#fdca26\"], [1.0, \"#f0f921\"]], \"type\": \"heatmap\"}], \"heatmapgl\": [{\"colorbar\": {\"outlinewidth\": 0, \"ticks\": \"\"}, \"colorscale\": [[0.0, \"#0d0887\"], [0.1111111111111111, \"#46039f\"], [0.2222222222222222, \"#7201a8\"], [0.3333333333333333, \"#9c179e\"], [0.4444444444444444, \"#bd3786\"], [0.5555555555555556, \"#d8576b\"], [0.6666666666666666, \"#ed7953\"], [0.7777777777777778, \"#fb9f3a\"], [0.8888888888888888, \"#fdca26\"], [1.0, \"#f0f921\"]], \"type\": \"heatmapgl\"}], \"histogram\": [{\"marker\": {\"colorbar\": {\"outlinewidth\": 0, \"ticks\": \"\"}}, \"type\": \"histogram\"}], \"histogram2d\": [{\"colorbar\": {\"outlinewidth\": 0, \"ticks\": \"\"}, \"colorscale\": [[0.0, \"#0d0887\"], [0.1111111111111111, \"#46039f\"], [0.2222222222222222, \"#7201a8\"], [0.3333333333333333, \"#9c179e\"], [0.4444444444444444, \"#bd3786\"], [0.5555555555555556, \"#d8576b\"], [0.6666666666666666, \"#ed7953\"], [0.7777777777777778, \"#fb9f3a\"], [0.8888888888888888, \"#fdca26\"], [1.0, \"#f0f921\"]], \"type\": \"histogram2d\"}], \"histogram2dcontour\": [{\"colorbar\": {\"outlinewidth\": 0, \"ticks\": \"\"}, \"colorscale\": [[0.0, \"#0d0887\"], [0.1111111111111111, \"#46039f\"], [0.2222222222222222, \"#7201a8\"], [0.3333333333333333, \"#9c179e\"], [0.4444444444444444, \"#bd3786\"], [0.5555555555555556, \"#d8576b\"], [0.6666666666666666, \"#ed7953\"], [0.7777777777777778, \"#fb9f3a\"], [0.8888888888888888, \"#fdca26\"], [1.0, \"#f0f921\"]], \"type\": \"histogram2dcontour\"}], \"mesh3d\": [{\"colorbar\": {\"outlinewidth\": 0, \"ticks\": \"\"}, \"type\": \"mesh3d\"}], \"parcoords\": [{\"line\": {\"colorbar\": {\"outlinewidth\": 0, \"ticks\": \"\"}}, \"type\": \"parcoords\"}], \"pie\": [{\"automargin\": true, \"type\": \"pie\"}], \"scatter\": [{\"marker\": {\"colorbar\": {\"outlinewidth\": 0, \"ticks\": \"\"}}, \"type\": \"scatter\"}], \"scatter3d\": [{\"line\": {\"colorbar\": {\"outlinewidth\": 0, \"ticks\": \"\"}}, \"marker\": {\"colorbar\": {\"outlinewidth\": 0, \"ticks\": \"\"}}, \"type\": \"scatter3d\"}], \"scattercarpet\": [{\"marker\": {\"colorbar\": {\"outlinewidth\": 0, \"ticks\": \"\"}}, \"type\": \"scattercarpet\"}], \"scattergeo\": [{\"marker\": {\"colorbar\": {\"outlinewidth\": 0, \"ticks\": \"\"}}, \"type\": \"scattergeo\"}], \"scattergl\": [{\"marker\": {\"colorbar\": {\"outlinewidth\": 0, \"ticks\": \"\"}}, \"type\": \"scattergl\"}], \"scattermapbox\": [{\"marker\": {\"colorbar\": {\"outlinewidth\": 0, \"ticks\": \"\"}}, \"type\": \"scattermapbox\"}], \"scatterpolar\": [{\"marker\": {\"colorbar\": {\"outlinewidth\": 0, \"ticks\": \"\"}}, \"type\": \"scatterpolar\"}], \"scatterpolargl\": [{\"marker\": {\"colorbar\": {\"outlinewidth\": 0, \"ticks\": \"\"}}, \"type\": \"scatterpolargl\"}], \"scatterternary\": [{\"marker\": {\"colorbar\": {\"outlinewidth\": 0, \"ticks\": \"\"}}, \"type\": \"scatterternary\"}], \"surface\": [{\"colorbar\": {\"outlinewidth\": 0, \"ticks\": \"\"}, \"colorscale\": [[0.0, \"#0d0887\"], [0.1111111111111111, \"#46039f\"], [0.2222222222222222, \"#7201a8\"], [0.3333333333333333, \"#9c179e\"], [0.4444444444444444, \"#bd3786\"], [0.5555555555555556, \"#d8576b\"], [0.6666666666666666, \"#ed7953\"], [0.7777777777777778, \"#fb9f3a\"], [0.8888888888888888, \"#fdca26\"], [1.0, \"#f0f921\"]], \"type\": \"surface\"}], \"table\": [{\"cells\": {\"fill\": {\"color\": \"#EBF0F8\"}, \"line\": {\"color\": \"white\"}}, \"header\": {\"fill\": {\"color\": \"#C8D4E3\"}, \"line\": {\"color\": \"white\"}}, \"type\": \"table\"}]}, \"layout\": {\"annotationdefaults\": {\"arrowcolor\": \"#2a3f5f\", \"arrowhead\": 0, \"arrowwidth\": 1}, \"autotypenumbers\": \"strict\", \"coloraxis\": {\"colorbar\": {\"outlinewidth\": 0, \"ticks\": \"\"}}, \"colorscale\": {\"diverging\": [[0, \"#8e0152\"], [0.1, \"#c51b7d\"], [0.2, \"#de77ae\"], [0.3, \"#f1b6da\"], [0.4, \"#fde0ef\"], [0.5, \"#f7f7f7\"], [0.6, \"#e6f5d0\"], [0.7, \"#b8e186\"], [0.8, \"#7fbc41\"], [0.9, \"#4d9221\"], [1, \"#276419\"]], \"sequential\": [[0.0, \"#0d0887\"], [0.1111111111111111, \"#46039f\"], [0.2222222222222222, \"#7201a8\"], [0.3333333333333333, \"#9c179e\"], [0.4444444444444444, \"#bd3786\"], [0.5555555555555556, \"#d8576b\"], [0.6666666666666666, \"#ed7953\"], [0.7777777777777778, \"#fb9f3a\"], [0.8888888888888888, \"#fdca26\"], [1.0, \"#f0f921\"]], \"sequentialminus\": [[0.0, \"#0d0887\"], [0.1111111111111111, \"#46039f\"], [0.2222222222222222, \"#7201a8\"], [0.3333333333333333, \"#9c179e\"], [0.4444444444444444, \"#bd3786\"], [0.5555555555555556, \"#d8576b\"], [0.6666666666666666, \"#ed7953\"], [0.7777777777777778, \"#fb9f3a\"], [0.8888888888888888, \"#fdca26\"], [1.0, \"#f0f921\"]]}, \"colorway\": [\"#636efa\", \"#EF553B\", \"#00cc96\", \"#ab63fa\", \"#FFA15A\", \"#19d3f3\", \"#FF6692\", \"#B6E880\", \"#FF97FF\", \"#FECB52\"], \"font\": {\"color\": \"#2a3f5f\"}, \"geo\": {\"bgcolor\": \"white\", \"lakecolor\": \"white\", \"landcolor\": \"#E5ECF6\", \"showlakes\": true, \"showland\": true, \"subunitcolor\": \"white\"}, \"hoverlabel\": {\"align\": \"left\"}, \"hovermode\": \"closest\", \"mapbox\": {\"style\": \"light\"}, \"paper_bgcolor\": \"white\", \"plot_bgcolor\": \"#E5ECF6\", \"polar\": {\"angularaxis\": {\"gridcolor\": \"white\", \"linecolor\": \"white\", \"ticks\": \"\"}, \"bgcolor\": \"#E5ECF6\", \"radialaxis\": {\"gridcolor\": \"white\", \"linecolor\": \"white\", \"ticks\": \"\"}}, \"scene\": {\"xaxis\": {\"backgroundcolor\": \"#E5ECF6\", \"gridcolor\": \"white\", \"gridwidth\": 2, \"linecolor\": \"white\", \"showbackground\": true, \"ticks\": \"\", \"zerolinecolor\": \"white\"}, \"yaxis\": {\"backgroundcolor\": \"#E5ECF6\", \"gridcolor\": \"white\", \"gridwidth\": 2, \"linecolor\": \"white\", \"showbackground\": true, \"ticks\": \"\", \"zerolinecolor\": \"white\"}, \"zaxis\": {\"backgroundcolor\": \"#E5ECF6\", \"gridcolor\": \"white\", \"gridwidth\": 2, \"linecolor\": \"white\", \"showbackground\": true, \"ticks\": \"\", \"zerolinecolor\": \"white\"}}, \"shapedefaults\": {\"line\": {\"color\": \"#2a3f5f\"}}, \"ternary\": {\"aaxis\": {\"gridcolor\": \"white\", \"linecolor\": \"white\", \"ticks\": \"\"}, \"baxis\": {\"gridcolor\": \"white\", \"linecolor\": \"white\", \"ticks\": \"\"}, \"bgcolor\": \"#E5ECF6\", \"caxis\": {\"gridcolor\": \"white\", \"linecolor\": \"white\", \"ticks\": \"\"}}, \"title\": {\"x\": 0.05}, \"xaxis\": {\"automargin\": true, \"gridcolor\": \"white\", \"linecolor\": \"white\", \"ticks\": \"\", \"title\": {\"standoff\": 15}, \"zerolinecolor\": \"white\", \"zerolinewidth\": 2}, \"yaxis\": {\"automargin\": true, \"gridcolor\": \"white\", \"linecolor\": \"white\", \"ticks\": \"\", \"title\": {\"standoff\": 15}, \"zerolinecolor\": \"white\", \"zerolinewidth\": 2}}}, \"width\": 1200},                        {\"responsive\": true}                    ).then(function(){\n",
       "                            \n",
       "var gd = document.getElementById('417774a3-8d07-4b15-a029-a4655e7c07d5');\n",
       "var x = new MutationObserver(function (mutations, observer) {{\n",
       "        var display = window.getComputedStyle(gd).display;\n",
       "        if (!display || display === 'none') {{\n",
       "            console.log([gd, 'removed!']);\n",
       "            Plotly.purge(gd);\n",
       "            observer.disconnect();\n",
       "        }}\n",
       "}});\n",
       "\n",
       "// Listen for the removal of the full notebook cells\n",
       "var notebookContainer = gd.closest('#notebook-container');\n",
       "if (notebookContainer) {{\n",
       "    x.observe(notebookContainer, {childList: true});\n",
       "}}\n",
       "\n",
       "// Listen for the clearing of the current output cell\n",
       "var outputEl = gd.closest('.output');\n",
       "if (outputEl) {{\n",
       "    x.observe(outputEl, {childList: true});\n",
       "}}\n",
       "\n",
       "                        })                };                });            </script>        </div>"
      ]
     },
     "metadata": {},
     "output_type": "display_data"
    }
   ],
   "source": [
    "import plotly.express as px\n",
    "\n",
    "historico.loc[:,'undersample'] = historico.loc[:,'undersample']*1\n",
    "\n",
    "fig = px.parallel_coordinates(historico, color=\"auc\", width = 1200)\n",
    "fig.show()"
   ]
  },
  {
   "cell_type": "code",
   "execution_count": 19,
   "metadata": {
    "execution": {
     "iopub.execute_input": "2021-03-21T03:27:49.875255Z",
     "iopub.status.busy": "2021-03-21T03:27:49.874465Z",
     "iopub.status.idle": "2021-03-21T03:27:49.878621Z",
     "shell.execute_reply": "2021-03-21T03:27:49.878075Z"
    },
    "papermill": {
     "duration": 0.086183,
     "end_time": "2021-03-21T03:27:49.878765",
     "exception": false,
     "start_time": "2021-03-21T03:27:49.792582",
     "status": "completed"
    },
    "tags": []
   },
   "outputs": [],
   "source": [
    "if hiperparametros_selecionados['undersample'] == True:\n",
    "    undersample = RandomUnderSampler(sampling_strategy='majority')\n",
    "else:\n",
    "    undersample = None"
   ]
  },
  {
   "cell_type": "code",
   "execution_count": 20,
   "metadata": {
    "execution": {
     "iopub.execute_input": "2021-03-21T03:27:50.036374Z",
     "iopub.status.busy": "2021-03-21T03:27:50.035652Z",
     "iopub.status.idle": "2021-03-21T03:27:50.043094Z",
     "shell.execute_reply": "2021-03-21T03:27:50.042525Z"
    },
    "papermill": {
     "duration": 0.086945,
     "end_time": "2021-03-21T03:27:50.043245",
     "exception": false,
     "start_time": "2021-03-21T03:27:49.956300",
     "status": "completed"
    },
    "tags": []
   },
   "outputs": [],
   "source": [
    "clf = LGBMClassifier(**hiperparametros_selecionados['clf'],\n",
    "                     random_state = 42, \n",
    "                     #device = \"gpu\", \n",
    "                     learning_rate = 0.05,\n",
    "                     n_estimators = 20000)\n",
    "\n",
    "pipe = Pipeline([('undersample', undersample),\n",
    "                 ('clf', clf) ])\n",
    "\n",
    "eval_set=(X_val,y_val)"
   ]
  },
  {
   "cell_type": "code",
   "execution_count": 21,
   "metadata": {
    "execution": {
     "iopub.execute_input": "2021-03-21T03:27:50.207211Z",
     "iopub.status.busy": "2021-03-21T03:27:50.206475Z",
     "iopub.status.idle": "2021-03-21T03:28:09.709647Z",
     "shell.execute_reply": "2021-03-21T03:28:09.711222Z"
    },
    "papermill": {
     "duration": 19.590752,
     "end_time": "2021-03-21T03:28:09.711509",
     "exception": false,
     "start_time": "2021-03-21T03:27:50.120757",
     "status": "completed"
    },
    "tags": []
   },
   "outputs": [
    {
     "name": "stderr",
     "output_type": "stream",
     "text": [
      "/opt/conda/lib/python3.7/site-packages/lightgbm/basic.py:1286: UserWarning:\n",
      "\n",
      "Overriding the parameters from Reference Dataset.\n",
      "\n",
      "/opt/conda/lib/python3.7/site-packages/lightgbm/basic.py:1098: UserWarning:\n",
      "\n",
      "categorical_column in param dict is overridden.\n",
      "\n"
     ]
    },
    {
     "name": "stdout",
     "output_type": "stream",
     "text": [
      "CPU times: user 1min 15s, sys: 516 ms, total: 1min 16s\n",
      "Wall time: 19.5 s\n"
     ]
    }
   ],
   "source": [
    "%%time\n",
    "\n",
    "final_fit = pipe.fit(X_train, y_train,\n",
    "                     clf__early_stopping_rounds=200,\n",
    "                     clf__eval_metric='auc', # logloss\n",
    "                     clf__verbose=False,\n",
    "                     clf__eval_set=eval_set\n",
    "                    )"
   ]
  },
  {
   "cell_type": "code",
   "execution_count": 22,
   "metadata": {
    "execution": {
     "iopub.execute_input": "2021-03-21T03:28:09.885658Z",
     "iopub.status.busy": "2021-03-21T03:28:09.884673Z",
     "iopub.status.idle": "2021-03-21T03:28:11.468575Z",
     "shell.execute_reply": "2021-03-21T03:28:11.469106Z"
    },
    "papermill": {
     "duration": 1.664276,
     "end_time": "2021-03-21T03:28:11.469298",
     "exception": false,
     "start_time": "2021-03-21T03:28:09.805022",
     "status": "completed"
    },
    "tags": []
   },
   "outputs": [
    {
     "name": "stdout",
     "output_type": "stream",
     "text": [
      "Baseline: 0.8921210472254326\n",
      "Tunning: 0.8955902615279417\n"
     ]
    }
   ],
   "source": [
    "predictions=final_fit.predict_proba(X_val)[:,1]\n",
    "\n",
    "auc=roc_auc_score(y_val,predictions)\n",
    "\n",
    "print(f'Baseline: {auc_baseline}')\n",
    "print(f'Tunning: {auc}')"
   ]
  },
  {
   "cell_type": "code",
   "execution_count": 23,
   "metadata": {
    "execution": {
     "iopub.execute_input": "2021-03-21T03:28:11.630877Z",
     "iopub.status.busy": "2021-03-21T03:28:11.630184Z",
     "iopub.status.idle": "2021-03-21T03:28:17.583148Z",
     "shell.execute_reply": "2021-03-21T03:28:17.582361Z"
    },
    "papermill": {
     "duration": 6.036987,
     "end_time": "2021-03-21T03:28:17.583304",
     "exception": false,
     "start_time": "2021-03-21T03:28:11.546317",
     "status": "completed"
    },
    "tags": []
   },
   "outputs": [],
   "source": [
    "submission.loc[:, 'target'] = final_fit.predict_proba(X_test)[:,1]\n",
    "submission.to_csv('submission.csv', index = False)"
   ]
  }
 ],
 "metadata": {
  "kernelspec": {
   "display_name": "Python 3",
   "language": "python",
   "name": "python3"
  },
  "language_info": {
   "codemirror_mode": {
    "name": "ipython",
    "version": 3
   },
   "file_extension": ".py",
   "mimetype": "text/x-python",
   "name": "python",
   "nbconvert_exporter": "python",
   "pygments_lexer": "ipython3",
   "version": "3.7.9"
  },
  "papermill": {
   "default_parameters": {},
   "duration": 13945.685749,
   "end_time": "2021-03-21T03:28:18.987732",
   "environment_variables": {},
   "exception": null,
   "input_path": "__notebook__.ipynb",
   "output_path": "__notebook__.ipynb",
   "parameters": {},
   "start_time": "2021-03-20T23:35:53.301983",
   "version": "2.2.2"
  }
 },
 "nbformat": 4,
 "nbformat_minor": 4
}
