{
 "cells": [
  {
   "cell_type": "code",
   "execution_count": 1,
   "metadata": {},
   "outputs": [],
   "source": [
    "import numpy as np\n",
    "import pandas as pd\n",
    "import pandas_profiling\n",
    "\n",
    "from sklearn.model_selection import train_test_split, StratifiedKFold\n",
    "from sklearn.preprocessing import LabelEncoder, OrdinalEncoder\n",
    "from sklearn.compose import ColumnTransformer\n",
    "from sklearn.pipeline import Pipeline\n",
    "from sklearn.metrics import roc_auc_score, average_precision_score, log_loss\n",
    "\n",
    "from sklearn.tree import DecisionTreeClassifier\n",
    "from sklearn.ensemble import RandomForestClassifier\n",
    "from xgboost import XGBClassifier\n",
    "from lightgbm import LGBMClassifier\n",
    "from catboost import CatBoostClassifier"
   ]
  },
  {
   "cell_type": "code",
   "execution_count": 2,
   "metadata": {},
   "outputs": [],
   "source": [
    "def evalue_model(modelo, target, base, nome_modelo):\n",
    "    \n",
    "    yhat_prob = [x[1] for x in modelo.predict_proba(base)]\n",
    "    \n",
    "    dicionario = {'modelo': nome_modelo,\n",
    "                  'auc': roc_auc_score(y_true = target, y_score = yhat_prob),\n",
    "                  'aucpr': average_precision_score(y_true = target, y_score = yhat_prob),\n",
    "                  'logloss': log_loss(target, yhat_prob)}\n",
    "    \n",
    "    ## retorna o dicionario\n",
    "    return dicionario"
   ]
  },
  {
   "cell_type": "code",
   "execution_count": 3,
   "metadata": {},
   "outputs": [],
   "source": [
    "df = pd.read_csv('train.csv.zip')"
   ]
  },
  {
   "cell_type": "code",
   "execution_count": 4,
   "metadata": {},
   "outputs": [],
   "source": [
    "#profile = df.profile_report(title=\"Profile train.csv\", explorative=True)\n",
    "#profile.to_file(output_file=\"profile_report.html\")"
   ]
  },
  {
   "cell_type": "code",
   "execution_count": 5,
   "metadata": {},
   "outputs": [],
   "source": [
    "categorical_cols = df.columns[df.dtypes == \"object\"].tolist()\n",
    "\n",
    "to_remove = [\"id\"]\n",
    "\n",
    "high_cardinality = [\"cat5\", \"cat7\", \"cat8\", \"cat10\"]"
   ]
  },
  {
   "cell_type": "code",
   "execution_count": 6,
   "metadata": {},
   "outputs": [],
   "source": [
    "df.drop(columns = to_remove, inplace = True)"
   ]
  },
  {
   "cell_type": "code",
   "execution_count": 7,
   "metadata": {
    "scrolled": true
   },
   "outputs": [],
   "source": [
    "X = df.drop('target', axis=1)\n",
    "y = df['target']\n",
    "\n",
    "X_train, X_test, y_train, y_test = train_test_split(X, y, test_size=0.3, random_state=42, stratify=y)"
   ]
  },
  {
   "cell_type": "code",
   "execution_count": 8,
   "metadata": {},
   "outputs": [],
   "source": [
    "categorical_transformer = Pipeline(steps=[\n",
    "    ('OrdinalEncoder', OrdinalEncoder(handle_unknown = \"use_encoded_value\", unknown_value = 999))\n",
    "])"
   ]
  },
  {
   "cell_type": "code",
   "execution_count": 9,
   "metadata": {},
   "outputs": [],
   "source": [
    "preprocessor = ColumnTransformer(\n",
    "transformers=[\n",
    "#('num', numerical_transformer, numerical_cols),\n",
    "('cat', categorical_transformer, categorical_cols)\n",
    "])"
   ]
  },
  {
   "cell_type": "code",
   "execution_count": 10,
   "metadata": {},
   "outputs": [
    {
     "name": "stdout",
     "output_type": "stream",
     "text": [
      "Running DecisionTreeClassifier\n",
      "Running RandomForestClassifier\n",
      "Running XGBClassifier\n",
      "Running LGBMClassifier\n",
      "Running CatBoostClassifier\n",
      "CPU times: user 5min 17s, sys: 22.3 s, total: 5min 39s\n",
      "Wall time: 2min 52s\n"
     ]
    }
   ],
   "source": [
    "%%time\n",
    "classifiers = {\n",
    "    \"DecisionTreeClassifier\": DecisionTreeClassifier(random_state = 42),\n",
    "    \"RandomForestClassifier\": RandomForestClassifier(random_state = 42),\n",
    "    \"XGBClassifier\": XGBClassifier(random_state = 42),\n",
    "    \"LGBMClassifier\": LGBMClassifier(random_state = 42),\n",
    "    \"CatBoostClassifier\": CatBoostClassifier(random_state = 42, verbose = False)\n",
    "}\n",
    "\n",
    "# df para armazenar metricas no teste\n",
    "results = pd.DataFrame(columns= [\"modelo\", \"auc\", \"aucpr\", \"logloss\"])\n",
    "\n",
    "# df para armazenar as predicoes\n",
    "#pred_df = pd.DataFrame(y_test,index=None)\n",
    "\n",
    "for key, classifier in classifiers.items():\n",
    "    print(\"Running\", key)\n",
    "    pipe = Pipeline([('preprocessor', preprocessor),\n",
    "                 ('clf', classifier)])\n",
    "    pipe          = pipe.fit(X_train, y_train)\n",
    "    #pred_df[key]   = model.predict_proba(X_test)[:,1]\n",
    "    results        = results.append(pd.DataFrame(evalue_model(pipe, y_test, X_test, key), index=[0]))"
   ]
  },
  {
   "cell_type": "code",
   "execution_count": 11,
   "metadata": {
    "scrolled": true
   },
   "outputs": [
    {
     "data": {
      "text/html": [
       "<div>\n",
       "<style scoped>\n",
       "    .dataframe tbody tr th:only-of-type {\n",
       "        vertical-align: middle;\n",
       "    }\n",
       "\n",
       "    .dataframe tbody tr th {\n",
       "        vertical-align: top;\n",
       "    }\n",
       "\n",
       "    .dataframe thead th {\n",
       "        text-align: right;\n",
       "    }\n",
       "</style>\n",
       "<table border=\"1\" class=\"dataframe\">\n",
       "  <thead>\n",
       "    <tr style=\"text-align: right;\">\n",
       "      <th></th>\n",
       "      <th>modelo</th>\n",
       "      <th>auc</th>\n",
       "      <th>aucpr</th>\n",
       "      <th>logloss</th>\n",
       "    </tr>\n",
       "  </thead>\n",
       "  <tbody>\n",
       "    <tr>\n",
       "      <th>0</th>\n",
       "      <td>DecisionTreeClassifier</td>\n",
       "      <td>0.712094</td>\n",
       "      <td>0.450370</td>\n",
       "      <td>7.370102</td>\n",
       "    </tr>\n",
       "    <tr>\n",
       "      <th>0</th>\n",
       "      <td>RandomForestClassifier</td>\n",
       "      <td>0.859432</td>\n",
       "      <td>0.731141</td>\n",
       "      <td>0.551236</td>\n",
       "    </tr>\n",
       "    <tr>\n",
       "      <th>0</th>\n",
       "      <td>XGBClassifier</td>\n",
       "      <td>0.882735</td>\n",
       "      <td>0.771407</td>\n",
       "      <td>0.360983</td>\n",
       "    </tr>\n",
       "    <tr>\n",
       "      <th>0</th>\n",
       "      <td>LGBMClassifier</td>\n",
       "      <td>0.881049</td>\n",
       "      <td>0.768800</td>\n",
       "      <td>0.363469</td>\n",
       "    </tr>\n",
       "    <tr>\n",
       "      <th>0</th>\n",
       "      <td>CatBoostClassifier</td>\n",
       "      <td>0.883906</td>\n",
       "      <td>0.774461</td>\n",
       "      <td>0.358983</td>\n",
       "    </tr>\n",
       "  </tbody>\n",
       "</table>\n",
       "</div>"
      ],
      "text/plain": [
       "                   modelo       auc     aucpr   logloss\n",
       "0  DecisionTreeClassifier  0.712094  0.450370  7.370102\n",
       "0  RandomForestClassifier  0.859432  0.731141  0.551236\n",
       "0           XGBClassifier  0.882735  0.771407  0.360983\n",
       "0          LGBMClassifier  0.881049  0.768800  0.363469\n",
       "0      CatBoostClassifier  0.883906  0.774461  0.358983"
      ]
     },
     "execution_count": 11,
     "metadata": {},
     "output_type": "execute_result"
    }
   ],
   "source": [
    "results"
   ]
  },
  {
   "cell_type": "code",
   "execution_count": null,
   "metadata": {},
   "outputs": [],
   "source": [
    "yhat_prob = [x[1] for x in modelo.predict_proba(base)]"
   ]
  },
  {
   "cell_type": "code",
   "execution_count": null,
   "metadata": {},
   "outputs": [],
   "source": []
  },
  {
   "cell_type": "code",
   "execution_count": null,
   "metadata": {},
   "outputs": [],
   "source": []
  }
 ],
 "metadata": {
  "kernelspec": {
   "display_name": "Python 3",
   "language": "python",
   "name": "python3"
  },
  "language_info": {
   "codemirror_mode": {
    "name": "ipython",
    "version": 3
   },
   "file_extension": ".py",
   "mimetype": "text/x-python",
   "name": "python",
   "nbconvert_exporter": "python",
   "pygments_lexer": "ipython3",
   "version": "3.8.5"
  }
 },
 "nbformat": 4,
 "nbformat_minor": 4
}
