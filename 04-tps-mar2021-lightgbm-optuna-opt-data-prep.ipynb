{
 "cells": [
  {
   "cell_type": "markdown",
   "metadata": {
    "papermill": {
     "duration": 0.021212,
     "end_time": "2021-03-27T21:16:16.309936",
     "exception": false,
     "start_time": "2021-03-27T21:16:16.288724",
     "status": "completed"
    },
    "tags": []
   },
   "source": [
    "# Problem definition\n",
    "\n",
    "\n",
    "-  Details:\n",
    "\n",
    "According to the description: \"The dataset is used for this competition is synthetic but based on a real dataset and generated using a CTGAN. The original dataset deals with predicting the amount of an insurance claim. Although the features are anonymized, they have properties relating to real-world features.\"\n",
    "\n",
    "-  Solution:\n",
    "\n",
    "A LightGBM model will be adjusted using Bayesian optimization with lib [optuna](https://optuna.readthedocs.io/en/stable/) (optimize hyperparameters and pre processing). The goal will be to maximize area under the ROC curve\n",
    "\n",
    "<p align=\"right\"><span style=\"color:firebrick\">Dont forget to upvote if the notebook was useful! <i class=\"fas fa-hand-peace\"></i></span> </p>"
   ]
  },
  {
   "cell_type": "markdown",
   "metadata": {
    "papermill": {
     "duration": 0.019068,
     "end_time": "2021-03-27T21:16:16.349188",
     "exception": false,
     "start_time": "2021-03-27T21:16:16.330120",
     "status": "completed"
    },
    "tags": []
   },
   "source": [
    "# Import dependencies"
   ]
  },
  {
   "cell_type": "code",
   "execution_count": 1,
   "metadata": {
    "_cell_guid": "b1076dfc-b9ad-4769-8c92-a6c4dae69d19",
    "_uuid": "8f2839f25d086af736a60e9eeb907d3b93b6e0e5",
    "execution": {
     "iopub.execute_input": "2021-03-27T21:16:16.397219Z",
     "iopub.status.busy": "2021-03-27T21:16:16.396454Z",
     "iopub.status.idle": "2021-03-27T21:16:18.854989Z",
     "shell.execute_reply": "2021-03-27T21:16:18.853449Z"
    },
    "papermill": {
     "duration": 2.486635,
     "end_time": "2021-03-27T21:16:18.855277",
     "exception": false,
     "start_time": "2021-03-27T21:16:16.368642",
     "status": "completed"
    },
    "tags": []
   },
   "outputs": [
    {
     "data": {
      "text/html": [
       "<style type='text/css'>\n",
       ".datatable table.frame { margin-bottom: 0; }\n",
       ".datatable table.frame thead { border-bottom: none; }\n",
       ".datatable table.frame tr.coltypes td {  color: #FFFFFF;  line-height: 6px;  padding: 0 0.5em;}\n",
       ".datatable .bool    { background: #DDDD99; }\n",
       ".datatable .object  { background: #565656; }\n",
       ".datatable .int     { background: #5D9E5D; }\n",
       ".datatable .float   { background: #4040CC; }\n",
       ".datatable .str     { background: #CC4040; }\n",
       ".datatable .row_index {  background: var(--jp-border-color3);  border-right: 1px solid var(--jp-border-color0);  color: var(--jp-ui-font-color3);  font-size: 9px;}\n",
       ".datatable .frame tr.coltypes .row_index {  background: var(--jp-border-color0);}\n",
       ".datatable th:nth-child(2) { padding-left: 12px; }\n",
       ".datatable .hellipsis {  color: var(--jp-cell-editor-border-color);}\n",
       ".datatable .vellipsis {  background: var(--jp-layout-color0);  color: var(--jp-cell-editor-border-color);}\n",
       ".datatable .na {  color: var(--jp-cell-editor-border-color);  font-size: 80%;}\n",
       ".datatable .footer { font-size: 9px; }\n",
       ".datatable .frame_dimensions {  background: var(--jp-border-color3);  border-top: 1px solid var(--jp-border-color0);  color: var(--jp-ui-font-color3);  display: inline-block;  opacity: 0.6;  padding: 1px 10px 1px 5px;}\n",
       "</style>\n"
      ],
      "text/plain": [
       "<IPython.core.display.HTML object>"
      ]
     },
     "metadata": {},
     "output_type": "display_data"
    }
   ],
   "source": [
    "import numpy as np\n",
    "import pandas as pd\n",
    "\n",
    "from lightgbm import LGBMClassifier\n",
    "\n",
    "from sklearn.preprocessing import PowerTransformer\n",
    "from sklearn.compose import ColumnTransformer\n",
    "from sklearn.model_selection import StratifiedKFold, KFold\n",
    "from sklearn.metrics import roc_auc_score\n",
    "\n",
    "import optuna\n",
    "from optuna.visualization import plot_optimization_history, plot_param_importances\n",
    "from optuna.integration import LightGBMPruningCallback\n",
    "\n",
    "from imblearn.pipeline import Pipeline\n",
    "from imblearn.under_sampling import RandomUnderSampler\n",
    "from imblearn.over_sampling import ADASYN\n",
    "from imblearn.under_sampling import OneSidedSelection, NeighbourhoodCleaningRule, TomekLinks\n",
    "\n",
    "\n",
    "pd.set_option('display.max_columns', 1000)\n",
    "pd.set_option('display.max_rows', 20)"
   ]
  },
  {
   "cell_type": "markdown",
   "metadata": {
    "papermill": {
     "duration": 0.029839,
     "end_time": "2021-03-27T21:16:18.906966",
     "exception": false,
     "start_time": "2021-03-27T21:16:18.877127",
     "status": "completed"
    },
    "tags": []
   },
   "source": [
    "# Prepare data"
   ]
  },
  {
   "cell_type": "code",
   "execution_count": 2,
   "metadata": {
    "execution": {
     "iopub.execute_input": "2021-03-27T21:16:18.964148Z",
     "iopub.status.busy": "2021-03-27T21:16:18.963223Z",
     "iopub.status.idle": "2021-03-27T21:16:23.543846Z",
     "shell.execute_reply": "2021-03-27T21:16:23.542688Z"
    },
    "papermill": {
     "duration": 4.609803,
     "end_time": "2021-03-27T21:16:23.544017",
     "exception": false,
     "start_time": "2021-03-27T21:16:18.934214",
     "status": "completed"
    },
    "tags": []
   },
   "outputs": [],
   "source": [
    "submission = pd.read_csv('../input/tabular-playground-series-mar-2021/sample_submission.csv')\n",
    "X_train = pd.read_csv('../input/tabular-playground-series-mar-2021/train.csv', index_col=0)\n",
    "X_test = pd.read_csv('../input/tabular-playground-series-mar-2021/test.csv', index_col=0)"
   ]
  },
  {
   "cell_type": "code",
   "execution_count": 3,
   "metadata": {
    "execution": {
     "iopub.execute_input": "2021-03-27T21:16:23.598946Z",
     "iopub.status.busy": "2021-03-27T21:16:23.598208Z",
     "iopub.status.idle": "2021-03-27T21:16:25.050092Z",
     "shell.execute_reply": "2021-03-27T21:16:25.049333Z"
    },
    "papermill": {
     "duration": 1.485358,
     "end_time": "2021-03-27T21:16:25.050289",
     "exception": false,
     "start_time": "2021-03-27T21:16:23.564931",
     "status": "completed"
    },
    "tags": []
   },
   "outputs": [],
   "source": [
    "for col in X_train.columns[X_train.dtypes == \"object\"].tolist():\n",
    "    X_train[col] = X_train[col].astype('category')\n",
    "    \n",
    "for col in X_test.columns[X_test.dtypes == \"object\"].tolist():\n",
    "    X_test[col] = X_test[col].astype('category')"
   ]
  },
  {
   "cell_type": "code",
   "execution_count": 4,
   "metadata": {
    "execution": {
     "iopub.execute_input": "2021-03-27T21:16:25.104475Z",
     "iopub.status.busy": "2021-03-27T21:16:25.103445Z",
     "iopub.status.idle": "2021-03-27T21:16:25.109637Z",
     "shell.execute_reply": "2021-03-27T21:16:25.108865Z"
    },
    "papermill": {
     "duration": 0.039517,
     "end_time": "2021-03-27T21:16:25.109833",
     "exception": false,
     "start_time": "2021-03-27T21:16:25.070316",
     "status": "completed"
    },
    "tags": []
   },
   "outputs": [],
   "source": [
    "X = X_train.drop('target', axis=1)\n",
    "y = X_train['target']\n",
    "\n",
    "K = 5 # cross validation\n",
    "\n",
    "fixedparams = {'random_state': 42,\n",
    "               'n_estimators': 20000, \n",
    "               'learning_rate': 0.1, \n",
    "               'metric': 'auc', \n",
    "               'verbose':-1   \n",
    "}"
   ]
  },
  {
   "cell_type": "markdown",
   "metadata": {
    "papermill": {
     "duration": 0.019321,
     "end_time": "2021-03-27T21:16:25.148909",
     "exception": false,
     "start_time": "2021-03-27T21:16:25.129588",
     "status": "completed"
    },
    "tags": []
   },
   "source": [
    "# Custom Functions"
   ]
  },
  {
   "cell_type": "code",
   "execution_count": 5,
   "metadata": {
    "execution": {
     "iopub.execute_input": "2021-03-27T21:16:25.197267Z",
     "iopub.status.busy": "2021-03-27T21:16:25.196295Z",
     "iopub.status.idle": "2021-03-27T21:16:25.199604Z",
     "shell.execute_reply": "2021-03-27T21:16:25.199002Z"
    },
    "papermill": {
     "duration": 0.031229,
     "end_time": "2021-03-27T21:16:25.199795",
     "exception": false,
     "start_time": "2021-03-27T21:16:25.168566",
     "status": "completed"
    },
    "tags": []
   },
   "outputs": [],
   "source": [
    "def model_instance(hyperparams, fixedparams):\n",
    "\n",
    "    clf = LGBMClassifier(**hyperparams['clf'], **fixedparams) \n",
    "    \n",
    "    if hyperparams['resample'] == 'random':\n",
    "        resample = RandomUnderSampler(sampling_strategy='majority')\n",
    "    else:\n",
    "        resample = None\n",
    "        \n",
    "    if hyperparams['power'] == True:\n",
    "        cont = [col for col in X_train.columns if 'cont' in col]\n",
    "        numeric_transformer = PowerTransformer(method='yeo-johnson',\n",
    "                                               standardize=True)\n",
    "\n",
    "        preprocessor = ColumnTransformer(\n",
    "            transformers=[\n",
    "                ('num', numeric_transformer, cont)])\n",
    "    else:\n",
    "        preprocessor = None\n",
    "    \n",
    "    pipe = Pipeline([('preprocessor', preprocessor),\n",
    "                     ('resample', resample),\n",
    "                     ('clf', clf) ])\n",
    "    return pipe"
   ]
  },
  {
   "cell_type": "code",
   "execution_count": 6,
   "metadata": {
    "execution": {
     "iopub.execute_input": "2021-03-27T21:16:25.247408Z",
     "iopub.status.busy": "2021-03-27T21:16:25.246172Z",
     "iopub.status.idle": "2021-03-27T21:16:25.249430Z",
     "shell.execute_reply": "2021-03-27T21:16:25.249952Z"
    },
    "papermill": {
     "duration": 0.030932,
     "end_time": "2021-03-27T21:16:25.250174",
     "exception": false,
     "start_time": "2021-03-27T21:16:25.219242",
     "status": "completed"
    },
    "tags": []
   },
   "outputs": [],
   "source": [
    "def fit_with_stop(pipe, X, y, X_val, y_val, trial, hyperparams):\n",
    "    \n",
    "    if(trial != 0):\n",
    "        pruning_callback = [LightGBMPruningCallback(trial, 'auc')]\n",
    "    else: \n",
    "        pruning_callback = None\n",
    "    \n",
    "    if hyperparams['power'] == True:\n",
    "        pipe_interim = pipe.named_steps.preprocessor.fit(X)\n",
    "        X_val = pipe_interim.transform(X_val)\n",
    "    \n",
    "    pipe.fit(X, y,\n",
    "              clf__eval_set=(X_val, y_val),\n",
    "              clf__early_stopping_rounds=100,\n",
    "              clf__verbose=0,\n",
    "              clf__eval_metric=\"auc\",\n",
    "              clf__callbacks=pruning_callback)\n",
    "    return pipe"
   ]
  },
  {
   "cell_type": "code",
   "execution_count": 7,
   "metadata": {
    "execution": {
     "iopub.execute_input": "2021-03-27T21:16:25.292485Z",
     "iopub.status.busy": "2021-03-27T21:16:25.291841Z",
     "iopub.status.idle": "2021-03-27T21:16:25.297948Z",
     "shell.execute_reply": "2021-03-27T21:16:25.297401Z"
    },
    "papermill": {
     "duration": 0.02864,
     "end_time": "2021-03-27T21:16:25.298114",
     "exception": false,
     "start_time": "2021-03-27T21:16:25.269474",
     "status": "completed"
    },
    "tags": []
   },
   "outputs": [],
   "source": [
    "def evaluate(model, X, y):\n",
    "\n",
    "    yp = model.predict_proba(X)[:, 1]\n",
    "    auc_score = roc_auc_score(y, yp)\n",
    "    return auc_score"
   ]
  },
  {
   "cell_type": "code",
   "execution_count": 8,
   "metadata": {
    "execution": {
     "iopub.execute_input": "2021-03-27T21:16:25.345935Z",
     "iopub.status.busy": "2021-03-27T21:16:25.345109Z",
     "iopub.status.idle": "2021-03-27T21:16:25.348389Z",
     "shell.execute_reply": "2021-03-27T21:16:25.347865Z"
    },
    "papermill": {
     "duration": 0.03118,
     "end_time": "2021-03-27T21:16:25.348548",
     "exception": false,
     "start_time": "2021-03-27T21:16:25.317368",
     "status": "completed"
    },
    "tags": []
   },
   "outputs": [],
   "source": [
    "def kfold_prediction(X, y, X_test, k, hyperparams, fixedparams):\n",
    "\n",
    "    yp = np.zeros(len(X_test))\n",
    "    \n",
    "    kf = StratifiedKFold(n_splits=k,random_state=42,shuffle=True)\n",
    "    model = model_instance(hyperparams, fixedparams)\n",
    "    \n",
    "    for i, (train_idx, test_idx) in enumerate(kf.split(X, y)):\n",
    "        print(f\"\\n FOLD {i} ...\")\n",
    "        X_train = X.iloc[train_idx]\n",
    "        y_train = y.iloc[train_idx]\n",
    "        X_val = X.iloc[test_idx]\n",
    "        y_val = y.iloc[test_idx]\n",
    "        \n",
    "        model_fit = fit_with_stop(model, X_train, y_train,\n",
    "                                  X_val, y_val, 0, hyperparams)\n",
    "        yp += model_fit.predict_proba(X_test)[:, 1] / k\n",
    "    \n",
    "    return yp"
   ]
  },
  {
   "cell_type": "code",
   "execution_count": 9,
   "metadata": {
    "execution": {
     "iopub.execute_input": "2021-03-27T21:16:25.400888Z",
     "iopub.status.busy": "2021-03-27T21:16:25.400170Z",
     "iopub.status.idle": "2021-03-27T21:16:25.403491Z",
     "shell.execute_reply": "2021-03-27T21:16:25.402923Z"
    },
    "papermill": {
     "duration": 0.035794,
     "end_time": "2021-03-27T21:16:25.403649",
     "exception": false,
     "start_time": "2021-03-27T21:16:25.367855",
     "status": "completed"
    },
    "tags": []
   },
   "outputs": [],
   "source": [
    "def objective(trial):\n",
    "    \n",
    "    global X, y, K, fixedparams\n",
    "\n",
    "    hyperparams = {\n",
    "        'resample': trial.suggest_categorical(\"resample\", [None, 'random']),\n",
    "        'power': trial.suggest_categorical(\"power\", [True, False]),\n",
    "        'clf':{\n",
    "            'boosting_type': trial.suggest_categorical(\"boosting_type\", ['gbdt']),\n",
    "            'num_leaves': trial.suggest_int('num_leaves', 2, 512),\n",
    "            'max_depth': trial.suggest_int('max_depth', 1, 16),\n",
    "               \n",
    "            'max_delta_step': trial.suggest_int('max_delta_step', 1, 10),\n",
    "            ##'max_bin': trial.suggest_int('max_bin', 32, 255),\n",
    "            ##'min_data_in_leaf': trial.suggest_int('min_data_in_leaf', 1, 256),\n",
    "            ##'min_data_in_bin': trial.suggest_int('min_data_in_bin', 1, 256),\n",
    "\n",
    "            'reg_alpha': trial.suggest_float('reg_alpha', 1E-16, 25),\n",
    "            'reg_lambda': trial.suggest_float('reg_lambda', 1E-16, 30),\n",
    "            #'min_split_gain' : trial.suggest_discrete_uniform('min_split_gain', 0, 5, 0.01),\n",
    "            \n",
    "            'colsample_bytree': trial.suggest_float('colsample_bytree', 0.1, 1.0),\n",
    "            #'subsample': trial.suggest_float('subsample ', 0.1, 1.0),\n",
    "            \n",
    "            'cat_smooth': trial.suggest_float('cat_smooth', 1.0, 50.0),\n",
    "            'cat_l2': trial.suggest_int('cat_l2', 1, 20)\n",
    "        }\n",
    "\n",
    "    }\n",
    "    \n",
    "    kf = StratifiedKFold(n_splits=K,random_state=42,shuffle=True)\n",
    "    scores = []\n",
    "    model = model_instance(hyperparams, fixedparams)\n",
    "    \n",
    "    for i, (train_idx, test_idx) in enumerate(kf.split(X, y)):\n",
    "        \n",
    "        X_train = X.iloc[train_idx]\n",
    "        y_train = y.iloc[train_idx]\n",
    "        X_val = X.iloc[test_idx]\n",
    "        y_val = y.iloc[test_idx]\n",
    "        \n",
    "        model_fit = fit_with_stop(model, X_train, y_train, X_val, y_val,\n",
    "                                  trial, hyperparams)\n",
    "        val_score = evaluate(model_fit, X_val, y_val)\n",
    "        scores.append(val_score)\n",
    "    \n",
    "    return np.nanmean(scores)\n"
   ]
  },
  {
   "cell_type": "markdown",
   "metadata": {
    "papermill": {
     "duration": 0.018574,
     "end_time": "2021-03-27T21:16:25.441270",
     "exception": false,
     "start_time": "2021-03-27T21:16:25.422696",
     "status": "completed"
    },
    "tags": []
   },
   "source": [
    "# Model Tuning"
   ]
  },
  {
   "cell_type": "code",
   "execution_count": 10,
   "metadata": {
    "execution": {
     "iopub.execute_input": "2021-03-27T21:16:25.485082Z",
     "iopub.status.busy": "2021-03-27T21:16:25.484351Z",
     "iopub.status.idle": "2021-03-27T21:16:25.494294Z",
     "shell.execute_reply": "2021-03-27T21:16:25.493350Z"
    },
    "papermill": {
     "duration": 0.034324,
     "end_time": "2021-03-27T21:16:25.494501",
     "exception": false,
     "start_time": "2021-03-27T21:16:25.460177",
     "status": "completed"
    },
    "tags": []
   },
   "outputs": [
    {
     "name": "stderr",
     "output_type": "stream",
     "text": [
      "\u001b[32m[I 2021-03-27 21:16:25,482]\u001b[0m A new study created in memory with name: no-name-14360787-2887-4504-8350-cef3d6f31c5b\u001b[0m\n"
     ]
    }
   ],
   "source": [
    "study = optuna.create_study(direction='maximize',\n",
    "                            pruner=optuna.pruners.HyperbandPruner())"
   ]
  },
  {
   "cell_type": "code",
   "execution_count": 11,
   "metadata": {
    "execution": {
     "iopub.execute_input": "2021-03-27T21:16:25.542102Z",
     "iopub.status.busy": "2021-03-27T21:16:25.541367Z",
     "iopub.status.idle": "2021-03-27T21:24:51.898165Z",
     "shell.execute_reply": "2021-03-27T21:24:51.897527Z"
    },
    "papermill": {
     "duration": 506.383376,
     "end_time": "2021-03-27T21:24:51.898366",
     "exception": false,
     "start_time": "2021-03-27T21:16:25.514990",
     "status": "completed"
    },
    "tags": []
   },
   "outputs": [
    {
     "name": "stderr",
     "output_type": "stream",
     "text": [
      "\u001b[32m[I 2021-03-27 21:20:45,571]\u001b[0m Trial 2 finished with value: 0.7724344270768049 and parameters: {'resample': None, 'power': True, 'boosting_type': 'gbdt', 'num_leaves': 119, 'max_depth': 6, 'max_delta_step': 7, 'reg_alpha': 3.5075851542790195, 'reg_lambda': 1.9024185086803547, 'colsample_bytree': 0.11826799202431157, 'cat_smooth': 26.759114389536474, 'cat_l2': 18}. Best is trial 2 with value: 0.7724344270768049.\u001b[0m\n",
      "\u001b[32m[I 2021-03-27 21:21:04,635]\u001b[0m Trial 4 pruned. Trial was pruned at iteration 1.\u001b[0m\n",
      "\u001b[32m[I 2021-03-27 21:21:16,950]\u001b[0m Trial 1 finished with value: 0.893234740663124 and parameters: {'resample': 'random', 'power': False, 'boosting_type': 'gbdt', 'num_leaves': 298, 'max_depth': 10, 'max_delta_step': 3, 'reg_alpha': 14.327957292783971, 'reg_lambda': 23.200043963671302, 'colsample_bytree': 0.6790959028718407, 'cat_smooth': 18.30707793408465, 'cat_l2': 2}. Best is trial 1 with value: 0.893234740663124.\u001b[0m\n",
      "\u001b[32m[I 2021-03-27 21:21:32,561]\u001b[0m Trial 0 finished with value: 0.8946512024364497 and parameters: {'resample': 'random', 'power': False, 'boosting_type': 'gbdt', 'num_leaves': 128, 'max_depth': 7, 'max_delta_step': 5, 'reg_alpha': 16.56792594426734, 'reg_lambda': 11.935291522117284, 'colsample_bytree': 0.22491131139722578, 'cat_smooth': 24.230710626013394, 'cat_l2': 1}. Best is trial 0 with value: 0.8946512024364497.\u001b[0m\n",
      "\u001b[32m[I 2021-03-27 21:21:37,010]\u001b[0m Trial 6 pruned. Trial was pruned at iteration 1.\u001b[0m\n",
      "\u001b[32m[I 2021-03-27 21:23:44,470]\u001b[0m Trial 5 finished with value: 0.8938504690487484 and parameters: {'resample': None, 'power': False, 'boosting_type': 'gbdt', 'num_leaves': 77, 'max_depth': 16, 'max_delta_step': 3, 'reg_alpha': 1.7192107588804906, 'reg_lambda': 7.389299064150859, 'colsample_bytree': 0.5525182135802842, 'cat_smooth': 4.324984057547336, 'cat_l2': 3}. Best is trial 0 with value: 0.8946512024364497.\u001b[0m\n",
      "\u001b[32m[I 2021-03-27 21:24:51,859]\u001b[0m Trial 3 finished with value: 0.8274441261488693 and parameters: {'resample': None, 'power': True, 'boosting_type': 'gbdt', 'num_leaves': 262, 'max_depth': 16, 'max_delta_step': 4, 'reg_alpha': 22.985366931117404, 'reg_lambda': 3.4873438122237435, 'colsample_bytree': 0.7164729415802243, 'cat_smooth': 20.23973785364922, 'cat_l2': 4}. Best is trial 0 with value: 0.8946512024364497.\u001b[0m\n"
     ]
    },
    {
     "name": "stdout",
     "output_type": "stream",
     "text": [
      "CPU times: user 24min 2s, sys: 3min 33s, total: 27min 35s\n",
      "Wall time: 8min 26s\n"
     ]
    }
   ],
   "source": [
    "%%time\n",
    "import warnings\n",
    "warnings.filterwarnings('ignore')\n",
    "\n",
    "study.optimize(objective, timeout=60*5, n_jobs=-1,\n",
    "               n_trials=None, gc_after_trial=False)"
   ]
  },
  {
   "cell_type": "markdown",
   "metadata": {
    "papermill": {
     "duration": 0.022148,
     "end_time": "2021-03-27T21:24:51.944257",
     "exception": false,
     "start_time": "2021-03-27T21:24:51.922109",
     "status": "completed"
    },
    "tags": []
   },
   "source": [
    "# Evaluate optimization"
   ]
  },
  {
   "cell_type": "code",
   "execution_count": 12,
   "metadata": {
    "execution": {
     "iopub.execute_input": "2021-03-27T21:24:52.005893Z",
     "iopub.status.busy": "2021-03-27T21:24:52.005143Z",
     "iopub.status.idle": "2021-03-27T21:24:52.037796Z",
     "shell.execute_reply": "2021-03-27T21:24:52.037106Z"
    },
    "papermill": {
     "duration": 0.069578,
     "end_time": "2021-03-27T21:24:52.037959",
     "exception": false,
     "start_time": "2021-03-27T21:24:51.968381",
     "status": "completed"
    },
    "tags": []
   },
   "outputs": [
    {
     "data": {
      "text/html": [
       "<div>\n",
       "<style scoped>\n",
       "    .dataframe tbody tr th:only-of-type {\n",
       "        vertical-align: middle;\n",
       "    }\n",
       "\n",
       "    .dataframe tbody tr th {\n",
       "        vertical-align: top;\n",
       "    }\n",
       "\n",
       "    .dataframe thead th {\n",
       "        text-align: right;\n",
       "    }\n",
       "</style>\n",
       "<table border=\"1\" class=\"dataframe\">\n",
       "  <thead>\n",
       "    <tr style=\"text-align: right;\">\n",
       "      <th></th>\n",
       "      <th>number</th>\n",
       "      <th>value</th>\n",
       "      <th>datetime_start</th>\n",
       "      <th>datetime_complete</th>\n",
       "      <th>duration</th>\n",
       "      <th>params_boosting_type</th>\n",
       "      <th>params_cat_l2</th>\n",
       "      <th>params_cat_smooth</th>\n",
       "      <th>params_colsample_bytree</th>\n",
       "      <th>params_max_delta_step</th>\n",
       "      <th>params_max_depth</th>\n",
       "      <th>params_num_leaves</th>\n",
       "      <th>params_power</th>\n",
       "      <th>params_reg_alpha</th>\n",
       "      <th>params_reg_lambda</th>\n",
       "      <th>params_resample</th>\n",
       "      <th>system_attrs_completed_rung_0</th>\n",
       "      <th>system_attrs_completed_rung_1</th>\n",
       "      <th>system_attrs_completed_rung_2</th>\n",
       "      <th>system_attrs_completed_rung_3</th>\n",
       "      <th>system_attrs_completed_rung_4</th>\n",
       "      <th>system_attrs_completed_rung_5</th>\n",
       "      <th>state</th>\n",
       "    </tr>\n",
       "  </thead>\n",
       "  <tbody>\n",
       "    <tr>\n",
       "      <th>0</th>\n",
       "      <td>0</td>\n",
       "      <td>0.894651</td>\n",
       "      <td>2021-03-27 21:16:25.548888</td>\n",
       "      <td>2021-03-27 21:21:32.555752</td>\n",
       "      <td>0 days 00:05:07.006864</td>\n",
       "      <td>gbdt</td>\n",
       "      <td>1</td>\n",
       "      <td>24.230711</td>\n",
       "      <td>0.224911</td>\n",
       "      <td>5</td>\n",
       "      <td>7</td>\n",
       "      <td>128</td>\n",
       "      <td>False</td>\n",
       "      <td>16.567926</td>\n",
       "      <td>11.935292</td>\n",
       "      <td>random</td>\n",
       "      <td>0.894253</td>\n",
       "      <td>0.894253</td>\n",
       "      <td>0.894253</td>\n",
       "      <td>0.894253</td>\n",
       "      <td>NaN</td>\n",
       "      <td>NaN</td>\n",
       "      <td>COMPLETE</td>\n",
       "    </tr>\n",
       "    <tr>\n",
       "      <th>1</th>\n",
       "      <td>1</td>\n",
       "      <td>0.893235</td>\n",
       "      <td>2021-03-27 21:16:25.554817</td>\n",
       "      <td>2021-03-27 21:21:16.945180</td>\n",
       "      <td>0 days 00:04:51.390363</td>\n",
       "      <td>gbdt</td>\n",
       "      <td>2</td>\n",
       "      <td>18.307078</td>\n",
       "      <td>0.679096</td>\n",
       "      <td>3</td>\n",
       "      <td>10</td>\n",
       "      <td>298</td>\n",
       "      <td>False</td>\n",
       "      <td>14.327957</td>\n",
       "      <td>23.200044</td>\n",
       "      <td>random</td>\n",
       "      <td>0.892506</td>\n",
       "      <td>0.892506</td>\n",
       "      <td>0.892506</td>\n",
       "      <td>0.892506</td>\n",
       "      <td>0.892506</td>\n",
       "      <td>NaN</td>\n",
       "      <td>COMPLETE</td>\n",
       "    </tr>\n",
       "    <tr>\n",
       "      <th>2</th>\n",
       "      <td>2</td>\n",
       "      <td>0.772434</td>\n",
       "      <td>2021-03-27 21:16:25.557857</td>\n",
       "      <td>2021-03-27 21:20:45.567262</td>\n",
       "      <td>0 days 00:04:20.009405</td>\n",
       "      <td>gbdt</td>\n",
       "      <td>18</td>\n",
       "      <td>26.759114</td>\n",
       "      <td>0.118268</td>\n",
       "      <td>7</td>\n",
       "      <td>6</td>\n",
       "      <td>119</td>\n",
       "      <td>True</td>\n",
       "      <td>3.507585</td>\n",
       "      <td>1.902419</td>\n",
       "      <td>None</td>\n",
       "      <td>NaN</td>\n",
       "      <td>NaN</td>\n",
       "      <td>NaN</td>\n",
       "      <td>NaN</td>\n",
       "      <td>NaN</td>\n",
       "      <td>NaN</td>\n",
       "      <td>COMPLETE</td>\n",
       "    </tr>\n",
       "    <tr>\n",
       "      <th>3</th>\n",
       "      <td>3</td>\n",
       "      <td>0.827444</td>\n",
       "      <td>2021-03-27 21:16:25.562296</td>\n",
       "      <td>2021-03-27 21:24:51.856227</td>\n",
       "      <td>0 days 00:08:26.293931</td>\n",
       "      <td>gbdt</td>\n",
       "      <td>4</td>\n",
       "      <td>20.239738</td>\n",
       "      <td>0.716473</td>\n",
       "      <td>4</td>\n",
       "      <td>16</td>\n",
       "      <td>262</td>\n",
       "      <td>True</td>\n",
       "      <td>22.985367</td>\n",
       "      <td>3.487344</td>\n",
       "      <td>None</td>\n",
       "      <td>0.827484</td>\n",
       "      <td>0.827484</td>\n",
       "      <td>0.827484</td>\n",
       "      <td>0.827484</td>\n",
       "      <td>0.827484</td>\n",
       "      <td>0.827484</td>\n",
       "      <td>COMPLETE</td>\n",
       "    </tr>\n",
       "    <tr>\n",
       "      <th>4</th>\n",
       "      <td>4</td>\n",
       "      <td>0.747909</td>\n",
       "      <td>2021-03-27 21:20:45.576162</td>\n",
       "      <td>2021-03-27 21:21:04.635542</td>\n",
       "      <td>0 days 00:00:19.059380</td>\n",
       "      <td>gbdt</td>\n",
       "      <td>7</td>\n",
       "      <td>31.043001</td>\n",
       "      <td>0.511393</td>\n",
       "      <td>7</td>\n",
       "      <td>16</td>\n",
       "      <td>274</td>\n",
       "      <td>True</td>\n",
       "      <td>22.128896</td>\n",
       "      <td>2.545227</td>\n",
       "      <td>random</td>\n",
       "      <td>0.747909</td>\n",
       "      <td>NaN</td>\n",
       "      <td>NaN</td>\n",
       "      <td>NaN</td>\n",
       "      <td>NaN</td>\n",
       "      <td>NaN</td>\n",
       "      <td>PRUNED</td>\n",
       "    </tr>\n",
       "    <tr>\n",
       "      <th>5</th>\n",
       "      <td>5</td>\n",
       "      <td>0.893850</td>\n",
       "      <td>2021-03-27 21:21:04.639069</td>\n",
       "      <td>2021-03-27 21:23:44.465130</td>\n",
       "      <td>0 days 00:02:39.826061</td>\n",
       "      <td>gbdt</td>\n",
       "      <td>3</td>\n",
       "      <td>4.324984</td>\n",
       "      <td>0.552518</td>\n",
       "      <td>3</td>\n",
       "      <td>16</td>\n",
       "      <td>77</td>\n",
       "      <td>False</td>\n",
       "      <td>1.719211</td>\n",
       "      <td>7.389299</td>\n",
       "      <td>None</td>\n",
       "      <td>0.857815</td>\n",
       "      <td>0.872579</td>\n",
       "      <td>0.881229</td>\n",
       "      <td>0.886671</td>\n",
       "      <td>0.891774</td>\n",
       "      <td>0.892381</td>\n",
       "      <td>COMPLETE</td>\n",
       "    </tr>\n",
       "    <tr>\n",
       "      <th>6</th>\n",
       "      <td>6</td>\n",
       "      <td>0.682570</td>\n",
       "      <td>2021-03-27 21:21:16.956398</td>\n",
       "      <td>2021-03-27 21:21:37.010583</td>\n",
       "      <td>0 days 00:00:20.054185</td>\n",
       "      <td>gbdt</td>\n",
       "      <td>12</td>\n",
       "      <td>12.866295</td>\n",
       "      <td>0.431230</td>\n",
       "      <td>4</td>\n",
       "      <td>2</td>\n",
       "      <td>347</td>\n",
       "      <td>True</td>\n",
       "      <td>12.881962</td>\n",
       "      <td>28.267302</td>\n",
       "      <td>None</td>\n",
       "      <td>0.682570</td>\n",
       "      <td>NaN</td>\n",
       "      <td>NaN</td>\n",
       "      <td>NaN</td>\n",
       "      <td>NaN</td>\n",
       "      <td>NaN</td>\n",
       "      <td>PRUNED</td>\n",
       "    </tr>\n",
       "  </tbody>\n",
       "</table>\n",
       "</div>"
      ],
      "text/plain": [
       "   number     value             datetime_start          datetime_complete  \\\n",
       "0       0  0.894651 2021-03-27 21:16:25.548888 2021-03-27 21:21:32.555752   \n",
       "1       1  0.893235 2021-03-27 21:16:25.554817 2021-03-27 21:21:16.945180   \n",
       "2       2  0.772434 2021-03-27 21:16:25.557857 2021-03-27 21:20:45.567262   \n",
       "3       3  0.827444 2021-03-27 21:16:25.562296 2021-03-27 21:24:51.856227   \n",
       "4       4  0.747909 2021-03-27 21:20:45.576162 2021-03-27 21:21:04.635542   \n",
       "5       5  0.893850 2021-03-27 21:21:04.639069 2021-03-27 21:23:44.465130   \n",
       "6       6  0.682570 2021-03-27 21:21:16.956398 2021-03-27 21:21:37.010583   \n",
       "\n",
       "                duration params_boosting_type  params_cat_l2  \\\n",
       "0 0 days 00:05:07.006864                 gbdt              1   \n",
       "1 0 days 00:04:51.390363                 gbdt              2   \n",
       "2 0 days 00:04:20.009405                 gbdt             18   \n",
       "3 0 days 00:08:26.293931                 gbdt              4   \n",
       "4 0 days 00:00:19.059380                 gbdt              7   \n",
       "5 0 days 00:02:39.826061                 gbdt              3   \n",
       "6 0 days 00:00:20.054185                 gbdt             12   \n",
       "\n",
       "   params_cat_smooth  params_colsample_bytree  params_max_delta_step  \\\n",
       "0          24.230711                 0.224911                      5   \n",
       "1          18.307078                 0.679096                      3   \n",
       "2          26.759114                 0.118268                      7   \n",
       "3          20.239738                 0.716473                      4   \n",
       "4          31.043001                 0.511393                      7   \n",
       "5           4.324984                 0.552518                      3   \n",
       "6          12.866295                 0.431230                      4   \n",
       "\n",
       "   params_max_depth  params_num_leaves  params_power  params_reg_alpha  \\\n",
       "0                 7                128         False         16.567926   \n",
       "1                10                298         False         14.327957   \n",
       "2                 6                119          True          3.507585   \n",
       "3                16                262          True         22.985367   \n",
       "4                16                274          True         22.128896   \n",
       "5                16                 77         False          1.719211   \n",
       "6                 2                347          True         12.881962   \n",
       "\n",
       "   params_reg_lambda params_resample  system_attrs_completed_rung_0  \\\n",
       "0          11.935292          random                       0.894253   \n",
       "1          23.200044          random                       0.892506   \n",
       "2           1.902419            None                            NaN   \n",
       "3           3.487344            None                       0.827484   \n",
       "4           2.545227          random                       0.747909   \n",
       "5           7.389299            None                       0.857815   \n",
       "6          28.267302            None                       0.682570   \n",
       "\n",
       "   system_attrs_completed_rung_1  system_attrs_completed_rung_2  \\\n",
       "0                       0.894253                       0.894253   \n",
       "1                       0.892506                       0.892506   \n",
       "2                            NaN                            NaN   \n",
       "3                       0.827484                       0.827484   \n",
       "4                            NaN                            NaN   \n",
       "5                       0.872579                       0.881229   \n",
       "6                            NaN                            NaN   \n",
       "\n",
       "   system_attrs_completed_rung_3  system_attrs_completed_rung_4  \\\n",
       "0                       0.894253                            NaN   \n",
       "1                       0.892506                       0.892506   \n",
       "2                            NaN                            NaN   \n",
       "3                       0.827484                       0.827484   \n",
       "4                            NaN                            NaN   \n",
       "5                       0.886671                       0.891774   \n",
       "6                            NaN                            NaN   \n",
       "\n",
       "   system_attrs_completed_rung_5     state  \n",
       "0                            NaN  COMPLETE  \n",
       "1                            NaN  COMPLETE  \n",
       "2                            NaN  COMPLETE  \n",
       "3                       0.827484  COMPLETE  \n",
       "4                            NaN    PRUNED  \n",
       "5                       0.892381  COMPLETE  \n",
       "6                            NaN    PRUNED  "
      ]
     },
     "execution_count": 12,
     "metadata": {},
     "output_type": "execute_result"
    }
   ],
   "source": [
    "study.trials_dataframe()"
   ]
  },
  {
   "cell_type": "code",
   "execution_count": 13,
   "metadata": {
    "execution": {
     "iopub.execute_input": "2021-03-27T21:24:52.093257Z",
     "iopub.status.busy": "2021-03-27T21:24:52.092002Z",
     "iopub.status.idle": "2021-03-27T21:24:52.096514Z",
     "shell.execute_reply": "2021-03-27T21:24:52.097006Z"
    },
    "papermill": {
     "duration": 0.036092,
     "end_time": "2021-03-27T21:24:52.097229",
     "exception": false,
     "start_time": "2021-03-27T21:24:52.061137",
     "status": "completed"
    },
    "tags": []
   },
   "outputs": [
    {
     "data": {
      "text/plain": [
       "0.8946512024364497"
      ]
     },
     "execution_count": 13,
     "metadata": {},
     "output_type": "execute_result"
    }
   ],
   "source": [
    "study.best_value"
   ]
  },
  {
   "cell_type": "code",
   "execution_count": 14,
   "metadata": {
    "execution": {
     "iopub.execute_input": "2021-03-27T21:24:52.150005Z",
     "iopub.status.busy": "2021-03-27T21:24:52.149289Z",
     "iopub.status.idle": "2021-03-27T21:24:52.352913Z",
     "shell.execute_reply": "2021-03-27T21:24:52.352309Z"
    },
    "papermill": {
     "duration": 0.232181,
     "end_time": "2021-03-27T21:24:52.353081",
     "exception": false,
     "start_time": "2021-03-27T21:24:52.120900",
     "status": "completed"
    },
    "tags": []
   },
   "outputs": [
    {
     "data": {
      "text/html": [
       "        <script type=\"text/javascript\">\n",
       "        window.PlotlyConfig = {MathJaxConfig: 'local'};\n",
       "        if (window.MathJax) {MathJax.Hub.Config({SVG: {font: \"STIX-Web\"}});}\n",
       "        if (typeof require !== 'undefined') {\n",
       "        require.undef(\"plotly\");\n",
       "        requirejs.config({\n",
       "            paths: {\n",
       "                'plotly': ['https://cdn.plot.ly/plotly-latest.min']\n",
       "            }\n",
       "        });\n",
       "        require(['plotly'], function(Plotly) {\n",
       "            window._Plotly = Plotly;\n",
       "        });\n",
       "        }\n",
       "        </script>\n",
       "        "
      ]
     },
     "metadata": {},
     "output_type": "display_data"
    },
    {
     "data": {
      "text/html": [
       "<div>                            <div id=\"d6b5dd25-1af0-441b-935e-44c4ebe9aa49\" class=\"plotly-graph-div\" style=\"height:525px; width:100%;\"></div>            <script type=\"text/javascript\">                require([\"plotly\"], function(Plotly) {                    window.PLOTLYENV=window.PLOTLYENV || {};                                    if (document.getElementById(\"d6b5dd25-1af0-441b-935e-44c4ebe9aa49\")) {                    Plotly.newPlot(                        \"d6b5dd25-1af0-441b-935e-44c4ebe9aa49\",                        [{\"mode\": \"markers\", \"name\": \"Objective Value\", \"type\": \"scatter\", \"x\": [0, 1, 2, 3, 5], \"y\": [0.8946512024364497, 0.893234740663124, 0.7724344270768049, 0.8274441261488693, 0.8938504690487484]}, {\"name\": \"Best Value\", \"type\": \"scatter\", \"x\": [0, 1, 2, 3, 5], \"y\": [0.8946512024364497, 0.8946512024364497, 0.8946512024364497, 0.8946512024364497, 0.8946512024364497]}],                        {\"template\": {\"data\": {\"bar\": [{\"error_x\": {\"color\": \"#2a3f5f\"}, \"error_y\": {\"color\": \"#2a3f5f\"}, \"marker\": {\"line\": {\"color\": \"#E5ECF6\", \"width\": 0.5}}, \"type\": \"bar\"}], \"barpolar\": [{\"marker\": {\"line\": {\"color\": \"#E5ECF6\", \"width\": 0.5}}, \"type\": \"barpolar\"}], \"carpet\": [{\"aaxis\": {\"endlinecolor\": \"#2a3f5f\", \"gridcolor\": \"white\", \"linecolor\": \"white\", \"minorgridcolor\": \"white\", \"startlinecolor\": \"#2a3f5f\"}, \"baxis\": {\"endlinecolor\": \"#2a3f5f\", \"gridcolor\": \"white\", \"linecolor\": \"white\", \"minorgridcolor\": \"white\", \"startlinecolor\": \"#2a3f5f\"}, \"type\": \"carpet\"}], \"choropleth\": [{\"colorbar\": {\"outlinewidth\": 0, \"ticks\": \"\"}, \"type\": \"choropleth\"}], \"contour\": [{\"colorbar\": {\"outlinewidth\": 0, \"ticks\": \"\"}, \"colorscale\": [[0.0, \"#0d0887\"], [0.1111111111111111, \"#46039f\"], [0.2222222222222222, \"#7201a8\"], [0.3333333333333333, \"#9c179e\"], [0.4444444444444444, \"#bd3786\"], [0.5555555555555556, \"#d8576b\"], [0.6666666666666666, \"#ed7953\"], [0.7777777777777778, \"#fb9f3a\"], [0.8888888888888888, \"#fdca26\"], [1.0, \"#f0f921\"]], \"type\": \"contour\"}], \"contourcarpet\": [{\"colorbar\": {\"outlinewidth\": 0, \"ticks\": \"\"}, \"type\": \"contourcarpet\"}], \"heatmap\": [{\"colorbar\": {\"outlinewidth\": 0, \"ticks\": \"\"}, \"colorscale\": [[0.0, \"#0d0887\"], [0.1111111111111111, \"#46039f\"], [0.2222222222222222, \"#7201a8\"], [0.3333333333333333, \"#9c179e\"], [0.4444444444444444, \"#bd3786\"], [0.5555555555555556, \"#d8576b\"], [0.6666666666666666, \"#ed7953\"], [0.7777777777777778, \"#fb9f3a\"], [0.8888888888888888, \"#fdca26\"], [1.0, \"#f0f921\"]], \"type\": \"heatmap\"}], \"heatmapgl\": [{\"colorbar\": {\"outlinewidth\": 0, \"ticks\": \"\"}, \"colorscale\": [[0.0, \"#0d0887\"], [0.1111111111111111, \"#46039f\"], [0.2222222222222222, \"#7201a8\"], [0.3333333333333333, \"#9c179e\"], [0.4444444444444444, \"#bd3786\"], [0.5555555555555556, \"#d8576b\"], [0.6666666666666666, \"#ed7953\"], [0.7777777777777778, \"#fb9f3a\"], [0.8888888888888888, \"#fdca26\"], [1.0, \"#f0f921\"]], \"type\": \"heatmapgl\"}], \"histogram\": [{\"marker\": {\"colorbar\": {\"outlinewidth\": 0, \"ticks\": \"\"}}, \"type\": \"histogram\"}], \"histogram2d\": [{\"colorbar\": {\"outlinewidth\": 0, \"ticks\": \"\"}, \"colorscale\": [[0.0, \"#0d0887\"], [0.1111111111111111, \"#46039f\"], [0.2222222222222222, \"#7201a8\"], [0.3333333333333333, \"#9c179e\"], [0.4444444444444444, \"#bd3786\"], [0.5555555555555556, \"#d8576b\"], [0.6666666666666666, \"#ed7953\"], [0.7777777777777778, \"#fb9f3a\"], [0.8888888888888888, \"#fdca26\"], [1.0, \"#f0f921\"]], \"type\": \"histogram2d\"}], \"histogram2dcontour\": [{\"colorbar\": {\"outlinewidth\": 0, \"ticks\": \"\"}, \"colorscale\": [[0.0, \"#0d0887\"], [0.1111111111111111, \"#46039f\"], [0.2222222222222222, \"#7201a8\"], [0.3333333333333333, \"#9c179e\"], [0.4444444444444444, \"#bd3786\"], [0.5555555555555556, \"#d8576b\"], [0.6666666666666666, \"#ed7953\"], [0.7777777777777778, \"#fb9f3a\"], [0.8888888888888888, \"#fdca26\"], [1.0, \"#f0f921\"]], \"type\": \"histogram2dcontour\"}], \"mesh3d\": [{\"colorbar\": {\"outlinewidth\": 0, \"ticks\": \"\"}, \"type\": \"mesh3d\"}], \"parcoords\": [{\"line\": {\"colorbar\": {\"outlinewidth\": 0, \"ticks\": \"\"}}, \"type\": \"parcoords\"}], \"pie\": [{\"automargin\": true, \"type\": \"pie\"}], \"scatter\": [{\"marker\": {\"colorbar\": {\"outlinewidth\": 0, \"ticks\": \"\"}}, \"type\": \"scatter\"}], \"scatter3d\": [{\"line\": {\"colorbar\": {\"outlinewidth\": 0, \"ticks\": \"\"}}, \"marker\": {\"colorbar\": {\"outlinewidth\": 0, \"ticks\": \"\"}}, \"type\": \"scatter3d\"}], \"scattercarpet\": [{\"marker\": {\"colorbar\": {\"outlinewidth\": 0, \"ticks\": \"\"}}, \"type\": \"scattercarpet\"}], \"scattergeo\": [{\"marker\": {\"colorbar\": {\"outlinewidth\": 0, \"ticks\": \"\"}}, \"type\": \"scattergeo\"}], \"scattergl\": [{\"marker\": {\"colorbar\": {\"outlinewidth\": 0, \"ticks\": \"\"}}, \"type\": \"scattergl\"}], \"scattermapbox\": [{\"marker\": {\"colorbar\": {\"outlinewidth\": 0, \"ticks\": \"\"}}, \"type\": \"scattermapbox\"}], \"scatterpolar\": [{\"marker\": {\"colorbar\": {\"outlinewidth\": 0, \"ticks\": \"\"}}, \"type\": \"scatterpolar\"}], \"scatterpolargl\": [{\"marker\": {\"colorbar\": {\"outlinewidth\": 0, \"ticks\": \"\"}}, \"type\": \"scatterpolargl\"}], \"scatterternary\": [{\"marker\": {\"colorbar\": {\"outlinewidth\": 0, \"ticks\": \"\"}}, \"type\": \"scatterternary\"}], \"surface\": [{\"colorbar\": {\"outlinewidth\": 0, \"ticks\": \"\"}, \"colorscale\": [[0.0, \"#0d0887\"], [0.1111111111111111, \"#46039f\"], [0.2222222222222222, \"#7201a8\"], [0.3333333333333333, \"#9c179e\"], [0.4444444444444444, \"#bd3786\"], [0.5555555555555556, \"#d8576b\"], [0.6666666666666666, \"#ed7953\"], [0.7777777777777778, \"#fb9f3a\"], [0.8888888888888888, \"#fdca26\"], [1.0, \"#f0f921\"]], \"type\": \"surface\"}], \"table\": [{\"cells\": {\"fill\": {\"color\": \"#EBF0F8\"}, \"line\": {\"color\": \"white\"}}, \"header\": {\"fill\": {\"color\": \"#C8D4E3\"}, \"line\": {\"color\": \"white\"}}, \"type\": \"table\"}]}, \"layout\": {\"annotationdefaults\": {\"arrowcolor\": \"#2a3f5f\", \"arrowhead\": 0, \"arrowwidth\": 1}, \"autotypenumbers\": \"strict\", \"coloraxis\": {\"colorbar\": {\"outlinewidth\": 0, \"ticks\": \"\"}}, \"colorscale\": {\"diverging\": [[0, \"#8e0152\"], [0.1, \"#c51b7d\"], [0.2, \"#de77ae\"], [0.3, \"#f1b6da\"], [0.4, \"#fde0ef\"], [0.5, \"#f7f7f7\"], [0.6, \"#e6f5d0\"], [0.7, \"#b8e186\"], [0.8, \"#7fbc41\"], [0.9, \"#4d9221\"], [1, \"#276419\"]], \"sequential\": [[0.0, \"#0d0887\"], [0.1111111111111111, \"#46039f\"], [0.2222222222222222, \"#7201a8\"], [0.3333333333333333, \"#9c179e\"], [0.4444444444444444, \"#bd3786\"], [0.5555555555555556, \"#d8576b\"], [0.6666666666666666, \"#ed7953\"], [0.7777777777777778, \"#fb9f3a\"], [0.8888888888888888, \"#fdca26\"], [1.0, \"#f0f921\"]], \"sequentialminus\": [[0.0, \"#0d0887\"], [0.1111111111111111, \"#46039f\"], [0.2222222222222222, \"#7201a8\"], [0.3333333333333333, \"#9c179e\"], [0.4444444444444444, \"#bd3786\"], [0.5555555555555556, \"#d8576b\"], [0.6666666666666666, \"#ed7953\"], [0.7777777777777778, \"#fb9f3a\"], [0.8888888888888888, \"#fdca26\"], [1.0, \"#f0f921\"]]}, \"colorway\": [\"#636efa\", \"#EF553B\", \"#00cc96\", \"#ab63fa\", \"#FFA15A\", \"#19d3f3\", \"#FF6692\", \"#B6E880\", \"#FF97FF\", \"#FECB52\"], \"font\": {\"color\": \"#2a3f5f\"}, \"geo\": {\"bgcolor\": \"white\", \"lakecolor\": \"white\", \"landcolor\": \"#E5ECF6\", \"showlakes\": true, \"showland\": true, \"subunitcolor\": \"white\"}, \"hoverlabel\": {\"align\": \"left\"}, \"hovermode\": \"closest\", \"mapbox\": {\"style\": \"light\"}, \"paper_bgcolor\": \"white\", \"plot_bgcolor\": \"#E5ECF6\", \"polar\": {\"angularaxis\": {\"gridcolor\": \"white\", \"linecolor\": \"white\", \"ticks\": \"\"}, \"bgcolor\": \"#E5ECF6\", \"radialaxis\": {\"gridcolor\": \"white\", \"linecolor\": \"white\", \"ticks\": \"\"}}, \"scene\": {\"xaxis\": {\"backgroundcolor\": \"#E5ECF6\", \"gridcolor\": \"white\", \"gridwidth\": 2, \"linecolor\": \"white\", \"showbackground\": true, \"ticks\": \"\", \"zerolinecolor\": \"white\"}, \"yaxis\": {\"backgroundcolor\": \"#E5ECF6\", \"gridcolor\": \"white\", \"gridwidth\": 2, \"linecolor\": \"white\", \"showbackground\": true, \"ticks\": \"\", \"zerolinecolor\": \"white\"}, \"zaxis\": {\"backgroundcolor\": \"#E5ECF6\", \"gridcolor\": \"white\", \"gridwidth\": 2, \"linecolor\": \"white\", \"showbackground\": true, \"ticks\": \"\", \"zerolinecolor\": \"white\"}}, \"shapedefaults\": {\"line\": {\"color\": \"#2a3f5f\"}}, \"ternary\": {\"aaxis\": {\"gridcolor\": \"white\", \"linecolor\": \"white\", \"ticks\": \"\"}, \"baxis\": {\"gridcolor\": \"white\", \"linecolor\": \"white\", \"ticks\": \"\"}, \"bgcolor\": \"#E5ECF6\", \"caxis\": {\"gridcolor\": \"white\", \"linecolor\": \"white\", \"ticks\": \"\"}}, \"title\": {\"x\": 0.05}, \"xaxis\": {\"automargin\": true, \"gridcolor\": \"white\", \"linecolor\": \"white\", \"ticks\": \"\", \"title\": {\"standoff\": 15}, \"zerolinecolor\": \"white\", \"zerolinewidth\": 2}, \"yaxis\": {\"automargin\": true, \"gridcolor\": \"white\", \"linecolor\": \"white\", \"ticks\": \"\", \"title\": {\"standoff\": 15}, \"zerolinecolor\": \"white\", \"zerolinewidth\": 2}}}, \"title\": {\"text\": \"Optimization History Plot\"}, \"xaxis\": {\"title\": {\"text\": \"#Trials\"}}, \"yaxis\": {\"title\": {\"text\": \"Objective Value\"}}},                        {\"responsive\": true}                    ).then(function(){\n",
       "                            \n",
       "var gd = document.getElementById('d6b5dd25-1af0-441b-935e-44c4ebe9aa49');\n",
       "var x = new MutationObserver(function (mutations, observer) {{\n",
       "        var display = window.getComputedStyle(gd).display;\n",
       "        if (!display || display === 'none') {{\n",
       "            console.log([gd, 'removed!']);\n",
       "            Plotly.purge(gd);\n",
       "            observer.disconnect();\n",
       "        }}\n",
       "}});\n",
       "\n",
       "// Listen for the removal of the full notebook cells\n",
       "var notebookContainer = gd.closest('#notebook-container');\n",
       "if (notebookContainer) {{\n",
       "    x.observe(notebookContainer, {childList: true});\n",
       "}}\n",
       "\n",
       "// Listen for the clearing of the current output cell\n",
       "var outputEl = gd.closest('.output');\n",
       "if (outputEl) {{\n",
       "    x.observe(outputEl, {childList: true});\n",
       "}}\n",
       "\n",
       "                        })                };                });            </script>        </div>"
      ]
     },
     "metadata": {},
     "output_type": "display_data"
    }
   ],
   "source": [
    "plot_optimization_history(study)"
   ]
  },
  {
   "cell_type": "code",
   "execution_count": 15,
   "metadata": {
    "execution": {
     "iopub.execute_input": "2021-03-27T21:24:52.415624Z",
     "iopub.status.busy": "2021-03-27T21:24:52.414742Z",
     "iopub.status.idle": "2021-03-27T21:24:52.490265Z",
     "shell.execute_reply": "2021-03-27T21:24:52.489637Z"
    },
    "papermill": {
     "duration": 0.11283,
     "end_time": "2021-03-27T21:24:52.490427",
     "exception": false,
     "start_time": "2021-03-27T21:24:52.377597",
     "status": "completed"
    },
    "tags": []
   },
   "outputs": [
    {
     "data": {
      "text/html": [
       "<div>                            <div id=\"bde681bc-daf9-48ca-99f0-c01482accf91\" class=\"plotly-graph-div\" style=\"height:525px; width:100%;\"></div>            <script type=\"text/javascript\">                require([\"plotly\"], function(Plotly) {                    window.PLOTLYENV=window.PLOTLYENV || {};                                    if (document.getElementById(\"bde681bc-daf9-48ca-99f0-c01482accf91\")) {                    Plotly.newPlot(                        \"bde681bc-daf9-48ca-99f0-c01482accf91\",                        [{\"dimensions\": [{\"label\": \"Objective Value\", \"range\": [0.7724344270768049, 0.8946512024364497], \"values\": [0.8946512024364497, 0.893234740663124, 0.7724344270768049, 0.8274441261488693, 0.8938504690487484]}, {\"label\": \"boosting_type\", \"range\": [0, 0], \"ticktext\": [[\"gbdt\", 0]], \"tickvals\": [0], \"values\": [0, 0, 0, 0, 0]}, {\"label\": \"cat_l2\", \"range\": [1, 18], \"values\": [1, 2, 18, 4, 3]}, {\"label\": \"cat_smooth\", \"range\": [4.324984057547336, 26.759114389536474], \"values\": [24.230710626013394, 18.30707793408465, 26.759114389536474, 20.23973785364922, 4.324984057547336]}, {\"label\": \"colsample_bytree\", \"range\": [0.11826799202431157, 0.7164729415802243], \"values\": [0.22491131139722578, 0.6790959028718407, 0.11826799202431157, 0.7164729415802243, 0.5525182135802842]}, {\"label\": \"max_delta_step\", \"range\": [3, 7], \"values\": [5, 3, 7, 4, 3]}, {\"label\": \"max_depth\", \"range\": [6, 16], \"values\": [7, 10, 6, 16, 16]}, {\"label\": \"num_leaves\", \"range\": [77, 298], \"values\": [128, 298, 119, 262, 77]}, {\"label\": \"power\", \"range\": [0, 1], \"ticktext\": [[false, 0], [true, 1]], \"tickvals\": [0, 1], \"values\": [0, 0, 1, 1, 0]}, {\"label\": \"reg_alpha\", \"range\": [1.7192107588804906, 22.985366931117404], \"values\": [16.56792594426734, 14.327957292783971, 3.5075851542790195, 22.985366931117404, 1.7192107588804906]}, {\"label\": \"reg_lambda\", \"range\": [1.9024185086803547, 23.200043963671302], \"values\": [11.935291522117284, 23.200043963671302, 1.9024185086803547, 3.4873438122237435, 7.389299064150859]}, {\"label\": \"resample\", \"range\": [0, 1], \"ticktext\": [[\"random\", 0], [null, 1]], \"tickvals\": [0, 1], \"values\": [0, 0, 1, 1, 1]}], \"labelangle\": 30, \"labelside\": \"bottom\", \"line\": {\"color\": [0.8946512024364497, 0.893234740663124, 0.7724344270768049, 0.8274441261488693, 0.8938504690487484], \"colorbar\": {\"title\": {\"text\": \"Objective Value\"}}, \"colorscale\": [[0.0, \"rgb(247,251,255)\"], [0.125, \"rgb(222,235,247)\"], [0.25, \"rgb(198,219,239)\"], [0.375, \"rgb(158,202,225)\"], [0.5, \"rgb(107,174,214)\"], [0.625, \"rgb(66,146,198)\"], [0.75, \"rgb(33,113,181)\"], [0.875, \"rgb(8,81,156)\"], [1.0, \"rgb(8,48,107)\"]], \"reversescale\": false, \"showscale\": true}, \"type\": \"parcoords\"}],                        {\"template\": {\"data\": {\"bar\": [{\"error_x\": {\"color\": \"#2a3f5f\"}, \"error_y\": {\"color\": \"#2a3f5f\"}, \"marker\": {\"line\": {\"color\": \"#E5ECF6\", \"width\": 0.5}}, \"type\": \"bar\"}], \"barpolar\": [{\"marker\": {\"line\": {\"color\": \"#E5ECF6\", \"width\": 0.5}}, \"type\": \"barpolar\"}], \"carpet\": [{\"aaxis\": {\"endlinecolor\": \"#2a3f5f\", \"gridcolor\": \"white\", \"linecolor\": \"white\", \"minorgridcolor\": \"white\", \"startlinecolor\": \"#2a3f5f\"}, \"baxis\": {\"endlinecolor\": \"#2a3f5f\", \"gridcolor\": \"white\", \"linecolor\": \"white\", \"minorgridcolor\": \"white\", \"startlinecolor\": \"#2a3f5f\"}, \"type\": \"carpet\"}], \"choropleth\": [{\"colorbar\": {\"outlinewidth\": 0, \"ticks\": \"\"}, \"type\": \"choropleth\"}], \"contour\": [{\"colorbar\": {\"outlinewidth\": 0, \"ticks\": \"\"}, \"colorscale\": [[0.0, \"#0d0887\"], [0.1111111111111111, \"#46039f\"], [0.2222222222222222, \"#7201a8\"], [0.3333333333333333, \"#9c179e\"], [0.4444444444444444, \"#bd3786\"], [0.5555555555555556, \"#d8576b\"], [0.6666666666666666, \"#ed7953\"], [0.7777777777777778, \"#fb9f3a\"], [0.8888888888888888, \"#fdca26\"], [1.0, \"#f0f921\"]], \"type\": \"contour\"}], \"contourcarpet\": [{\"colorbar\": {\"outlinewidth\": 0, \"ticks\": \"\"}, \"type\": \"contourcarpet\"}], \"heatmap\": [{\"colorbar\": {\"outlinewidth\": 0, \"ticks\": \"\"}, \"colorscale\": [[0.0, \"#0d0887\"], [0.1111111111111111, \"#46039f\"], [0.2222222222222222, \"#7201a8\"], [0.3333333333333333, \"#9c179e\"], [0.4444444444444444, \"#bd3786\"], [0.5555555555555556, \"#d8576b\"], [0.6666666666666666, \"#ed7953\"], [0.7777777777777778, \"#fb9f3a\"], [0.8888888888888888, \"#fdca26\"], [1.0, \"#f0f921\"]], \"type\": \"heatmap\"}], \"heatmapgl\": [{\"colorbar\": {\"outlinewidth\": 0, \"ticks\": \"\"}, \"colorscale\": [[0.0, \"#0d0887\"], [0.1111111111111111, \"#46039f\"], [0.2222222222222222, \"#7201a8\"], [0.3333333333333333, \"#9c179e\"], [0.4444444444444444, \"#bd3786\"], [0.5555555555555556, \"#d8576b\"], [0.6666666666666666, \"#ed7953\"], [0.7777777777777778, \"#fb9f3a\"], [0.8888888888888888, \"#fdca26\"], [1.0, \"#f0f921\"]], \"type\": \"heatmapgl\"}], \"histogram\": [{\"marker\": {\"colorbar\": {\"outlinewidth\": 0, \"ticks\": \"\"}}, \"type\": \"histogram\"}], \"histogram2d\": [{\"colorbar\": {\"outlinewidth\": 0, \"ticks\": \"\"}, \"colorscale\": [[0.0, \"#0d0887\"], [0.1111111111111111, \"#46039f\"], [0.2222222222222222, \"#7201a8\"], [0.3333333333333333, \"#9c179e\"], [0.4444444444444444, \"#bd3786\"], [0.5555555555555556, \"#d8576b\"], [0.6666666666666666, \"#ed7953\"], [0.7777777777777778, \"#fb9f3a\"], [0.8888888888888888, \"#fdca26\"], [1.0, \"#f0f921\"]], \"type\": \"histogram2d\"}], \"histogram2dcontour\": [{\"colorbar\": {\"outlinewidth\": 0, \"ticks\": \"\"}, \"colorscale\": [[0.0, \"#0d0887\"], [0.1111111111111111, \"#46039f\"], [0.2222222222222222, \"#7201a8\"], [0.3333333333333333, \"#9c179e\"], [0.4444444444444444, \"#bd3786\"], [0.5555555555555556, \"#d8576b\"], [0.6666666666666666, \"#ed7953\"], [0.7777777777777778, \"#fb9f3a\"], [0.8888888888888888, \"#fdca26\"], [1.0, \"#f0f921\"]], \"type\": \"histogram2dcontour\"}], \"mesh3d\": [{\"colorbar\": {\"outlinewidth\": 0, \"ticks\": \"\"}, \"type\": \"mesh3d\"}], \"parcoords\": [{\"line\": {\"colorbar\": {\"outlinewidth\": 0, \"ticks\": \"\"}}, \"type\": \"parcoords\"}], \"pie\": [{\"automargin\": true, \"type\": \"pie\"}], \"scatter\": [{\"marker\": {\"colorbar\": {\"outlinewidth\": 0, \"ticks\": \"\"}}, \"type\": \"scatter\"}], \"scatter3d\": [{\"line\": {\"colorbar\": {\"outlinewidth\": 0, \"ticks\": \"\"}}, \"marker\": {\"colorbar\": {\"outlinewidth\": 0, \"ticks\": \"\"}}, \"type\": \"scatter3d\"}], \"scattercarpet\": [{\"marker\": {\"colorbar\": {\"outlinewidth\": 0, \"ticks\": \"\"}}, \"type\": \"scattercarpet\"}], \"scattergeo\": [{\"marker\": {\"colorbar\": {\"outlinewidth\": 0, \"ticks\": \"\"}}, \"type\": \"scattergeo\"}], \"scattergl\": [{\"marker\": {\"colorbar\": {\"outlinewidth\": 0, \"ticks\": \"\"}}, \"type\": \"scattergl\"}], \"scattermapbox\": [{\"marker\": {\"colorbar\": {\"outlinewidth\": 0, \"ticks\": \"\"}}, \"type\": \"scattermapbox\"}], \"scatterpolar\": [{\"marker\": {\"colorbar\": {\"outlinewidth\": 0, \"ticks\": \"\"}}, \"type\": \"scatterpolar\"}], \"scatterpolargl\": [{\"marker\": {\"colorbar\": {\"outlinewidth\": 0, \"ticks\": \"\"}}, \"type\": \"scatterpolargl\"}], \"scatterternary\": [{\"marker\": {\"colorbar\": {\"outlinewidth\": 0, \"ticks\": \"\"}}, \"type\": \"scatterternary\"}], \"surface\": [{\"colorbar\": {\"outlinewidth\": 0, \"ticks\": \"\"}, \"colorscale\": [[0.0, \"#0d0887\"], [0.1111111111111111, \"#46039f\"], [0.2222222222222222, \"#7201a8\"], [0.3333333333333333, \"#9c179e\"], [0.4444444444444444, \"#bd3786\"], [0.5555555555555556, \"#d8576b\"], [0.6666666666666666, \"#ed7953\"], [0.7777777777777778, \"#fb9f3a\"], [0.8888888888888888, \"#fdca26\"], [1.0, \"#f0f921\"]], \"type\": \"surface\"}], \"table\": [{\"cells\": {\"fill\": {\"color\": \"#EBF0F8\"}, \"line\": {\"color\": \"white\"}}, \"header\": {\"fill\": {\"color\": \"#C8D4E3\"}, \"line\": {\"color\": \"white\"}}, \"type\": \"table\"}]}, \"layout\": {\"annotationdefaults\": {\"arrowcolor\": \"#2a3f5f\", \"arrowhead\": 0, \"arrowwidth\": 1}, \"autotypenumbers\": \"strict\", \"coloraxis\": {\"colorbar\": {\"outlinewidth\": 0, \"ticks\": \"\"}}, \"colorscale\": {\"diverging\": [[0, \"#8e0152\"], [0.1, \"#c51b7d\"], [0.2, \"#de77ae\"], [0.3, \"#f1b6da\"], [0.4, \"#fde0ef\"], [0.5, \"#f7f7f7\"], [0.6, \"#e6f5d0\"], [0.7, \"#b8e186\"], [0.8, \"#7fbc41\"], [0.9, \"#4d9221\"], [1, \"#276419\"]], \"sequential\": [[0.0, \"#0d0887\"], [0.1111111111111111, \"#46039f\"], [0.2222222222222222, \"#7201a8\"], [0.3333333333333333, \"#9c179e\"], [0.4444444444444444, \"#bd3786\"], [0.5555555555555556, \"#d8576b\"], [0.6666666666666666, \"#ed7953\"], [0.7777777777777778, \"#fb9f3a\"], [0.8888888888888888, \"#fdca26\"], [1.0, \"#f0f921\"]], \"sequentialminus\": [[0.0, \"#0d0887\"], [0.1111111111111111, \"#46039f\"], [0.2222222222222222, \"#7201a8\"], [0.3333333333333333, \"#9c179e\"], [0.4444444444444444, \"#bd3786\"], [0.5555555555555556, \"#d8576b\"], [0.6666666666666666, \"#ed7953\"], [0.7777777777777778, \"#fb9f3a\"], [0.8888888888888888, \"#fdca26\"], [1.0, \"#f0f921\"]]}, \"colorway\": [\"#636efa\", \"#EF553B\", \"#00cc96\", \"#ab63fa\", \"#FFA15A\", \"#19d3f3\", \"#FF6692\", \"#B6E880\", \"#FF97FF\", \"#FECB52\"], \"font\": {\"color\": \"#2a3f5f\"}, \"geo\": {\"bgcolor\": \"white\", \"lakecolor\": \"white\", \"landcolor\": \"#E5ECF6\", \"showlakes\": true, \"showland\": true, \"subunitcolor\": \"white\"}, \"hoverlabel\": {\"align\": \"left\"}, \"hovermode\": \"closest\", \"mapbox\": {\"style\": \"light\"}, \"paper_bgcolor\": \"white\", \"plot_bgcolor\": \"#E5ECF6\", \"polar\": {\"angularaxis\": {\"gridcolor\": \"white\", \"linecolor\": \"white\", \"ticks\": \"\"}, \"bgcolor\": \"#E5ECF6\", \"radialaxis\": {\"gridcolor\": \"white\", \"linecolor\": \"white\", \"ticks\": \"\"}}, \"scene\": {\"xaxis\": {\"backgroundcolor\": \"#E5ECF6\", \"gridcolor\": \"white\", \"gridwidth\": 2, \"linecolor\": \"white\", \"showbackground\": true, \"ticks\": \"\", \"zerolinecolor\": \"white\"}, \"yaxis\": {\"backgroundcolor\": \"#E5ECF6\", \"gridcolor\": \"white\", \"gridwidth\": 2, \"linecolor\": \"white\", \"showbackground\": true, \"ticks\": \"\", \"zerolinecolor\": \"white\"}, \"zaxis\": {\"backgroundcolor\": \"#E5ECF6\", \"gridcolor\": \"white\", \"gridwidth\": 2, \"linecolor\": \"white\", \"showbackground\": true, \"ticks\": \"\", \"zerolinecolor\": \"white\"}}, \"shapedefaults\": {\"line\": {\"color\": \"#2a3f5f\"}}, \"ternary\": {\"aaxis\": {\"gridcolor\": \"white\", \"linecolor\": \"white\", \"ticks\": \"\"}, \"baxis\": {\"gridcolor\": \"white\", \"linecolor\": \"white\", \"ticks\": \"\"}, \"bgcolor\": \"#E5ECF6\", \"caxis\": {\"gridcolor\": \"white\", \"linecolor\": \"white\", \"ticks\": \"\"}}, \"title\": {\"x\": 0.05}, \"xaxis\": {\"automargin\": true, \"gridcolor\": \"white\", \"linecolor\": \"white\", \"ticks\": \"\", \"title\": {\"standoff\": 15}, \"zerolinecolor\": \"white\", \"zerolinewidth\": 2}, \"yaxis\": {\"automargin\": true, \"gridcolor\": \"white\", \"linecolor\": \"white\", \"ticks\": \"\", \"title\": {\"standoff\": 15}, \"zerolinecolor\": \"white\", \"zerolinewidth\": 2}}}, \"title\": {\"text\": \"Parallel Coordinate Plot\"}},                        {\"responsive\": true}                    ).then(function(){\n",
       "                            \n",
       "var gd = document.getElementById('bde681bc-daf9-48ca-99f0-c01482accf91');\n",
       "var x = new MutationObserver(function (mutations, observer) {{\n",
       "        var display = window.getComputedStyle(gd).display;\n",
       "        if (!display || display === 'none') {{\n",
       "            console.log([gd, 'removed!']);\n",
       "            Plotly.purge(gd);\n",
       "            observer.disconnect();\n",
       "        }}\n",
       "}});\n",
       "\n",
       "// Listen for the removal of the full notebook cells\n",
       "var notebookContainer = gd.closest('#notebook-container');\n",
       "if (notebookContainer) {{\n",
       "    x.observe(notebookContainer, {childList: true});\n",
       "}}\n",
       "\n",
       "// Listen for the clearing of the current output cell\n",
       "var outputEl = gd.closest('.output');\n",
       "if (outputEl) {{\n",
       "    x.observe(outputEl, {childList: true});\n",
       "}}\n",
       "\n",
       "                        })                };                });            </script>        </div>"
      ]
     },
     "metadata": {},
     "output_type": "display_data"
    }
   ],
   "source": [
    "optuna.visualization.plot_parallel_coordinate(study)"
   ]
  },
  {
   "cell_type": "code",
   "execution_count": 16,
   "metadata": {
    "execution": {
     "iopub.execute_input": "2021-03-27T21:24:52.544420Z",
     "iopub.status.busy": "2021-03-27T21:24:52.543807Z",
     "iopub.status.idle": "2021-03-27T21:24:53.105712Z",
     "shell.execute_reply": "2021-03-27T21:24:53.105188Z"
    },
    "papermill": {
     "duration": 0.59015,
     "end_time": "2021-03-27T21:24:53.105887",
     "exception": false,
     "start_time": "2021-03-27T21:24:52.515737",
     "status": "completed"
    },
    "tags": []
   },
   "outputs": [
    {
     "data": {
      "text/html": [
       "<div>                            <div id=\"23765815-0a46-46f7-b970-68042182f6fa\" class=\"plotly-graph-div\" style=\"height:525px; width:100%;\"></div>            <script type=\"text/javascript\">                require([\"plotly\"], function(Plotly) {                    window.PLOTLYENV=window.PLOTLYENV || {};                                    if (document.getElementById(\"23765815-0a46-46f7-b970-68042182f6fa\")) {                    Plotly.newPlot(                        \"23765815-0a46-46f7-b970-68042182f6fa\",                        [{\"cliponaxis\": false, \"hovertemplate\": [\"boosting_type (CategoricalDistribution): 0.0<extra></extra>\", \"reg_alpha (UniformDistribution): 0.0226152243534805<extra></extra>\", \"max_delta_step (IntUniformDistribution): 0.034180316817058146<extra></extra>\", \"num_leaves (IntUniformDistribution): 0.04587016021641394<extra></extra>\", \"max_depth (IntUniformDistribution): 0.07164656480653586<extra></extra>\", \"cat_smooth (UniformDistribution): 0.07977109576606693<extra></extra>\", \"cat_l2 (IntUniformDistribution): 0.08957472738574676<extra></extra>\", \"resample (CategoricalDistribution): 0.11354378991078005<extra></extra>\", \"colsample_bytree (UniformDistribution): 0.1435851932062266<extra></extra>\", \"reg_lambda (UniformDistribution): 0.14577531976326577<extra></extra>\", \"power (CategoricalDistribution): 0.2534376077744255<extra></extra>\"], \"marker\": {\"color\": [\"rgb(66,146,198)\", \"rgb(8,48,107)\", \"rgb(8,81,156)\", \"rgb(8,81,156)\", \"rgb(8,81,156)\", \"rgb(8,48,107)\", \"rgb(8,81,156)\", \"rgb(66,146,198)\", \"rgb(8,48,107)\", \"rgb(8,48,107)\", \"rgb(66,146,198)\"]}, \"orientation\": \"h\", \"text\": [\"0.0\", \"0.0226152243534805\", \"0.034180316817058146\", \"0.04587016021641394\", \"0.07164656480653586\", \"0.07977109576606693\", \"0.08957472738574676\", \"0.11354378991078005\", \"0.1435851932062266\", \"0.14577531976326577\", \"0.2534376077744255\"], \"textposition\": \"outside\", \"texttemplate\": \"%{text:.2f}\", \"type\": \"bar\", \"x\": [0.0, 0.0226152243534805, 0.034180316817058146, 0.04587016021641394, 0.07164656480653586, 0.07977109576606693, 0.08957472738574676, 0.11354378991078005, 0.1435851932062266, 0.14577531976326577, 0.2534376077744255], \"y\": [\"boosting_type\", \"reg_alpha\", \"max_delta_step\", \"num_leaves\", \"max_depth\", \"cat_smooth\", \"cat_l2\", \"resample\", \"colsample_bytree\", \"reg_lambda\", \"power\"]}],                        {\"showlegend\": false, \"template\": {\"data\": {\"bar\": [{\"error_x\": {\"color\": \"#2a3f5f\"}, \"error_y\": {\"color\": \"#2a3f5f\"}, \"marker\": {\"line\": {\"color\": \"#E5ECF6\", \"width\": 0.5}}, \"type\": \"bar\"}], \"barpolar\": [{\"marker\": {\"line\": {\"color\": \"#E5ECF6\", \"width\": 0.5}}, \"type\": \"barpolar\"}], \"carpet\": [{\"aaxis\": {\"endlinecolor\": \"#2a3f5f\", \"gridcolor\": \"white\", \"linecolor\": \"white\", \"minorgridcolor\": \"white\", \"startlinecolor\": \"#2a3f5f\"}, \"baxis\": {\"endlinecolor\": \"#2a3f5f\", \"gridcolor\": \"white\", \"linecolor\": \"white\", \"minorgridcolor\": \"white\", \"startlinecolor\": \"#2a3f5f\"}, \"type\": \"carpet\"}], \"choropleth\": [{\"colorbar\": {\"outlinewidth\": 0, \"ticks\": \"\"}, \"type\": \"choropleth\"}], \"contour\": [{\"colorbar\": {\"outlinewidth\": 0, \"ticks\": \"\"}, \"colorscale\": [[0.0, \"#0d0887\"], [0.1111111111111111, \"#46039f\"], [0.2222222222222222, \"#7201a8\"], [0.3333333333333333, \"#9c179e\"], [0.4444444444444444, \"#bd3786\"], [0.5555555555555556, \"#d8576b\"], [0.6666666666666666, \"#ed7953\"], [0.7777777777777778, \"#fb9f3a\"], [0.8888888888888888, \"#fdca26\"], [1.0, \"#f0f921\"]], \"type\": \"contour\"}], \"contourcarpet\": [{\"colorbar\": {\"outlinewidth\": 0, \"ticks\": \"\"}, \"type\": \"contourcarpet\"}], \"heatmap\": [{\"colorbar\": {\"outlinewidth\": 0, \"ticks\": \"\"}, \"colorscale\": [[0.0, \"#0d0887\"], [0.1111111111111111, \"#46039f\"], [0.2222222222222222, \"#7201a8\"], [0.3333333333333333, \"#9c179e\"], [0.4444444444444444, \"#bd3786\"], [0.5555555555555556, \"#d8576b\"], [0.6666666666666666, \"#ed7953\"], [0.7777777777777778, \"#fb9f3a\"], [0.8888888888888888, \"#fdca26\"], [1.0, \"#f0f921\"]], \"type\": \"heatmap\"}], \"heatmapgl\": [{\"colorbar\": {\"outlinewidth\": 0, \"ticks\": \"\"}, \"colorscale\": [[0.0, \"#0d0887\"], [0.1111111111111111, \"#46039f\"], [0.2222222222222222, \"#7201a8\"], [0.3333333333333333, \"#9c179e\"], [0.4444444444444444, \"#bd3786\"], [0.5555555555555556, \"#d8576b\"], [0.6666666666666666, \"#ed7953\"], [0.7777777777777778, \"#fb9f3a\"], [0.8888888888888888, \"#fdca26\"], [1.0, \"#f0f921\"]], \"type\": \"heatmapgl\"}], \"histogram\": [{\"marker\": {\"colorbar\": {\"outlinewidth\": 0, \"ticks\": \"\"}}, \"type\": \"histogram\"}], \"histogram2d\": [{\"colorbar\": {\"outlinewidth\": 0, \"ticks\": \"\"}, \"colorscale\": [[0.0, \"#0d0887\"], [0.1111111111111111, \"#46039f\"], [0.2222222222222222, \"#7201a8\"], [0.3333333333333333, \"#9c179e\"], [0.4444444444444444, \"#bd3786\"], [0.5555555555555556, \"#d8576b\"], [0.6666666666666666, \"#ed7953\"], [0.7777777777777778, \"#fb9f3a\"], [0.8888888888888888, \"#fdca26\"], [1.0, \"#f0f921\"]], \"type\": \"histogram2d\"}], \"histogram2dcontour\": [{\"colorbar\": {\"outlinewidth\": 0, \"ticks\": \"\"}, \"colorscale\": [[0.0, \"#0d0887\"], [0.1111111111111111, \"#46039f\"], [0.2222222222222222, \"#7201a8\"], [0.3333333333333333, \"#9c179e\"], [0.4444444444444444, \"#bd3786\"], [0.5555555555555556, \"#d8576b\"], [0.6666666666666666, \"#ed7953\"], [0.7777777777777778, \"#fb9f3a\"], [0.8888888888888888, \"#fdca26\"], [1.0, \"#f0f921\"]], \"type\": \"histogram2dcontour\"}], \"mesh3d\": [{\"colorbar\": {\"outlinewidth\": 0, \"ticks\": \"\"}, \"type\": \"mesh3d\"}], \"parcoords\": [{\"line\": {\"colorbar\": {\"outlinewidth\": 0, \"ticks\": \"\"}}, \"type\": \"parcoords\"}], \"pie\": [{\"automargin\": true, \"type\": \"pie\"}], \"scatter\": [{\"marker\": {\"colorbar\": {\"outlinewidth\": 0, \"ticks\": \"\"}}, \"type\": \"scatter\"}], \"scatter3d\": [{\"line\": {\"colorbar\": {\"outlinewidth\": 0, \"ticks\": \"\"}}, \"marker\": {\"colorbar\": {\"outlinewidth\": 0, \"ticks\": \"\"}}, \"type\": \"scatter3d\"}], \"scattercarpet\": [{\"marker\": {\"colorbar\": {\"outlinewidth\": 0, \"ticks\": \"\"}}, \"type\": \"scattercarpet\"}], \"scattergeo\": [{\"marker\": {\"colorbar\": {\"outlinewidth\": 0, \"ticks\": \"\"}}, \"type\": \"scattergeo\"}], \"scattergl\": [{\"marker\": {\"colorbar\": {\"outlinewidth\": 0, \"ticks\": \"\"}}, \"type\": \"scattergl\"}], \"scattermapbox\": [{\"marker\": {\"colorbar\": {\"outlinewidth\": 0, \"ticks\": \"\"}}, \"type\": \"scattermapbox\"}], \"scatterpolar\": [{\"marker\": {\"colorbar\": {\"outlinewidth\": 0, \"ticks\": \"\"}}, \"type\": \"scatterpolar\"}], \"scatterpolargl\": [{\"marker\": {\"colorbar\": {\"outlinewidth\": 0, \"ticks\": \"\"}}, \"type\": \"scatterpolargl\"}], \"scatterternary\": [{\"marker\": {\"colorbar\": {\"outlinewidth\": 0, \"ticks\": \"\"}}, \"type\": \"scatterternary\"}], \"surface\": [{\"colorbar\": {\"outlinewidth\": 0, \"ticks\": \"\"}, \"colorscale\": [[0.0, \"#0d0887\"], [0.1111111111111111, \"#46039f\"], [0.2222222222222222, \"#7201a8\"], [0.3333333333333333, \"#9c179e\"], [0.4444444444444444, \"#bd3786\"], [0.5555555555555556, \"#d8576b\"], [0.6666666666666666, \"#ed7953\"], [0.7777777777777778, \"#fb9f3a\"], [0.8888888888888888, \"#fdca26\"], [1.0, \"#f0f921\"]], \"type\": \"surface\"}], \"table\": [{\"cells\": {\"fill\": {\"color\": \"#EBF0F8\"}, \"line\": {\"color\": \"white\"}}, \"header\": {\"fill\": {\"color\": \"#C8D4E3\"}, \"line\": {\"color\": \"white\"}}, \"type\": \"table\"}]}, \"layout\": {\"annotationdefaults\": {\"arrowcolor\": \"#2a3f5f\", \"arrowhead\": 0, \"arrowwidth\": 1}, \"autotypenumbers\": \"strict\", \"coloraxis\": {\"colorbar\": {\"outlinewidth\": 0, \"ticks\": \"\"}}, \"colorscale\": {\"diverging\": [[0, \"#8e0152\"], [0.1, \"#c51b7d\"], [0.2, \"#de77ae\"], [0.3, \"#f1b6da\"], [0.4, \"#fde0ef\"], [0.5, \"#f7f7f7\"], [0.6, \"#e6f5d0\"], [0.7, \"#b8e186\"], [0.8, \"#7fbc41\"], [0.9, \"#4d9221\"], [1, \"#276419\"]], \"sequential\": [[0.0, \"#0d0887\"], [0.1111111111111111, \"#46039f\"], [0.2222222222222222, \"#7201a8\"], [0.3333333333333333, \"#9c179e\"], [0.4444444444444444, \"#bd3786\"], [0.5555555555555556, \"#d8576b\"], [0.6666666666666666, \"#ed7953\"], [0.7777777777777778, \"#fb9f3a\"], [0.8888888888888888, \"#fdca26\"], [1.0, \"#f0f921\"]], \"sequentialminus\": [[0.0, \"#0d0887\"], [0.1111111111111111, \"#46039f\"], [0.2222222222222222, \"#7201a8\"], [0.3333333333333333, \"#9c179e\"], [0.4444444444444444, \"#bd3786\"], [0.5555555555555556, \"#d8576b\"], [0.6666666666666666, \"#ed7953\"], [0.7777777777777778, \"#fb9f3a\"], [0.8888888888888888, \"#fdca26\"], [1.0, \"#f0f921\"]]}, \"colorway\": [\"#636efa\", \"#EF553B\", \"#00cc96\", \"#ab63fa\", \"#FFA15A\", \"#19d3f3\", \"#FF6692\", \"#B6E880\", \"#FF97FF\", \"#FECB52\"], \"font\": {\"color\": \"#2a3f5f\"}, \"geo\": {\"bgcolor\": \"white\", \"lakecolor\": \"white\", \"landcolor\": \"#E5ECF6\", \"showlakes\": true, \"showland\": true, \"subunitcolor\": \"white\"}, \"hoverlabel\": {\"align\": \"left\"}, \"hovermode\": \"closest\", \"mapbox\": {\"style\": \"light\"}, \"paper_bgcolor\": \"white\", \"plot_bgcolor\": \"#E5ECF6\", \"polar\": {\"angularaxis\": {\"gridcolor\": \"white\", \"linecolor\": \"white\", \"ticks\": \"\"}, \"bgcolor\": \"#E5ECF6\", \"radialaxis\": {\"gridcolor\": \"white\", \"linecolor\": \"white\", \"ticks\": \"\"}}, \"scene\": {\"xaxis\": {\"backgroundcolor\": \"#E5ECF6\", \"gridcolor\": \"white\", \"gridwidth\": 2, \"linecolor\": \"white\", \"showbackground\": true, \"ticks\": \"\", \"zerolinecolor\": \"white\"}, \"yaxis\": {\"backgroundcolor\": \"#E5ECF6\", \"gridcolor\": \"white\", \"gridwidth\": 2, \"linecolor\": \"white\", \"showbackground\": true, \"ticks\": \"\", \"zerolinecolor\": \"white\"}, \"zaxis\": {\"backgroundcolor\": \"#E5ECF6\", \"gridcolor\": \"white\", \"gridwidth\": 2, \"linecolor\": \"white\", \"showbackground\": true, \"ticks\": \"\", \"zerolinecolor\": \"white\"}}, \"shapedefaults\": {\"line\": {\"color\": \"#2a3f5f\"}}, \"ternary\": {\"aaxis\": {\"gridcolor\": \"white\", \"linecolor\": \"white\", \"ticks\": \"\"}, \"baxis\": {\"gridcolor\": \"white\", \"linecolor\": \"white\", \"ticks\": \"\"}, \"bgcolor\": \"#E5ECF6\", \"caxis\": {\"gridcolor\": \"white\", \"linecolor\": \"white\", \"ticks\": \"\"}}, \"title\": {\"x\": 0.05}, \"xaxis\": {\"automargin\": true, \"gridcolor\": \"white\", \"linecolor\": \"white\", \"ticks\": \"\", \"title\": {\"standoff\": 15}, \"zerolinecolor\": \"white\", \"zerolinewidth\": 2}, \"yaxis\": {\"automargin\": true, \"gridcolor\": \"white\", \"linecolor\": \"white\", \"ticks\": \"\", \"title\": {\"standoff\": 15}, \"zerolinecolor\": \"white\", \"zerolinewidth\": 2}}}, \"title\": {\"text\": \"Hyperparameter Importances\"}, \"xaxis\": {\"title\": {\"text\": \"Importance for Objective Value\"}}, \"yaxis\": {\"title\": {\"text\": \"Hyperparameter\"}}},                        {\"responsive\": true}                    ).then(function(){\n",
       "                            \n",
       "var gd = document.getElementById('23765815-0a46-46f7-b970-68042182f6fa');\n",
       "var x = new MutationObserver(function (mutations, observer) {{\n",
       "        var display = window.getComputedStyle(gd).display;\n",
       "        if (!display || display === 'none') {{\n",
       "            console.log([gd, 'removed!']);\n",
       "            Plotly.purge(gd);\n",
       "            observer.disconnect();\n",
       "        }}\n",
       "}});\n",
       "\n",
       "// Listen for the removal of the full notebook cells\n",
       "var notebookContainer = gd.closest('#notebook-container');\n",
       "if (notebookContainer) {{\n",
       "    x.observe(notebookContainer, {childList: true});\n",
       "}}\n",
       "\n",
       "// Listen for the clearing of the current output cell\n",
       "var outputEl = gd.closest('.output');\n",
       "if (outputEl) {{\n",
       "    x.observe(outputEl, {childList: true});\n",
       "}}\n",
       "\n",
       "                        })                };                });            </script>        </div>"
      ]
     },
     "metadata": {},
     "output_type": "display_data"
    }
   ],
   "source": [
    "plot_param_importances(study)"
   ]
  },
  {
   "cell_type": "code",
   "execution_count": 17,
   "metadata": {
    "execution": {
     "iopub.execute_input": "2021-03-27T21:24:53.166922Z",
     "iopub.status.busy": "2021-03-27T21:24:53.165601Z",
     "iopub.status.idle": "2021-03-27T21:24:53.170978Z",
     "shell.execute_reply": "2021-03-27T21:24:53.170350Z"
    },
    "papermill": {
     "duration": 0.039405,
     "end_time": "2021-03-27T21:24:53.171187",
     "exception": false,
     "start_time": "2021-03-27T21:24:53.131782",
     "status": "completed"
    },
    "tags": []
   },
   "outputs": [
    {
     "data": {
      "text/plain": [
       "{'resample': 'random',\n",
       " 'power': False,\n",
       " 'boosting_type': 'gbdt',\n",
       " 'num_leaves': 128,\n",
       " 'max_depth': 7,\n",
       " 'max_delta_step': 5,\n",
       " 'reg_alpha': 16.56792594426734,\n",
       " 'reg_lambda': 11.935291522117284,\n",
       " 'colsample_bytree': 0.22491131139722578,\n",
       " 'cat_smooth': 24.230710626013394,\n",
       " 'cat_l2': 1}"
      ]
     },
     "execution_count": 17,
     "metadata": {},
     "output_type": "execute_result"
    }
   ],
   "source": [
    "study.best_params"
   ]
  },
  {
   "cell_type": "markdown",
   "metadata": {
    "papermill": {
     "duration": 0.027108,
     "end_time": "2021-03-27T21:24:53.225357",
     "exception": false,
     "start_time": "2021-03-27T21:24:53.198249",
     "status": "completed"
    },
    "tags": []
   },
   "source": [
    "Update the best parameters after a long training"
   ]
  },
  {
   "cell_type": "code",
   "execution_count": 18,
   "metadata": {
    "execution": {
     "iopub.execute_input": "2021-03-27T21:24:53.285978Z",
     "iopub.status.busy": "2021-03-27T21:24:53.285179Z",
     "iopub.status.idle": "2021-03-27T21:24:53.289584Z",
     "shell.execute_reply": "2021-03-27T21:24:53.289032Z"
    },
    "papermill": {
     "duration": 0.037471,
     "end_time": "2021-03-27T21:24:53.289732",
     "exception": false,
     "start_time": "2021-03-27T21:24:53.252261",
     "status": "completed"
    },
    "tags": []
   },
   "outputs": [],
   "source": [
    "best_params = {'resample': None,\n",
    " 'power': False,\n",
    " 'boosting_type': 'gbdt',\n",
    " 'num_leaves': 153,\n",
    " 'max_depth': 14,\n",
    " 'max_delta_step': 9,\n",
    " 'reg_alpha': 14.206069641010822,\n",
    " 'reg_lambda': 4.35151505977074,\n",
    " 'colsample_bytree': 0.23599717695150987,\n",
    " 'cat_smooth': 49.698724437071206,\n",
    " 'cat_l2': 19}"
   ]
  },
  {
   "cell_type": "markdown",
   "metadata": {
    "papermill": {
     "duration": 0.027264,
     "end_time": "2021-03-27T21:24:53.344390",
     "exception": false,
     "start_time": "2021-03-27T21:24:53.317126",
     "status": "completed"
    },
    "tags": []
   },
   "source": [
    "# Prepare to submit"
   ]
  },
  {
   "cell_type": "code",
   "execution_count": 19,
   "metadata": {
    "execution": {
     "iopub.execute_input": "2021-03-27T21:24:53.406385Z",
     "iopub.status.busy": "2021-03-27T21:24:53.405392Z",
     "iopub.status.idle": "2021-03-27T21:24:53.409303Z",
     "shell.execute_reply": "2021-03-27T21:24:53.408722Z"
    },
    "papermill": {
     "duration": 0.037337,
     "end_time": "2021-03-27T21:24:53.409450",
     "exception": false,
     "start_time": "2021-03-27T21:24:53.372113",
     "status": "completed"
    },
    "tags": []
   },
   "outputs": [],
   "source": [
    "final_params = dict()\n",
    "final_params['clf']=dict(best_params)\n",
    "\n",
    "final_params['resample']=final_params['clf']['resample']\n",
    "del final_params['clf']['resample']\n",
    "\n",
    "final_params['power']=final_params['clf']['power']\n",
    "del final_params['clf']['power']\n",
    "\n",
    "fixedparams['learning_rate'] = 0.01"
   ]
  },
  {
   "cell_type": "code",
   "execution_count": 20,
   "metadata": {
    "execution": {
     "iopub.execute_input": "2021-03-27T21:24:53.471429Z",
     "iopub.status.busy": "2021-03-27T21:24:53.470604Z",
     "iopub.status.idle": "2021-03-27T22:05:49.778292Z",
     "shell.execute_reply": "2021-03-27T22:05:49.779060Z"
    },
    "papermill": {
     "duration": 2456.342737,
     "end_time": "2021-03-27T22:05:49.779305",
     "exception": false,
     "start_time": "2021-03-27T21:24:53.436568",
     "status": "completed"
    },
    "tags": []
   },
   "outputs": [
    {
     "name": "stdout",
     "output_type": "stream",
     "text": [
      "\n",
      " FOLD 0 ...\n",
      "\n",
      " FOLD 1 ...\n",
      "\n",
      " FOLD 2 ...\n",
      "\n",
      " FOLD 3 ...\n",
      "\n",
      " FOLD 4 ...\n",
      "\n",
      " FOLD 5 ...\n",
      "\n",
      " FOLD 6 ...\n",
      "\n",
      " FOLD 7 ...\n",
      "\n",
      " FOLD 8 ...\n",
      "\n",
      " FOLD 9 ...\n",
      "CPU times: user 2h 39min 2s, sys: 51.6 s, total: 2h 39min 53s\n",
      "Wall time: 40min 56s\n"
     ]
    }
   ],
   "source": [
    "%%time\n",
    "\n",
    "submission.loc[:, 'target'] = kfold_prediction(X, y, X_test, 10, \n",
    "                                               final_params, fixedparams)\n",
    "submission.to_csv('submission.csv', index = False)"
   ]
  },
  {
   "cell_type": "markdown",
   "metadata": {
    "papermill": {
     "duration": 0.029309,
     "end_time": "2021-03-27T22:05:49.840174",
     "exception": false,
     "start_time": "2021-03-27T22:05:49.810865",
     "status": "completed"
    },
    "tags": []
   },
   "source": [
    "# References:\n",
    "\n",
    "- <https://optuna.readthedocs.io/>\n",
    "- <https://www.kaggle.com/rmiperrier/tps-mar-lgbm-optuna>\n",
    "- <https://towardsdatascience.com/how-to-make-your-model-awesome-with-optuna-b56d490368af>\n",
    "- <https://optuna.readthedocs.io/en/v1.0.0/tutorial/pruning.html>\n",
    "- <https://www.kaggle.com/kst6690/dsb2019-tuning-lightgbm-parameter-using-optuna>"
   ]
  }
 ],
 "metadata": {
  "kernelspec": {
   "display_name": "Python 3",
   "language": "python",
   "name": "python3"
  },
  "language_info": {
   "codemirror_mode": {
    "name": "ipython",
    "version": 3
   },
   "file_extension": ".py",
   "mimetype": "text/x-python",
   "name": "python",
   "nbconvert_exporter": "python",
   "pygments_lexer": "ipython3",
   "version": "3.7.9"
  },
  "papermill": {
   "default_parameters": {},
   "duration": 2980.677849,
   "end_time": "2021-03-27T22:05:50.782080",
   "environment_variables": {},
   "exception": null,
   "input_path": "__notebook__.ipynb",
   "output_path": "__notebook__.ipynb",
   "parameters": {},
   "start_time": "2021-03-27T21:16:10.104231",
   "version": "2.2.2"
  }
 },
 "nbformat": 4,
 "nbformat_minor": 4
}
