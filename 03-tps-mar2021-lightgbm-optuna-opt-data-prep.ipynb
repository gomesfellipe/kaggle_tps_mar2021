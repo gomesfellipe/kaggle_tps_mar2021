{
 "cells": [
  {
   "cell_type": "markdown",
   "metadata": {
    "papermill": {
     "duration": 0.015029,
     "end_time": "2021-03-30T13:27:35.525378",
     "exception": false,
     "start_time": "2021-03-30T13:27:35.510349",
     "status": "completed"
    },
    "tags": []
   },
   "source": [
    "# Problem definition\n",
    "\n",
    "\n",
    "-  Details:\n",
    "\n",
    "According to the description: \"The dataset is used for this competition is synthetic but based on a real dataset and generated using a CTGAN. The original dataset deals with predicting the amount of an insurance claim. Although the features are anonymized, they have properties relating to real-world features.\"\n",
    "\n",
    "-  Solution:\n",
    "\n",
    "A LightGBM model will be adjusted using Bayesian optimization with lib [optuna](https://optuna.readthedocs.io/en/stable/) (optimize hyperparameters and pre processing). The goal will be to maximize area under the ROC curve\n",
    "\n",
    "<p align=\"right\"><span style=\"color:firebrick\">Dont forget to upvote if the notebook was useful! <i class=\"fas fa-hand-peace\"></i></span> </p>"
   ]
  },
  {
   "cell_type": "markdown",
   "metadata": {
    "papermill": {
     "duration": 0.01356,
     "end_time": "2021-03-30T13:27:35.552912",
     "exception": false,
     "start_time": "2021-03-30T13:27:35.539352",
     "status": "completed"
    },
    "tags": []
   },
   "source": [
    "# Import dependencies"
   ]
  },
  {
   "cell_type": "code",
   "execution_count": 1,
   "metadata": {
    "_cell_guid": "b1076dfc-b9ad-4769-8c92-a6c4dae69d19",
    "_uuid": "8f2839f25d086af736a60e9eeb907d3b93b6e0e5",
    "execution": {
     "iopub.execute_input": "2021-03-30T13:27:35.587386Z",
     "iopub.status.busy": "2021-03-30T13:27:35.586662Z",
     "iopub.status.idle": "2021-03-30T13:27:37.659881Z",
     "shell.execute_reply": "2021-03-30T13:27:37.659144Z"
    },
    "papermill": {
     "duration": 2.093295,
     "end_time": "2021-03-30T13:27:37.660067",
     "exception": false,
     "start_time": "2021-03-30T13:27:35.566772",
     "status": "completed"
    },
    "tags": []
   },
   "outputs": [
    {
     "data": {
      "text/html": [
       "<style type='text/css'>\n",
       ".datatable table.frame { margin-bottom: 0; }\n",
       ".datatable table.frame thead { border-bottom: none; }\n",
       ".datatable table.frame tr.coltypes td {  color: #FFFFFF;  line-height: 6px;  padding: 0 0.5em;}\n",
       ".datatable .bool    { background: #DDDD99; }\n",
       ".datatable .object  { background: #565656; }\n",
       ".datatable .int     { background: #5D9E5D; }\n",
       ".datatable .float   { background: #4040CC; }\n",
       ".datatable .str     { background: #CC4040; }\n",
       ".datatable .row_index {  background: var(--jp-border-color3);  border-right: 1px solid var(--jp-border-color0);  color: var(--jp-ui-font-color3);  font-size: 9px;}\n",
       ".datatable .frame tr.coltypes .row_index {  background: var(--jp-border-color0);}\n",
       ".datatable th:nth-child(2) { padding-left: 12px; }\n",
       ".datatable .hellipsis {  color: var(--jp-cell-editor-border-color);}\n",
       ".datatable .vellipsis {  background: var(--jp-layout-color0);  color: var(--jp-cell-editor-border-color);}\n",
       ".datatable .na {  color: var(--jp-cell-editor-border-color);  font-size: 80%;}\n",
       ".datatable .footer { font-size: 9px; }\n",
       ".datatable .frame_dimensions {  background: var(--jp-border-color3);  border-top: 1px solid var(--jp-border-color0);  color: var(--jp-ui-font-color3);  display: inline-block;  opacity: 0.6;  padding: 1px 10px 1px 5px;}\n",
       "</style>\n"
      ],
      "text/plain": [
       "<IPython.core.display.HTML object>"
      ]
     },
     "metadata": {},
     "output_type": "display_data"
    }
   ],
   "source": [
    "import numpy as np\n",
    "import pandas as pd\n",
    "\n",
    "from lightgbm import LGBMClassifier\n",
    "\n",
    "from sklearn.preprocessing import PowerTransformer\n",
    "from sklearn.compose import ColumnTransformer\n",
    "from sklearn.model_selection import StratifiedKFold, KFold\n",
    "from sklearn.metrics import roc_auc_score\n",
    "\n",
    "import optuna\n",
    "from optuna.visualization import plot_optimization_history, plot_param_importances\n",
    "from optuna.integration import LightGBMPruningCallback\n",
    "\n",
    "from imblearn.pipeline import Pipeline\n",
    "from imblearn.under_sampling import RandomUnderSampler\n",
    "from imblearn.over_sampling import ADASYN\n",
    "from imblearn.under_sampling import OneSidedSelection, NeighbourhoodCleaningRule, TomekLinks\n",
    "\n",
    "\n",
    "pd.set_option('display.max_columns', 1000)\n",
    "pd.set_option('display.max_rows', 20)"
   ]
  },
  {
   "cell_type": "markdown",
   "metadata": {
    "papermill": {
     "duration": 0.014519,
     "end_time": "2021-03-30T13:27:37.689826",
     "exception": false,
     "start_time": "2021-03-30T13:27:37.675307",
     "status": "completed"
    },
    "tags": []
   },
   "source": [
    "# Prepare data"
   ]
  },
  {
   "cell_type": "code",
   "execution_count": 2,
   "metadata": {
    "execution": {
     "iopub.execute_input": "2021-03-30T13:27:37.724737Z",
     "iopub.status.busy": "2021-03-30T13:27:37.724032Z",
     "iopub.status.idle": "2021-03-30T13:27:41.378893Z",
     "shell.execute_reply": "2021-03-30T13:27:41.378202Z"
    },
    "papermill": {
     "duration": 3.674429,
     "end_time": "2021-03-30T13:27:41.379029",
     "exception": false,
     "start_time": "2021-03-30T13:27:37.704600",
     "status": "completed"
    },
    "tags": []
   },
   "outputs": [],
   "source": [
    "submission = pd.read_csv('../input/tabular-playground-series-mar-2021/sample_submission.csv')\n",
    "X_train = pd.read_csv('../input/tabular-playground-series-mar-2021/train.csv', index_col=0)\n",
    "X_test = pd.read_csv('../input/tabular-playground-series-mar-2021/test.csv', index_col=0)"
   ]
  },
  {
   "cell_type": "code",
   "execution_count": 3,
   "metadata": {
    "execution": {
     "iopub.execute_input": "2021-03-30T13:27:41.423333Z",
     "iopub.status.busy": "2021-03-30T13:27:41.422450Z",
     "iopub.status.idle": "2021-03-30T13:27:42.552476Z",
     "shell.execute_reply": "2021-03-30T13:27:42.552956Z"
    },
    "papermill": {
     "duration": 1.15835,
     "end_time": "2021-03-30T13:27:42.553123",
     "exception": false,
     "start_time": "2021-03-30T13:27:41.394773",
     "status": "completed"
    },
    "tags": []
   },
   "outputs": [],
   "source": [
    "for col in X_train.columns[X_train.dtypes == \"object\"].tolist():\n",
    "    X_train[col] = X_train[col].astype('category')\n",
    "    \n",
    "for col in X_test.columns[X_test.dtypes == \"object\"].tolist():\n",
    "    X_test[col] = X_test[col].astype('category')"
   ]
  },
  {
   "cell_type": "code",
   "execution_count": 4,
   "metadata": {
    "execution": {
     "iopub.execute_input": "2021-03-30T13:27:42.594453Z",
     "iopub.status.busy": "2021-03-30T13:27:42.593505Z",
     "iopub.status.idle": "2021-03-30T13:27:42.595981Z",
     "shell.execute_reply": "2021-03-30T13:27:42.596372Z"
    },
    "papermill": {
     "duration": 0.029171,
     "end_time": "2021-03-30T13:27:42.596564",
     "exception": false,
     "start_time": "2021-03-30T13:27:42.567393",
     "status": "completed"
    },
    "tags": []
   },
   "outputs": [],
   "source": [
    "X = X_train.drop('target', axis=1)\n",
    "y = X_train['target']\n",
    "\n",
    "K = 10 # cross validation\n",
    "\n",
    "fixedparams = {'random_state': 42,\n",
    "               'n_estimators': 10000, \n",
    "               'learning_rate': 0.03, \n",
    "               'metric': 'auc', \n",
    "               'verbose':-1   \n",
    "}"
   ]
  },
  {
   "cell_type": "markdown",
   "metadata": {
    "papermill": {
     "duration": 0.014044,
     "end_time": "2021-03-30T13:27:42.625037",
     "exception": false,
     "start_time": "2021-03-30T13:27:42.610993",
     "status": "completed"
    },
    "tags": []
   },
   "source": [
    "# Custom Functions"
   ]
  },
  {
   "cell_type": "code",
   "execution_count": 5,
   "metadata": {
    "execution": {
     "iopub.execute_input": "2021-03-30T13:27:42.660439Z",
     "iopub.status.busy": "2021-03-30T13:27:42.659544Z",
     "iopub.status.idle": "2021-03-30T13:27:42.662724Z",
     "shell.execute_reply": "2021-03-30T13:27:42.662070Z"
    },
    "papermill": {
     "duration": 0.023594,
     "end_time": "2021-03-30T13:27:42.662858",
     "exception": false,
     "start_time": "2021-03-30T13:27:42.639264",
     "status": "completed"
    },
    "tags": []
   },
   "outputs": [],
   "source": [
    "def model_instance(hyperparams, fixedparams):\n",
    "\n",
    "    clf = LGBMClassifier(**hyperparams['clf'], **fixedparams) \n",
    "    \n",
    "    if hyperparams['resample'] == 'random':\n",
    "        resample = RandomUnderSampler(sampling_strategy='majority')\n",
    "    else:\n",
    "        resample = None\n",
    "        \n",
    "    if hyperparams['power'] == True:\n",
    "        cont = [col for col in X_train.columns if 'cont' in col]\n",
    "        numeric_transformer = PowerTransformer(method='yeo-johnson',\n",
    "                                               standardize=True)\n",
    "\n",
    "        preprocessor = ColumnTransformer(\n",
    "            transformers=[\n",
    "                ('num', numeric_transformer, cont)])\n",
    "    else:\n",
    "        preprocessor = None\n",
    "    \n",
    "    pipe = Pipeline([('preprocessor', preprocessor),\n",
    "                     ('resample', resample),\n",
    "                     ('clf', clf) ])\n",
    "    return pipe"
   ]
  },
  {
   "cell_type": "code",
   "execution_count": 6,
   "metadata": {
    "execution": {
     "iopub.execute_input": "2021-03-30T13:27:42.699078Z",
     "iopub.status.busy": "2021-03-30T13:27:42.698441Z",
     "iopub.status.idle": "2021-03-30T13:27:42.701084Z",
     "shell.execute_reply": "2021-03-30T13:27:42.701549Z"
    },
    "papermill": {
     "duration": 0.022968,
     "end_time": "2021-03-30T13:27:42.701712",
     "exception": false,
     "start_time": "2021-03-30T13:27:42.678744",
     "status": "completed"
    },
    "tags": []
   },
   "outputs": [],
   "source": [
    "def fit_with_stop(pipe, X, y, X_val, y_val, trial, hyperparams, early_stopping_rounds = 50):\n",
    "    \n",
    "    if(trial != 0):\n",
    "        pruning_callback = [LightGBMPruningCallback(trial, 'auc')]\n",
    "    else: \n",
    "        pruning_callback = None\n",
    "    \n",
    "    if hyperparams['power'] == True:\n",
    "        pipe_interim = pipe.named_steps.preprocessor.fit(X)\n",
    "        X_val = pipe_interim.transform(X_val)\n",
    "    \n",
    "    pipe.fit(X, y,\n",
    "              clf__eval_set=(X_val, y_val),\n",
    "              clf__early_stopping_rounds=early_stopping_rounds,\n",
    "              clf__verbose=0,\n",
    "              clf__eval_metric=\"auc\",\n",
    "              clf__callbacks=pruning_callback)\n",
    "    return pipe"
   ]
  },
  {
   "cell_type": "code",
   "execution_count": 7,
   "metadata": {
    "execution": {
     "iopub.execute_input": "2021-03-30T13:27:42.733090Z",
     "iopub.status.busy": "2021-03-30T13:27:42.732527Z",
     "iopub.status.idle": "2021-03-30T13:27:42.737072Z",
     "shell.execute_reply": "2021-03-30T13:27:42.736504Z"
    },
    "papermill": {
     "duration": 0.021238,
     "end_time": "2021-03-30T13:27:42.737201",
     "exception": false,
     "start_time": "2021-03-30T13:27:42.715963",
     "status": "completed"
    },
    "tags": []
   },
   "outputs": [],
   "source": [
    "def evaluate(model, X, y):\n",
    "\n",
    "    yp = model.predict_proba(X)[:, 1]\n",
    "    auc_score = roc_auc_score(y, yp)\n",
    "    return auc_score"
   ]
  },
  {
   "cell_type": "code",
   "execution_count": 8,
   "metadata": {
    "execution": {
     "iopub.execute_input": "2021-03-30T13:27:42.774254Z",
     "iopub.status.busy": "2021-03-30T13:27:42.773578Z",
     "iopub.status.idle": "2021-03-30T13:27:42.776323Z",
     "shell.execute_reply": "2021-03-30T13:27:42.775868Z"
    },
    "papermill": {
     "duration": 0.024886,
     "end_time": "2021-03-30T13:27:42.776475",
     "exception": false,
     "start_time": "2021-03-30T13:27:42.751589",
     "status": "completed"
    },
    "tags": []
   },
   "outputs": [],
   "source": [
    "def kfold_prediction(X, y, X_test, k, hyperparams, fixedparams, early_stopping_rounds = 50):\n",
    "\n",
    "    yp = np.zeros(len(X_test))\n",
    "    \n",
    "    kf = StratifiedKFold(n_splits=k,random_state=42,shuffle=True)\n",
    "    model = model_instance(hyperparams, fixedparams)\n",
    "    \n",
    "    for i, (train_idx, test_idx) in enumerate(kf.split(X, y)):\n",
    "        print(f\"\\n FOLD {i} ...\")\n",
    "        X_train = X.iloc[train_idx]\n",
    "        y_train = y.iloc[train_idx]\n",
    "        X_val = X.iloc[test_idx]\n",
    "        y_val = y.iloc[test_idx]\n",
    "        \n",
    "        model_fit = fit_with_stop(model, X_train, y_train,\n",
    "                                  X_val, y_val, 0, hyperparams, \n",
    "                                  early_stopping_rounds)\n",
    "        yp += model_fit.predict_proba(X_test)[:, 1] / k\n",
    "    \n",
    "    return yp"
   ]
  },
  {
   "cell_type": "code",
   "execution_count": 9,
   "metadata": {
    "execution": {
     "iopub.execute_input": "2021-03-30T13:27:42.815186Z",
     "iopub.status.busy": "2021-03-30T13:27:42.814527Z",
     "iopub.status.idle": "2021-03-30T13:27:42.817642Z",
     "shell.execute_reply": "2021-03-30T13:27:42.817178Z"
    },
    "papermill": {
     "duration": 0.026884,
     "end_time": "2021-03-30T13:27:42.817782",
     "exception": false,
     "start_time": "2021-03-30T13:27:42.790898",
     "status": "completed"
    },
    "tags": []
   },
   "outputs": [],
   "source": [
    "def objective(trial):\n",
    "    \n",
    "    global X, y, K, fixedparams\n",
    "\n",
    "    hyperparams = {\n",
    "        'resample': trial.suggest_categorical(\"resample\", [None]),\n",
    "        'power': trial.suggest_categorical(\"power\", [False]),\n",
    "        'clf':{\n",
    "            'boosting_type': trial.suggest_categorical(\"boosting_type\", ['gbdt']),\n",
    "            'num_leaves': trial.suggest_int('num_leaves', 2, 1024),\n",
    "            'min_child_samples': trial.suggest_int('min_child_samples', 5, 100),\n",
    "            'max_depth': trial.suggest_int('max_depth', 1, 64),\n",
    "               \n",
    "            'max_delta_step': trial.suggest_int('max_delta_step', 1, 15),\n",
    "            ##'max_bin': trial.suggest_int('max_bin', 32, 255),\n",
    "            ##'min_data_in_leaf': trial.suggest_int('min_data_in_leaf', 1, 256),\n",
    "            ##'min_data_in_bin': trial.suggest_int('min_data_in_bin', 1, 256),\n",
    "            'reg_alpha': trial.suggest_float('reg_alpha', 0.001, 10),\n",
    "            'reg_lambda': trial.suggest_float('reg_lambda', 0.001, 10),\n",
    "            #'min_split_gain' : trial.suggest_discrete_uniform('min_split_gain', 0, 5, 0.01),\n",
    "            \n",
    "            'colsample_bytree': trial.suggest_float('colsample_bytree', 0.1, 0.5),\n",
    "            #'subsample': trial.suggest_float('subsample ', 0.1, 1.0),\n",
    "            \n",
    "            'cat_smooth': trial.suggest_float('cat_smooth', 10, 100.0),\n",
    "            'cat_l2': trial.suggest_int('cat_l2', 1, 20)\n",
    "        }\n",
    "\n",
    "    }\n",
    "    \n",
    "    kf = StratifiedKFold(n_splits=K,random_state=42,shuffle=True)\n",
    "    scores = []\n",
    "    model = model_instance(hyperparams, fixedparams)\n",
    "    \n",
    "    for i, (train_idx, test_idx) in enumerate(kf.split(X, y)):\n",
    "        \n",
    "        X_train = X.iloc[train_idx]\n",
    "        y_train = y.iloc[train_idx]\n",
    "        X_val = X.iloc[test_idx]\n",
    "        y_val = y.iloc[test_idx]\n",
    "        \n",
    "        model_fit = fit_with_stop(model, X_train, y_train, X_val, y_val,\n",
    "                                  trial, hyperparams)\n",
    "        val_score = evaluate(model_fit, X_val, y_val)\n",
    "        scores.append(val_score)\n",
    "    \n",
    "    return np.nanmean(scores)\n"
   ]
  },
  {
   "cell_type": "markdown",
   "metadata": {
    "papermill": {
     "duration": 0.014312,
     "end_time": "2021-03-30T13:27:42.846571",
     "exception": false,
     "start_time": "2021-03-30T13:27:42.832259",
     "status": "completed"
    },
    "tags": []
   },
   "source": [
    "# Model Tuning"
   ]
  },
  {
   "cell_type": "code",
   "execution_count": 10,
   "metadata": {
    "execution": {
     "iopub.execute_input": "2021-03-30T13:27:42.878780Z",
     "iopub.status.busy": "2021-03-30T13:27:42.877913Z",
     "iopub.status.idle": "2021-03-30T13:27:42.885233Z",
     "shell.execute_reply": "2021-03-30T13:27:42.885918Z"
    },
    "papermill": {
     "duration": 0.025202,
     "end_time": "2021-03-30T13:27:42.886127",
     "exception": false,
     "start_time": "2021-03-30T13:27:42.860925",
     "status": "completed"
    },
    "tags": []
   },
   "outputs": [
    {
     "name": "stderr",
     "output_type": "stream",
     "text": [
      "\u001b[32m[I 2021-03-30 13:27:42,878]\u001b[0m A new study created in memory with name: no-name-21ff7f94-071a-4416-a7de-066050fa2c97\u001b[0m\n"
     ]
    }
   ],
   "source": [
    "study = optuna.create_study(direction='maximize',\n",
    "                            pruner=optuna.pruners.HyperbandPruner())"
   ]
  },
  {
   "cell_type": "code",
   "execution_count": 11,
   "metadata": {
    "execution": {
     "iopub.execute_input": "2021-03-30T13:27:42.919425Z",
     "iopub.status.busy": "2021-03-30T13:27:42.918505Z",
     "iopub.status.idle": "2021-03-30T14:03:01.783041Z",
     "shell.execute_reply": "2021-03-30T14:03:01.783556Z"
    },
    "papermill": {
     "duration": 2118.882948,
     "end_time": "2021-03-30T14:03:01.783896",
     "exception": false,
     "start_time": "2021-03-30T13:27:42.900948",
     "status": "completed"
    },
    "tags": []
   },
   "outputs": [
    {
     "name": "stderr",
     "output_type": "stream",
     "text": [
      "\u001b[32m[I 2021-03-30 13:50:21,954]\u001b[0m Trial 0 finished with value: 0.8967718563248053 and parameters: {'resample': None, 'power': False, 'boosting_type': 'gbdt', 'num_leaves': 201, 'min_child_samples': 38, 'max_depth': 16, 'max_delta_step': 8, 'reg_alpha': 0.08602858145146089, 'reg_lambda': 9.519335431382597, 'colsample_bytree': 0.34690397935398376, 'cat_smooth': 82.38395064451798, 'cat_l2': 12}. Best is trial 0 with value: 0.8967718563248053.\u001b[0m\n",
      "\u001b[32m[I 2021-03-30 13:54:51,464]\u001b[0m Trial 2 finished with value: 0.8967589347904699 and parameters: {'resample': None, 'power': False, 'boosting_type': 'gbdt', 'num_leaves': 192, 'min_child_samples': 59, 'max_depth': 20, 'max_delta_step': 14, 'reg_alpha': 9.43418465977083, 'reg_lambda': 2.8176928933523397, 'colsample_bytree': 0.4753347735691177, 'cat_smooth': 86.472610359606, 'cat_l2': 2}. Best is trial 0 with value: 0.8967718563248053.\u001b[0m\n",
      "\u001b[32m[I 2021-03-30 13:55:51,133]\u001b[0m Trial 3 finished with value: 0.8960445390570394 and parameters: {'resample': None, 'power': False, 'boosting_type': 'gbdt', 'num_leaves': 50, 'min_child_samples': 98, 'max_depth': 42, 'max_delta_step': 9, 'reg_alpha': 5.136619496634393, 'reg_lambda': 8.164110671714148, 'colsample_bytree': 0.13035958562949293, 'cat_smooth': 78.36940576922024, 'cat_l2': 6}. Best is trial 0 with value: 0.8967718563248053.\u001b[0m\n",
      "\u001b[32m[I 2021-03-30 14:03:01,740]\u001b[0m Trial 1 finished with value: 0.8950816276339918 and parameters: {'resample': None, 'power': False, 'boosting_type': 'gbdt', 'num_leaves': 804, 'min_child_samples': 10, 'max_depth': 50, 'max_delta_step': 12, 'reg_alpha': 3.932254955808264, 'reg_lambda': 8.75781658173046, 'colsample_bytree': 0.10121089019206267, 'cat_smooth': 71.48264386124173, 'cat_l2': 16}. Best is trial 0 with value: 0.8967718563248053.\u001b[0m\n"
     ]
    },
    {
     "name": "stdout",
     "output_type": "stream",
     "text": [
      "CPU times: user 1h 36min 44s, sys: 23min 22s, total: 2h 7s\n",
      "Wall time: 35min 18s\n"
     ]
    }
   ],
   "source": [
    "%%time\n",
    "import warnings\n",
    "warnings.filterwarnings('ignore')\n",
    "\n",
    "study.optimize(objective, timeout=60*5, n_jobs=-1,\n",
    "               n_trials=None, gc_after_trial=False)"
   ]
  },
  {
   "cell_type": "markdown",
   "metadata": {
    "papermill": {
     "duration": 0.016129,
     "end_time": "2021-03-30T14:03:01.816177",
     "exception": false,
     "start_time": "2021-03-30T14:03:01.800048",
     "status": "completed"
    },
    "tags": []
   },
   "source": [
    "# Evaluate optimization"
   ]
  },
  {
   "cell_type": "code",
   "execution_count": 12,
   "metadata": {
    "execution": {
     "iopub.execute_input": "2021-03-30T14:03:01.862451Z",
     "iopub.status.busy": "2021-03-30T14:03:01.861794Z",
     "iopub.status.idle": "2021-03-30T14:03:01.890241Z",
     "shell.execute_reply": "2021-03-30T14:03:01.889639Z"
    },
    "papermill": {
     "duration": 0.057819,
     "end_time": "2021-03-30T14:03:01.890373",
     "exception": false,
     "start_time": "2021-03-30T14:03:01.832554",
     "status": "completed"
    },
    "tags": []
   },
   "outputs": [
    {
     "data": {
      "text/html": [
       "<div>\n",
       "<style scoped>\n",
       "    .dataframe tbody tr th:only-of-type {\n",
       "        vertical-align: middle;\n",
       "    }\n",
       "\n",
       "    .dataframe tbody tr th {\n",
       "        vertical-align: top;\n",
       "    }\n",
       "\n",
       "    .dataframe thead th {\n",
       "        text-align: right;\n",
       "    }\n",
       "</style>\n",
       "<table border=\"1\" class=\"dataframe\">\n",
       "  <thead>\n",
       "    <tr style=\"text-align: right;\">\n",
       "      <th></th>\n",
       "      <th>number</th>\n",
       "      <th>value</th>\n",
       "      <th>datetime_start</th>\n",
       "      <th>datetime_complete</th>\n",
       "      <th>duration</th>\n",
       "      <th>params_boosting_type</th>\n",
       "      <th>params_cat_l2</th>\n",
       "      <th>params_cat_smooth</th>\n",
       "      <th>params_colsample_bytree</th>\n",
       "      <th>params_max_delta_step</th>\n",
       "      <th>params_max_depth</th>\n",
       "      <th>params_min_child_samples</th>\n",
       "      <th>params_num_leaves</th>\n",
       "      <th>params_power</th>\n",
       "      <th>params_reg_alpha</th>\n",
       "      <th>params_reg_lambda</th>\n",
       "      <th>params_resample</th>\n",
       "      <th>system_attrs_completed_rung_0</th>\n",
       "      <th>system_attrs_completed_rung_1</th>\n",
       "      <th>system_attrs_completed_rung_2</th>\n",
       "      <th>system_attrs_completed_rung_3</th>\n",
       "      <th>system_attrs_completed_rung_4</th>\n",
       "      <th>system_attrs_completed_rung_5</th>\n",
       "      <th>system_attrs_completed_rung_6</th>\n",
       "      <th>state</th>\n",
       "    </tr>\n",
       "  </thead>\n",
       "  <tbody>\n",
       "    <tr>\n",
       "      <th>0</th>\n",
       "      <td>0</td>\n",
       "      <td>0.896772</td>\n",
       "      <td>2021-03-30 13:27:42.927507</td>\n",
       "      <td>2021-03-30 13:50:21.950437</td>\n",
       "      <td>0 days 00:22:39.022930</td>\n",
       "      <td>gbdt</td>\n",
       "      <td>12</td>\n",
       "      <td>82.383951</td>\n",
       "      <td>0.346904</td>\n",
       "      <td>8</td>\n",
       "      <td>16</td>\n",
       "      <td>38</td>\n",
       "      <td>201</td>\n",
       "      <td>False</td>\n",
       "      <td>0.086029</td>\n",
       "      <td>9.519335</td>\n",
       "      <td>None</td>\n",
       "      <td>NaN</td>\n",
       "      <td>NaN</td>\n",
       "      <td>NaN</td>\n",
       "      <td>NaN</td>\n",
       "      <td>NaN</td>\n",
       "      <td>NaN</td>\n",
       "      <td>NaN</td>\n",
       "      <td>COMPLETE</td>\n",
       "    </tr>\n",
       "    <tr>\n",
       "      <th>1</th>\n",
       "      <td>1</td>\n",
       "      <td>0.895082</td>\n",
       "      <td>2021-03-30 13:27:42.932353</td>\n",
       "      <td>2021-03-30 14:03:01.737894</td>\n",
       "      <td>0 days 00:35:18.805541</td>\n",
       "      <td>gbdt</td>\n",
       "      <td>16</td>\n",
       "      <td>71.482644</td>\n",
       "      <td>0.101211</td>\n",
       "      <td>12</td>\n",
       "      <td>50</td>\n",
       "      <td>10</td>\n",
       "      <td>804</td>\n",
       "      <td>False</td>\n",
       "      <td>3.932255</td>\n",
       "      <td>8.757817</td>\n",
       "      <td>None</td>\n",
       "      <td>0.894556</td>\n",
       "      <td>0.894556</td>\n",
       "      <td>0.894556</td>\n",
       "      <td>0.894556</td>\n",
       "      <td>0.894556</td>\n",
       "      <td>0.894556</td>\n",
       "      <td>0.894556</td>\n",
       "      <td>COMPLETE</td>\n",
       "    </tr>\n",
       "    <tr>\n",
       "      <th>2</th>\n",
       "      <td>2</td>\n",
       "      <td>0.896759</td>\n",
       "      <td>2021-03-30 13:27:42.934713</td>\n",
       "      <td>2021-03-30 13:54:51.460106</td>\n",
       "      <td>0 days 00:27:08.525393</td>\n",
       "      <td>gbdt</td>\n",
       "      <td>2</td>\n",
       "      <td>86.472610</td>\n",
       "      <td>0.475335</td>\n",
       "      <td>14</td>\n",
       "      <td>20</td>\n",
       "      <td>59</td>\n",
       "      <td>192</td>\n",
       "      <td>False</td>\n",
       "      <td>9.434185</td>\n",
       "      <td>2.817693</td>\n",
       "      <td>None</td>\n",
       "      <td>0.896128</td>\n",
       "      <td>0.896128</td>\n",
       "      <td>0.896128</td>\n",
       "      <td>NaN</td>\n",
       "      <td>NaN</td>\n",
       "      <td>NaN</td>\n",
       "      <td>NaN</td>\n",
       "      <td>COMPLETE</td>\n",
       "    </tr>\n",
       "    <tr>\n",
       "      <th>3</th>\n",
       "      <td>3</td>\n",
       "      <td>0.896045</td>\n",
       "      <td>2021-03-30 13:27:42.936799</td>\n",
       "      <td>2021-03-30 13:55:51.130962</td>\n",
       "      <td>0 days 00:28:08.194163</td>\n",
       "      <td>gbdt</td>\n",
       "      <td>6</td>\n",
       "      <td>78.369406</td>\n",
       "      <td>0.130360</td>\n",
       "      <td>9</td>\n",
       "      <td>42</td>\n",
       "      <td>98</td>\n",
       "      <td>50</td>\n",
       "      <td>False</td>\n",
       "      <td>5.136619</td>\n",
       "      <td>8.164111</td>\n",
       "      <td>None</td>\n",
       "      <td>0.896510</td>\n",
       "      <td>0.896510</td>\n",
       "      <td>0.896510</td>\n",
       "      <td>0.896510</td>\n",
       "      <td>0.896510</td>\n",
       "      <td>0.896510</td>\n",
       "      <td>0.896510</td>\n",
       "      <td>COMPLETE</td>\n",
       "    </tr>\n",
       "  </tbody>\n",
       "</table>\n",
       "</div>"
      ],
      "text/plain": [
       "   number     value             datetime_start          datetime_complete  \\\n",
       "0       0  0.896772 2021-03-30 13:27:42.927507 2021-03-30 13:50:21.950437   \n",
       "1       1  0.895082 2021-03-30 13:27:42.932353 2021-03-30 14:03:01.737894   \n",
       "2       2  0.896759 2021-03-30 13:27:42.934713 2021-03-30 13:54:51.460106   \n",
       "3       3  0.896045 2021-03-30 13:27:42.936799 2021-03-30 13:55:51.130962   \n",
       "\n",
       "                duration params_boosting_type  params_cat_l2  \\\n",
       "0 0 days 00:22:39.022930                 gbdt             12   \n",
       "1 0 days 00:35:18.805541                 gbdt             16   \n",
       "2 0 days 00:27:08.525393                 gbdt              2   \n",
       "3 0 days 00:28:08.194163                 gbdt              6   \n",
       "\n",
       "   params_cat_smooth  params_colsample_bytree  params_max_delta_step  \\\n",
       "0          82.383951                 0.346904                      8   \n",
       "1          71.482644                 0.101211                     12   \n",
       "2          86.472610                 0.475335                     14   \n",
       "3          78.369406                 0.130360                      9   \n",
       "\n",
       "   params_max_depth  params_min_child_samples  params_num_leaves  \\\n",
       "0                16                        38                201   \n",
       "1                50                        10                804   \n",
       "2                20                        59                192   \n",
       "3                42                        98                 50   \n",
       "\n",
       "   params_power  params_reg_alpha  params_reg_lambda params_resample  \\\n",
       "0         False          0.086029           9.519335            None   \n",
       "1         False          3.932255           8.757817            None   \n",
       "2         False          9.434185           2.817693            None   \n",
       "3         False          5.136619           8.164111            None   \n",
       "\n",
       "   system_attrs_completed_rung_0  system_attrs_completed_rung_1  \\\n",
       "0                            NaN                            NaN   \n",
       "1                       0.894556                       0.894556   \n",
       "2                       0.896128                       0.896128   \n",
       "3                       0.896510                       0.896510   \n",
       "\n",
       "   system_attrs_completed_rung_2  system_attrs_completed_rung_3  \\\n",
       "0                            NaN                            NaN   \n",
       "1                       0.894556                       0.894556   \n",
       "2                       0.896128                            NaN   \n",
       "3                       0.896510                       0.896510   \n",
       "\n",
       "   system_attrs_completed_rung_4  system_attrs_completed_rung_5  \\\n",
       "0                            NaN                            NaN   \n",
       "1                       0.894556                       0.894556   \n",
       "2                            NaN                            NaN   \n",
       "3                       0.896510                       0.896510   \n",
       "\n",
       "   system_attrs_completed_rung_6     state  \n",
       "0                            NaN  COMPLETE  \n",
       "1                       0.894556  COMPLETE  \n",
       "2                            NaN  COMPLETE  \n",
       "3                       0.896510  COMPLETE  "
      ]
     },
     "execution_count": 12,
     "metadata": {},
     "output_type": "execute_result"
    }
   ],
   "source": [
    "study.trials_dataframe()"
   ]
  },
  {
   "cell_type": "code",
   "execution_count": 13,
   "metadata": {
    "execution": {
     "iopub.execute_input": "2021-03-30T14:03:01.927344Z",
     "iopub.status.busy": "2021-03-30T14:03:01.926803Z",
     "iopub.status.idle": "2021-03-30T14:03:01.932185Z",
     "shell.execute_reply": "2021-03-30T14:03:01.932622Z"
    },
    "papermill": {
     "duration": 0.024853,
     "end_time": "2021-03-30T14:03:01.932815",
     "exception": false,
     "start_time": "2021-03-30T14:03:01.907962",
     "status": "completed"
    },
    "tags": []
   },
   "outputs": [
    {
     "data": {
      "text/plain": [
       "0.8967718563248053"
      ]
     },
     "execution_count": 13,
     "metadata": {},
     "output_type": "execute_result"
    }
   ],
   "source": [
    "study.best_value"
   ]
  },
  {
   "cell_type": "code",
   "execution_count": 14,
   "metadata": {
    "execution": {
     "iopub.execute_input": "2021-03-30T14:03:01.970815Z",
     "iopub.status.busy": "2021-03-30T14:03:01.970194Z",
     "iopub.status.idle": "2021-03-30T14:03:02.238304Z",
     "shell.execute_reply": "2021-03-30T14:03:02.237868Z"
    },
    "papermill": {
     "duration": 0.288917,
     "end_time": "2021-03-30T14:03:02.238464",
     "exception": false,
     "start_time": "2021-03-30T14:03:01.949547",
     "status": "completed"
    },
    "tags": []
   },
   "outputs": [
    {
     "data": {
      "text/html": [
       "        <script type=\"text/javascript\">\n",
       "        window.PlotlyConfig = {MathJaxConfig: 'local'};\n",
       "        if (window.MathJax) {MathJax.Hub.Config({SVG: {font: \"STIX-Web\"}});}\n",
       "        if (typeof require !== 'undefined') {\n",
       "        require.undef(\"plotly\");\n",
       "        requirejs.config({\n",
       "            paths: {\n",
       "                'plotly': ['https://cdn.plot.ly/plotly-latest.min']\n",
       "            }\n",
       "        });\n",
       "        require(['plotly'], function(Plotly) {\n",
       "            window._Plotly = Plotly;\n",
       "        });\n",
       "        }\n",
       "        </script>\n",
       "        "
      ]
     },
     "metadata": {},
     "output_type": "display_data"
    },
    {
     "data": {
      "text/html": [
       "<div>                            <div id=\"a921bbc8-cb38-4f8e-92ea-efeef31ebfa6\" class=\"plotly-graph-div\" style=\"height:525px; width:100%;\"></div>            <script type=\"text/javascript\">                require([\"plotly\"], function(Plotly) {                    window.PLOTLYENV=window.PLOTLYENV || {};                                    if (document.getElementById(\"a921bbc8-cb38-4f8e-92ea-efeef31ebfa6\")) {                    Plotly.newPlot(                        \"a921bbc8-cb38-4f8e-92ea-efeef31ebfa6\",                        [{\"mode\": \"markers\", \"name\": \"Objective Value\", \"type\": \"scatter\", \"x\": [0, 1, 2, 3], \"y\": [0.8967718563248053, 0.8950816276339918, 0.8967589347904699, 0.8960445390570394]}, {\"name\": \"Best Value\", \"type\": \"scatter\", \"x\": [0, 1, 2, 3], \"y\": [0.8967718563248053, 0.8967718563248053, 0.8967718563248053, 0.8967718563248053]}],                        {\"template\": {\"data\": {\"bar\": [{\"error_x\": {\"color\": \"#2a3f5f\"}, \"error_y\": {\"color\": \"#2a3f5f\"}, \"marker\": {\"line\": {\"color\": \"#E5ECF6\", \"width\": 0.5}}, \"type\": \"bar\"}], \"barpolar\": [{\"marker\": {\"line\": {\"color\": \"#E5ECF6\", \"width\": 0.5}}, \"type\": \"barpolar\"}], \"carpet\": [{\"aaxis\": {\"endlinecolor\": \"#2a3f5f\", \"gridcolor\": \"white\", \"linecolor\": \"white\", \"minorgridcolor\": \"white\", \"startlinecolor\": \"#2a3f5f\"}, \"baxis\": {\"endlinecolor\": \"#2a3f5f\", \"gridcolor\": \"white\", \"linecolor\": \"white\", \"minorgridcolor\": \"white\", \"startlinecolor\": \"#2a3f5f\"}, \"type\": \"carpet\"}], \"choropleth\": [{\"colorbar\": {\"outlinewidth\": 0, \"ticks\": \"\"}, \"type\": \"choropleth\"}], \"contour\": [{\"colorbar\": {\"outlinewidth\": 0, \"ticks\": \"\"}, \"colorscale\": [[0.0, \"#0d0887\"], [0.1111111111111111, \"#46039f\"], [0.2222222222222222, \"#7201a8\"], [0.3333333333333333, \"#9c179e\"], [0.4444444444444444, \"#bd3786\"], [0.5555555555555556, \"#d8576b\"], [0.6666666666666666, \"#ed7953\"], [0.7777777777777778, \"#fb9f3a\"], [0.8888888888888888, \"#fdca26\"], [1.0, \"#f0f921\"]], \"type\": \"contour\"}], \"contourcarpet\": [{\"colorbar\": {\"outlinewidth\": 0, \"ticks\": \"\"}, \"type\": \"contourcarpet\"}], \"heatmap\": [{\"colorbar\": {\"outlinewidth\": 0, \"ticks\": \"\"}, \"colorscale\": [[0.0, \"#0d0887\"], [0.1111111111111111, \"#46039f\"], [0.2222222222222222, \"#7201a8\"], [0.3333333333333333, \"#9c179e\"], [0.4444444444444444, \"#bd3786\"], [0.5555555555555556, \"#d8576b\"], [0.6666666666666666, \"#ed7953\"], [0.7777777777777778, \"#fb9f3a\"], [0.8888888888888888, \"#fdca26\"], [1.0, \"#f0f921\"]], \"type\": \"heatmap\"}], \"heatmapgl\": [{\"colorbar\": {\"outlinewidth\": 0, \"ticks\": \"\"}, \"colorscale\": [[0.0, \"#0d0887\"], [0.1111111111111111, \"#46039f\"], [0.2222222222222222, \"#7201a8\"], [0.3333333333333333, \"#9c179e\"], [0.4444444444444444, \"#bd3786\"], [0.5555555555555556, \"#d8576b\"], [0.6666666666666666, \"#ed7953\"], [0.7777777777777778, \"#fb9f3a\"], [0.8888888888888888, \"#fdca26\"], [1.0, \"#f0f921\"]], \"type\": \"heatmapgl\"}], \"histogram\": [{\"marker\": {\"colorbar\": {\"outlinewidth\": 0, \"ticks\": \"\"}}, \"type\": \"histogram\"}], \"histogram2d\": [{\"colorbar\": {\"outlinewidth\": 0, \"ticks\": \"\"}, \"colorscale\": [[0.0, \"#0d0887\"], [0.1111111111111111, \"#46039f\"], [0.2222222222222222, \"#7201a8\"], [0.3333333333333333, \"#9c179e\"], [0.4444444444444444, \"#bd3786\"], [0.5555555555555556, \"#d8576b\"], [0.6666666666666666, \"#ed7953\"], [0.7777777777777778, \"#fb9f3a\"], [0.8888888888888888, \"#fdca26\"], [1.0, \"#f0f921\"]], \"type\": \"histogram2d\"}], \"histogram2dcontour\": [{\"colorbar\": {\"outlinewidth\": 0, \"ticks\": \"\"}, \"colorscale\": [[0.0, \"#0d0887\"], [0.1111111111111111, \"#46039f\"], [0.2222222222222222, \"#7201a8\"], [0.3333333333333333, \"#9c179e\"], [0.4444444444444444, \"#bd3786\"], [0.5555555555555556, \"#d8576b\"], [0.6666666666666666, \"#ed7953\"], [0.7777777777777778, \"#fb9f3a\"], [0.8888888888888888, \"#fdca26\"], [1.0, \"#f0f921\"]], \"type\": \"histogram2dcontour\"}], \"mesh3d\": [{\"colorbar\": {\"outlinewidth\": 0, \"ticks\": \"\"}, \"type\": \"mesh3d\"}], \"parcoords\": [{\"line\": {\"colorbar\": {\"outlinewidth\": 0, \"ticks\": \"\"}}, \"type\": \"parcoords\"}], \"pie\": [{\"automargin\": true, \"type\": \"pie\"}], \"scatter\": [{\"marker\": {\"colorbar\": {\"outlinewidth\": 0, \"ticks\": \"\"}}, \"type\": \"scatter\"}], \"scatter3d\": [{\"line\": {\"colorbar\": {\"outlinewidth\": 0, \"ticks\": \"\"}}, \"marker\": {\"colorbar\": {\"outlinewidth\": 0, \"ticks\": \"\"}}, \"type\": \"scatter3d\"}], \"scattercarpet\": [{\"marker\": {\"colorbar\": {\"outlinewidth\": 0, \"ticks\": \"\"}}, \"type\": \"scattercarpet\"}], \"scattergeo\": [{\"marker\": {\"colorbar\": {\"outlinewidth\": 0, \"ticks\": \"\"}}, \"type\": \"scattergeo\"}], \"scattergl\": [{\"marker\": {\"colorbar\": {\"outlinewidth\": 0, \"ticks\": \"\"}}, \"type\": \"scattergl\"}], \"scattermapbox\": [{\"marker\": {\"colorbar\": {\"outlinewidth\": 0, \"ticks\": \"\"}}, \"type\": \"scattermapbox\"}], \"scatterpolar\": [{\"marker\": {\"colorbar\": {\"outlinewidth\": 0, \"ticks\": \"\"}}, \"type\": \"scatterpolar\"}], \"scatterpolargl\": [{\"marker\": {\"colorbar\": {\"outlinewidth\": 0, \"ticks\": \"\"}}, \"type\": \"scatterpolargl\"}], \"scatterternary\": [{\"marker\": {\"colorbar\": {\"outlinewidth\": 0, \"ticks\": \"\"}}, \"type\": \"scatterternary\"}], \"surface\": [{\"colorbar\": {\"outlinewidth\": 0, \"ticks\": \"\"}, \"colorscale\": [[0.0, \"#0d0887\"], [0.1111111111111111, \"#46039f\"], [0.2222222222222222, \"#7201a8\"], [0.3333333333333333, \"#9c179e\"], [0.4444444444444444, \"#bd3786\"], [0.5555555555555556, \"#d8576b\"], [0.6666666666666666, \"#ed7953\"], [0.7777777777777778, \"#fb9f3a\"], [0.8888888888888888, \"#fdca26\"], [1.0, \"#f0f921\"]], \"type\": \"surface\"}], \"table\": [{\"cells\": {\"fill\": {\"color\": \"#EBF0F8\"}, \"line\": {\"color\": \"white\"}}, \"header\": {\"fill\": {\"color\": \"#C8D4E3\"}, \"line\": {\"color\": \"white\"}}, \"type\": \"table\"}]}, \"layout\": {\"annotationdefaults\": {\"arrowcolor\": \"#2a3f5f\", \"arrowhead\": 0, \"arrowwidth\": 1}, \"autotypenumbers\": \"strict\", \"coloraxis\": {\"colorbar\": {\"outlinewidth\": 0, \"ticks\": \"\"}}, \"colorscale\": {\"diverging\": [[0, \"#8e0152\"], [0.1, \"#c51b7d\"], [0.2, \"#de77ae\"], [0.3, \"#f1b6da\"], [0.4, \"#fde0ef\"], [0.5, \"#f7f7f7\"], [0.6, \"#e6f5d0\"], [0.7, \"#b8e186\"], [0.8, \"#7fbc41\"], [0.9, \"#4d9221\"], [1, \"#276419\"]], \"sequential\": [[0.0, \"#0d0887\"], [0.1111111111111111, \"#46039f\"], [0.2222222222222222, \"#7201a8\"], [0.3333333333333333, \"#9c179e\"], [0.4444444444444444, \"#bd3786\"], [0.5555555555555556, \"#d8576b\"], [0.6666666666666666, \"#ed7953\"], [0.7777777777777778, \"#fb9f3a\"], [0.8888888888888888, \"#fdca26\"], [1.0, \"#f0f921\"]], \"sequentialminus\": [[0.0, \"#0d0887\"], [0.1111111111111111, \"#46039f\"], [0.2222222222222222, \"#7201a8\"], [0.3333333333333333, \"#9c179e\"], [0.4444444444444444, \"#bd3786\"], [0.5555555555555556, \"#d8576b\"], [0.6666666666666666, \"#ed7953\"], [0.7777777777777778, \"#fb9f3a\"], [0.8888888888888888, \"#fdca26\"], [1.0, \"#f0f921\"]]}, \"colorway\": [\"#636efa\", \"#EF553B\", \"#00cc96\", \"#ab63fa\", \"#FFA15A\", \"#19d3f3\", \"#FF6692\", \"#B6E880\", \"#FF97FF\", \"#FECB52\"], \"font\": {\"color\": \"#2a3f5f\"}, \"geo\": {\"bgcolor\": \"white\", \"lakecolor\": \"white\", \"landcolor\": \"#E5ECF6\", \"showlakes\": true, \"showland\": true, \"subunitcolor\": \"white\"}, \"hoverlabel\": {\"align\": \"left\"}, \"hovermode\": \"closest\", \"mapbox\": {\"style\": \"light\"}, \"paper_bgcolor\": \"white\", \"plot_bgcolor\": \"#E5ECF6\", \"polar\": {\"angularaxis\": {\"gridcolor\": \"white\", \"linecolor\": \"white\", \"ticks\": \"\"}, \"bgcolor\": \"#E5ECF6\", \"radialaxis\": {\"gridcolor\": \"white\", \"linecolor\": \"white\", \"ticks\": \"\"}}, \"scene\": {\"xaxis\": {\"backgroundcolor\": \"#E5ECF6\", \"gridcolor\": \"white\", \"gridwidth\": 2, \"linecolor\": \"white\", \"showbackground\": true, \"ticks\": \"\", \"zerolinecolor\": \"white\"}, \"yaxis\": {\"backgroundcolor\": \"#E5ECF6\", \"gridcolor\": \"white\", \"gridwidth\": 2, \"linecolor\": \"white\", \"showbackground\": true, \"ticks\": \"\", \"zerolinecolor\": \"white\"}, \"zaxis\": {\"backgroundcolor\": \"#E5ECF6\", \"gridcolor\": \"white\", \"gridwidth\": 2, \"linecolor\": \"white\", \"showbackground\": true, \"ticks\": \"\", \"zerolinecolor\": \"white\"}}, \"shapedefaults\": {\"line\": {\"color\": \"#2a3f5f\"}}, \"ternary\": {\"aaxis\": {\"gridcolor\": \"white\", \"linecolor\": \"white\", \"ticks\": \"\"}, \"baxis\": {\"gridcolor\": \"white\", \"linecolor\": \"white\", \"ticks\": \"\"}, \"bgcolor\": \"#E5ECF6\", \"caxis\": {\"gridcolor\": \"white\", \"linecolor\": \"white\", \"ticks\": \"\"}}, \"title\": {\"x\": 0.05}, \"xaxis\": {\"automargin\": true, \"gridcolor\": \"white\", \"linecolor\": \"white\", \"ticks\": \"\", \"title\": {\"standoff\": 15}, \"zerolinecolor\": \"white\", \"zerolinewidth\": 2}, \"yaxis\": {\"automargin\": true, \"gridcolor\": \"white\", \"linecolor\": \"white\", \"ticks\": \"\", \"title\": {\"standoff\": 15}, \"zerolinecolor\": \"white\", \"zerolinewidth\": 2}}}, \"title\": {\"text\": \"Optimization History Plot\"}, \"xaxis\": {\"title\": {\"text\": \"#Trials\"}}, \"yaxis\": {\"title\": {\"text\": \"Objective Value\"}}},                        {\"responsive\": true}                    ).then(function(){\n",
       "                            \n",
       "var gd = document.getElementById('a921bbc8-cb38-4f8e-92ea-efeef31ebfa6');\n",
       "var x = new MutationObserver(function (mutations, observer) {{\n",
       "        var display = window.getComputedStyle(gd).display;\n",
       "        if (!display || display === 'none') {{\n",
       "            console.log([gd, 'removed!']);\n",
       "            Plotly.purge(gd);\n",
       "            observer.disconnect();\n",
       "        }}\n",
       "}});\n",
       "\n",
       "// Listen for the removal of the full notebook cells\n",
       "var notebookContainer = gd.closest('#notebook-container');\n",
       "if (notebookContainer) {{\n",
       "    x.observe(notebookContainer, {childList: true});\n",
       "}}\n",
       "\n",
       "// Listen for the clearing of the current output cell\n",
       "var outputEl = gd.closest('.output');\n",
       "if (outputEl) {{\n",
       "    x.observe(outputEl, {childList: true});\n",
       "}}\n",
       "\n",
       "                        })                };                });            </script>        </div>"
      ]
     },
     "metadata": {},
     "output_type": "display_data"
    }
   ],
   "source": [
    "plot_optimization_history(study)"
   ]
  },
  {
   "cell_type": "code",
   "execution_count": 15,
   "metadata": {
    "execution": {
     "iopub.execute_input": "2021-03-30T14:03:02.276355Z",
     "iopub.status.busy": "2021-03-30T14:03:02.275806Z",
     "iopub.status.idle": "2021-03-30T14:03:02.355094Z",
     "shell.execute_reply": "2021-03-30T14:03:02.354581Z"
    },
    "papermill": {
     "duration": 0.099244,
     "end_time": "2021-03-30T14:03:02.355226",
     "exception": false,
     "start_time": "2021-03-30T14:03:02.255982",
     "status": "completed"
    },
    "tags": []
   },
   "outputs": [
    {
     "data": {
      "text/html": [
       "<div>                            <div id=\"69216bf0-ca7b-4b0f-8c5a-7fb7dca5af37\" class=\"plotly-graph-div\" style=\"height:525px; width:100%;\"></div>            <script type=\"text/javascript\">                require([\"plotly\"], function(Plotly) {                    window.PLOTLYENV=window.PLOTLYENV || {};                                    if (document.getElementById(\"69216bf0-ca7b-4b0f-8c5a-7fb7dca5af37\")) {                    Plotly.newPlot(                        \"69216bf0-ca7b-4b0f-8c5a-7fb7dca5af37\",                        [{\"dimensions\": [{\"label\": \"Objective Value\", \"range\": [0.8950816276339918, 0.8967718563248053], \"values\": [0.8967718563248053, 0.8950816276339918, 0.8967589347904699, 0.8960445390570394]}, {\"label\": \"boosting_type\", \"range\": [0, 0], \"ticktext\": [[\"gbdt\", 0]], \"tickvals\": [0], \"values\": [0, 0, 0, 0]}, {\"label\": \"cat_l2\", \"range\": [2, 16], \"values\": [12, 16, 2, 6]}, {\"label\": \"cat_smooth\", \"range\": [71.48264386124173, 86.472610359606], \"values\": [82.38395064451798, 71.48264386124173, 86.472610359606, 78.36940576922024]}, {\"label\": \"colsample_bytree\", \"range\": [0.10121089019206267, 0.4753347735691177], \"values\": [0.34690397935398376, 0.10121089019206267, 0.4753347735691177, 0.13035958562949293]}, {\"label\": \"max_delta_step\", \"range\": [8, 14], \"values\": [8, 12, 14, 9]}, {\"label\": \"max_depth\", \"range\": [16, 50], \"values\": [16, 50, 20, 42]}, {\"label\": \"min_child_samples\", \"range\": [10, 98], \"values\": [38, 10, 59, 98]}, {\"label\": \"num_leaves\", \"range\": [50, 804], \"values\": [201, 804, 192, 50]}, {\"label\": \"power\", \"range\": [0, 0], \"ticktext\": [[false, 0]], \"tickvals\": [0], \"values\": [0, 0, 0, 0]}, {\"label\": \"reg_alpha\", \"range\": [0.08602858145146089, 9.43418465977083], \"values\": [0.08602858145146089, 3.932254955808264, 9.43418465977083, 5.136619496634393]}, {\"label\": \"reg_lambda\", \"range\": [2.8176928933523397, 9.519335431382597], \"values\": [9.519335431382597, 8.75781658173046, 2.8176928933523397, 8.164110671714148]}, {\"label\": \"resample\", \"range\": [0, 0], \"ticktext\": [[null, 0]], \"tickvals\": [0], \"values\": [0, 0, 0, 0]}], \"labelangle\": 30, \"labelside\": \"bottom\", \"line\": {\"color\": [0.8967718563248053, 0.8950816276339918, 0.8967589347904699, 0.8960445390570394], \"colorbar\": {\"title\": {\"text\": \"Objective Value\"}}, \"colorscale\": [[0.0, \"rgb(247,251,255)\"], [0.125, \"rgb(222,235,247)\"], [0.25, \"rgb(198,219,239)\"], [0.375, \"rgb(158,202,225)\"], [0.5, \"rgb(107,174,214)\"], [0.625, \"rgb(66,146,198)\"], [0.75, \"rgb(33,113,181)\"], [0.875, \"rgb(8,81,156)\"], [1.0, \"rgb(8,48,107)\"]], \"reversescale\": false, \"showscale\": true}, \"type\": \"parcoords\"}],                        {\"template\": {\"data\": {\"bar\": [{\"error_x\": {\"color\": \"#2a3f5f\"}, \"error_y\": {\"color\": \"#2a3f5f\"}, \"marker\": {\"line\": {\"color\": \"#E5ECF6\", \"width\": 0.5}}, \"type\": \"bar\"}], \"barpolar\": [{\"marker\": {\"line\": {\"color\": \"#E5ECF6\", \"width\": 0.5}}, \"type\": \"barpolar\"}], \"carpet\": [{\"aaxis\": {\"endlinecolor\": \"#2a3f5f\", \"gridcolor\": \"white\", \"linecolor\": \"white\", \"minorgridcolor\": \"white\", \"startlinecolor\": \"#2a3f5f\"}, \"baxis\": {\"endlinecolor\": \"#2a3f5f\", \"gridcolor\": \"white\", \"linecolor\": \"white\", \"minorgridcolor\": \"white\", \"startlinecolor\": \"#2a3f5f\"}, \"type\": \"carpet\"}], \"choropleth\": [{\"colorbar\": {\"outlinewidth\": 0, \"ticks\": \"\"}, \"type\": \"choropleth\"}], \"contour\": [{\"colorbar\": {\"outlinewidth\": 0, \"ticks\": \"\"}, \"colorscale\": [[0.0, \"#0d0887\"], [0.1111111111111111, \"#46039f\"], [0.2222222222222222, \"#7201a8\"], [0.3333333333333333, \"#9c179e\"], [0.4444444444444444, \"#bd3786\"], [0.5555555555555556, \"#d8576b\"], [0.6666666666666666, \"#ed7953\"], [0.7777777777777778, \"#fb9f3a\"], [0.8888888888888888, \"#fdca26\"], [1.0, \"#f0f921\"]], \"type\": \"contour\"}], \"contourcarpet\": [{\"colorbar\": {\"outlinewidth\": 0, \"ticks\": \"\"}, \"type\": \"contourcarpet\"}], \"heatmap\": [{\"colorbar\": {\"outlinewidth\": 0, \"ticks\": \"\"}, \"colorscale\": [[0.0, \"#0d0887\"], [0.1111111111111111, \"#46039f\"], [0.2222222222222222, \"#7201a8\"], [0.3333333333333333, \"#9c179e\"], [0.4444444444444444, \"#bd3786\"], [0.5555555555555556, \"#d8576b\"], [0.6666666666666666, \"#ed7953\"], [0.7777777777777778, \"#fb9f3a\"], [0.8888888888888888, \"#fdca26\"], [1.0, \"#f0f921\"]], \"type\": \"heatmap\"}], \"heatmapgl\": [{\"colorbar\": {\"outlinewidth\": 0, \"ticks\": \"\"}, \"colorscale\": [[0.0, \"#0d0887\"], [0.1111111111111111, \"#46039f\"], [0.2222222222222222, \"#7201a8\"], [0.3333333333333333, \"#9c179e\"], [0.4444444444444444, \"#bd3786\"], [0.5555555555555556, \"#d8576b\"], [0.6666666666666666, \"#ed7953\"], [0.7777777777777778, \"#fb9f3a\"], [0.8888888888888888, \"#fdca26\"], [1.0, \"#f0f921\"]], \"type\": \"heatmapgl\"}], \"histogram\": [{\"marker\": {\"colorbar\": {\"outlinewidth\": 0, \"ticks\": \"\"}}, \"type\": \"histogram\"}], \"histogram2d\": [{\"colorbar\": {\"outlinewidth\": 0, \"ticks\": \"\"}, \"colorscale\": [[0.0, \"#0d0887\"], [0.1111111111111111, \"#46039f\"], [0.2222222222222222, \"#7201a8\"], [0.3333333333333333, \"#9c179e\"], [0.4444444444444444, \"#bd3786\"], [0.5555555555555556, \"#d8576b\"], [0.6666666666666666, \"#ed7953\"], [0.7777777777777778, \"#fb9f3a\"], [0.8888888888888888, \"#fdca26\"], [1.0, \"#f0f921\"]], \"type\": \"histogram2d\"}], \"histogram2dcontour\": [{\"colorbar\": {\"outlinewidth\": 0, \"ticks\": \"\"}, \"colorscale\": [[0.0, \"#0d0887\"], [0.1111111111111111, \"#46039f\"], [0.2222222222222222, \"#7201a8\"], [0.3333333333333333, \"#9c179e\"], [0.4444444444444444, \"#bd3786\"], [0.5555555555555556, \"#d8576b\"], [0.6666666666666666, \"#ed7953\"], [0.7777777777777778, \"#fb9f3a\"], [0.8888888888888888, \"#fdca26\"], [1.0, \"#f0f921\"]], \"type\": \"histogram2dcontour\"}], \"mesh3d\": [{\"colorbar\": {\"outlinewidth\": 0, \"ticks\": \"\"}, \"type\": \"mesh3d\"}], \"parcoords\": [{\"line\": {\"colorbar\": {\"outlinewidth\": 0, \"ticks\": \"\"}}, \"type\": \"parcoords\"}], \"pie\": [{\"automargin\": true, \"type\": \"pie\"}], \"scatter\": [{\"marker\": {\"colorbar\": {\"outlinewidth\": 0, \"ticks\": \"\"}}, \"type\": \"scatter\"}], \"scatter3d\": [{\"line\": {\"colorbar\": {\"outlinewidth\": 0, \"ticks\": \"\"}}, \"marker\": {\"colorbar\": {\"outlinewidth\": 0, \"ticks\": \"\"}}, \"type\": \"scatter3d\"}], \"scattercarpet\": [{\"marker\": {\"colorbar\": {\"outlinewidth\": 0, \"ticks\": \"\"}}, \"type\": \"scattercarpet\"}], \"scattergeo\": [{\"marker\": {\"colorbar\": {\"outlinewidth\": 0, \"ticks\": \"\"}}, \"type\": \"scattergeo\"}], \"scattergl\": [{\"marker\": {\"colorbar\": {\"outlinewidth\": 0, \"ticks\": \"\"}}, \"type\": \"scattergl\"}], \"scattermapbox\": [{\"marker\": {\"colorbar\": {\"outlinewidth\": 0, \"ticks\": \"\"}}, \"type\": \"scattermapbox\"}], \"scatterpolar\": [{\"marker\": {\"colorbar\": {\"outlinewidth\": 0, \"ticks\": \"\"}}, \"type\": \"scatterpolar\"}], \"scatterpolargl\": [{\"marker\": {\"colorbar\": {\"outlinewidth\": 0, \"ticks\": \"\"}}, \"type\": \"scatterpolargl\"}], \"scatterternary\": [{\"marker\": {\"colorbar\": {\"outlinewidth\": 0, \"ticks\": \"\"}}, \"type\": \"scatterternary\"}], \"surface\": [{\"colorbar\": {\"outlinewidth\": 0, \"ticks\": \"\"}, \"colorscale\": [[0.0, \"#0d0887\"], [0.1111111111111111, \"#46039f\"], [0.2222222222222222, \"#7201a8\"], [0.3333333333333333, \"#9c179e\"], [0.4444444444444444, \"#bd3786\"], [0.5555555555555556, \"#d8576b\"], [0.6666666666666666, \"#ed7953\"], [0.7777777777777778, \"#fb9f3a\"], [0.8888888888888888, \"#fdca26\"], [1.0, \"#f0f921\"]], \"type\": \"surface\"}], \"table\": [{\"cells\": {\"fill\": {\"color\": \"#EBF0F8\"}, \"line\": {\"color\": \"white\"}}, \"header\": {\"fill\": {\"color\": \"#C8D4E3\"}, \"line\": {\"color\": \"white\"}}, \"type\": \"table\"}]}, \"layout\": {\"annotationdefaults\": {\"arrowcolor\": \"#2a3f5f\", \"arrowhead\": 0, \"arrowwidth\": 1}, \"autotypenumbers\": \"strict\", \"coloraxis\": {\"colorbar\": {\"outlinewidth\": 0, \"ticks\": \"\"}}, \"colorscale\": {\"diverging\": [[0, \"#8e0152\"], [0.1, \"#c51b7d\"], [0.2, \"#de77ae\"], [0.3, \"#f1b6da\"], [0.4, \"#fde0ef\"], [0.5, \"#f7f7f7\"], [0.6, \"#e6f5d0\"], [0.7, \"#b8e186\"], [0.8, \"#7fbc41\"], [0.9, \"#4d9221\"], [1, \"#276419\"]], \"sequential\": [[0.0, \"#0d0887\"], [0.1111111111111111, \"#46039f\"], [0.2222222222222222, \"#7201a8\"], [0.3333333333333333, \"#9c179e\"], [0.4444444444444444, \"#bd3786\"], [0.5555555555555556, \"#d8576b\"], [0.6666666666666666, \"#ed7953\"], [0.7777777777777778, \"#fb9f3a\"], [0.8888888888888888, \"#fdca26\"], [1.0, \"#f0f921\"]], \"sequentialminus\": [[0.0, \"#0d0887\"], [0.1111111111111111, \"#46039f\"], [0.2222222222222222, \"#7201a8\"], [0.3333333333333333, \"#9c179e\"], [0.4444444444444444, \"#bd3786\"], [0.5555555555555556, \"#d8576b\"], [0.6666666666666666, \"#ed7953\"], [0.7777777777777778, \"#fb9f3a\"], [0.8888888888888888, \"#fdca26\"], [1.0, \"#f0f921\"]]}, \"colorway\": [\"#636efa\", \"#EF553B\", \"#00cc96\", \"#ab63fa\", \"#FFA15A\", \"#19d3f3\", \"#FF6692\", \"#B6E880\", \"#FF97FF\", \"#FECB52\"], \"font\": {\"color\": \"#2a3f5f\"}, \"geo\": {\"bgcolor\": \"white\", \"lakecolor\": \"white\", \"landcolor\": \"#E5ECF6\", \"showlakes\": true, \"showland\": true, \"subunitcolor\": \"white\"}, \"hoverlabel\": {\"align\": \"left\"}, \"hovermode\": \"closest\", \"mapbox\": {\"style\": \"light\"}, \"paper_bgcolor\": \"white\", \"plot_bgcolor\": \"#E5ECF6\", \"polar\": {\"angularaxis\": {\"gridcolor\": \"white\", \"linecolor\": \"white\", \"ticks\": \"\"}, \"bgcolor\": \"#E5ECF6\", \"radialaxis\": {\"gridcolor\": \"white\", \"linecolor\": \"white\", \"ticks\": \"\"}}, \"scene\": {\"xaxis\": {\"backgroundcolor\": \"#E5ECF6\", \"gridcolor\": \"white\", \"gridwidth\": 2, \"linecolor\": \"white\", \"showbackground\": true, \"ticks\": \"\", \"zerolinecolor\": \"white\"}, \"yaxis\": {\"backgroundcolor\": \"#E5ECF6\", \"gridcolor\": \"white\", \"gridwidth\": 2, \"linecolor\": \"white\", \"showbackground\": true, \"ticks\": \"\", \"zerolinecolor\": \"white\"}, \"zaxis\": {\"backgroundcolor\": \"#E5ECF6\", \"gridcolor\": \"white\", \"gridwidth\": 2, \"linecolor\": \"white\", \"showbackground\": true, \"ticks\": \"\", \"zerolinecolor\": \"white\"}}, \"shapedefaults\": {\"line\": {\"color\": \"#2a3f5f\"}}, \"ternary\": {\"aaxis\": {\"gridcolor\": \"white\", \"linecolor\": \"white\", \"ticks\": \"\"}, \"baxis\": {\"gridcolor\": \"white\", \"linecolor\": \"white\", \"ticks\": \"\"}, \"bgcolor\": \"#E5ECF6\", \"caxis\": {\"gridcolor\": \"white\", \"linecolor\": \"white\", \"ticks\": \"\"}}, \"title\": {\"x\": 0.05}, \"xaxis\": {\"automargin\": true, \"gridcolor\": \"white\", \"linecolor\": \"white\", \"ticks\": \"\", \"title\": {\"standoff\": 15}, \"zerolinecolor\": \"white\", \"zerolinewidth\": 2}, \"yaxis\": {\"automargin\": true, \"gridcolor\": \"white\", \"linecolor\": \"white\", \"ticks\": \"\", \"title\": {\"standoff\": 15}, \"zerolinecolor\": \"white\", \"zerolinewidth\": 2}}}, \"title\": {\"text\": \"Parallel Coordinate Plot\"}},                        {\"responsive\": true}                    ).then(function(){\n",
       "                            \n",
       "var gd = document.getElementById('69216bf0-ca7b-4b0f-8c5a-7fb7dca5af37');\n",
       "var x = new MutationObserver(function (mutations, observer) {{\n",
       "        var display = window.getComputedStyle(gd).display;\n",
       "        if (!display || display === 'none') {{\n",
       "            console.log([gd, 'removed!']);\n",
       "            Plotly.purge(gd);\n",
       "            observer.disconnect();\n",
       "        }}\n",
       "}});\n",
       "\n",
       "// Listen for the removal of the full notebook cells\n",
       "var notebookContainer = gd.closest('#notebook-container');\n",
       "if (notebookContainer) {{\n",
       "    x.observe(notebookContainer, {childList: true});\n",
       "}}\n",
       "\n",
       "// Listen for the clearing of the current output cell\n",
       "var outputEl = gd.closest('.output');\n",
       "if (outputEl) {{\n",
       "    x.observe(outputEl, {childList: true});\n",
       "}}\n",
       "\n",
       "                        })                };                });            </script>        </div>"
      ]
     },
     "metadata": {},
     "output_type": "display_data"
    }
   ],
   "source": [
    "optuna.visualization.plot_parallel_coordinate(study)"
   ]
  },
  {
   "cell_type": "code",
   "execution_count": 16,
   "metadata": {
    "execution": {
     "iopub.execute_input": "2021-03-30T14:03:02.396922Z",
     "iopub.status.busy": "2021-03-30T14:03:02.395997Z",
     "iopub.status.idle": "2021-03-30T14:03:02.845237Z",
     "shell.execute_reply": "2021-03-30T14:03:02.844740Z"
    },
    "papermill": {
     "duration": 0.471606,
     "end_time": "2021-03-30T14:03:02.845369",
     "exception": false,
     "start_time": "2021-03-30T14:03:02.373763",
     "status": "completed"
    },
    "tags": []
   },
   "outputs": [
    {
     "data": {
      "text/html": [
       "<div>                            <div id=\"82c73b3e-b2b8-4c01-8597-ccffaf02241f\" class=\"plotly-graph-div\" style=\"height:525px; width:100%;\"></div>            <script type=\"text/javascript\">                require([\"plotly\"], function(Plotly) {                    window.PLOTLYENV=window.PLOTLYENV || {};                                    if (document.getElementById(\"82c73b3e-b2b8-4c01-8597-ccffaf02241f\")) {                    Plotly.newPlot(                        \"82c73b3e-b2b8-4c01-8597-ccffaf02241f\",                        [{\"cliponaxis\": false, \"hovertemplate\": [\"boosting_type (CategoricalDistribution): 0.0<extra></extra>\", \"power (CategoricalDistribution): 0.0<extra></extra>\", \"resample (CategoricalDistribution): 0.0<extra></extra>\", \"reg_lambda (UniformDistribution): 0.03951893437521682<extra></extra>\", \"cat_l2 (IntUniformDistribution): 0.08627320308913324<extra></extra>\", \"reg_alpha (UniformDistribution): 0.086749072097996<extra></extra>\", \"max_delta_step (IntUniformDistribution): 0.0898938025977117<extra></extra>\", \"num_leaves (IntUniformDistribution): 0.10420206950034071<extra></extra>\", \"colsample_bytree (UniformDistribution): 0.11845566247328955<extra></extra>\", \"max_depth (IntUniformDistribution): 0.14436972332636633<extra></extra>\", \"min_child_samples (IntUniformDistribution): 0.1644803847012082<extra></extra>\", \"cat_smooth (UniformDistribution): 0.1660571478387375<extra></extra>\"], \"marker\": {\"color\": [\"rgb(66,146,198)\", \"rgb(66,146,198)\", \"rgb(66,146,198)\", \"rgb(8,48,107)\", \"rgb(8,81,156)\", \"rgb(8,48,107)\", \"rgb(8,81,156)\", \"rgb(8,81,156)\", \"rgb(8,48,107)\", \"rgb(8,81,156)\", \"rgb(8,81,156)\", \"rgb(8,48,107)\"]}, \"orientation\": \"h\", \"text\": [\"0.0\", \"0.0\", \"0.0\", \"0.03951893437521682\", \"0.08627320308913324\", \"0.086749072097996\", \"0.0898938025977117\", \"0.10420206950034071\", \"0.11845566247328955\", \"0.14436972332636633\", \"0.1644803847012082\", \"0.1660571478387375\"], \"textposition\": \"outside\", \"texttemplate\": \"%{text:.2f}\", \"type\": \"bar\", \"x\": [0.0, 0.0, 0.0, 0.03951893437521682, 0.08627320308913324, 0.086749072097996, 0.0898938025977117, 0.10420206950034071, 0.11845566247328955, 0.14436972332636633, 0.1644803847012082, 0.1660571478387375], \"y\": [\"boosting_type\", \"power\", \"resample\", \"reg_lambda\", \"cat_l2\", \"reg_alpha\", \"max_delta_step\", \"num_leaves\", \"colsample_bytree\", \"max_depth\", \"min_child_samples\", \"cat_smooth\"]}],                        {\"showlegend\": false, \"template\": {\"data\": {\"bar\": [{\"error_x\": {\"color\": \"#2a3f5f\"}, \"error_y\": {\"color\": \"#2a3f5f\"}, \"marker\": {\"line\": {\"color\": \"#E5ECF6\", \"width\": 0.5}}, \"type\": \"bar\"}], \"barpolar\": [{\"marker\": {\"line\": {\"color\": \"#E5ECF6\", \"width\": 0.5}}, \"type\": \"barpolar\"}], \"carpet\": [{\"aaxis\": {\"endlinecolor\": \"#2a3f5f\", \"gridcolor\": \"white\", \"linecolor\": \"white\", \"minorgridcolor\": \"white\", \"startlinecolor\": \"#2a3f5f\"}, \"baxis\": {\"endlinecolor\": \"#2a3f5f\", \"gridcolor\": \"white\", \"linecolor\": \"white\", \"minorgridcolor\": \"white\", \"startlinecolor\": \"#2a3f5f\"}, \"type\": \"carpet\"}], \"choropleth\": [{\"colorbar\": {\"outlinewidth\": 0, \"ticks\": \"\"}, \"type\": \"choropleth\"}], \"contour\": [{\"colorbar\": {\"outlinewidth\": 0, \"ticks\": \"\"}, \"colorscale\": [[0.0, \"#0d0887\"], [0.1111111111111111, \"#46039f\"], [0.2222222222222222, \"#7201a8\"], [0.3333333333333333, \"#9c179e\"], [0.4444444444444444, \"#bd3786\"], [0.5555555555555556, \"#d8576b\"], [0.6666666666666666, \"#ed7953\"], [0.7777777777777778, \"#fb9f3a\"], [0.8888888888888888, \"#fdca26\"], [1.0, \"#f0f921\"]], \"type\": \"contour\"}], \"contourcarpet\": [{\"colorbar\": {\"outlinewidth\": 0, \"ticks\": \"\"}, \"type\": \"contourcarpet\"}], \"heatmap\": [{\"colorbar\": {\"outlinewidth\": 0, \"ticks\": \"\"}, \"colorscale\": [[0.0, \"#0d0887\"], [0.1111111111111111, \"#46039f\"], [0.2222222222222222, \"#7201a8\"], [0.3333333333333333, \"#9c179e\"], [0.4444444444444444, \"#bd3786\"], [0.5555555555555556, \"#d8576b\"], [0.6666666666666666, \"#ed7953\"], [0.7777777777777778, \"#fb9f3a\"], [0.8888888888888888, \"#fdca26\"], [1.0, \"#f0f921\"]], \"type\": \"heatmap\"}], \"heatmapgl\": [{\"colorbar\": {\"outlinewidth\": 0, \"ticks\": \"\"}, \"colorscale\": [[0.0, \"#0d0887\"], [0.1111111111111111, \"#46039f\"], [0.2222222222222222, \"#7201a8\"], [0.3333333333333333, \"#9c179e\"], [0.4444444444444444, \"#bd3786\"], [0.5555555555555556, \"#d8576b\"], [0.6666666666666666, \"#ed7953\"], [0.7777777777777778, \"#fb9f3a\"], [0.8888888888888888, \"#fdca26\"], [1.0, \"#f0f921\"]], \"type\": \"heatmapgl\"}], \"histogram\": [{\"marker\": {\"colorbar\": {\"outlinewidth\": 0, \"ticks\": \"\"}}, \"type\": \"histogram\"}], \"histogram2d\": [{\"colorbar\": {\"outlinewidth\": 0, \"ticks\": \"\"}, \"colorscale\": [[0.0, \"#0d0887\"], [0.1111111111111111, \"#46039f\"], [0.2222222222222222, \"#7201a8\"], [0.3333333333333333, \"#9c179e\"], [0.4444444444444444, \"#bd3786\"], [0.5555555555555556, \"#d8576b\"], [0.6666666666666666, \"#ed7953\"], [0.7777777777777778, \"#fb9f3a\"], [0.8888888888888888, \"#fdca26\"], [1.0, \"#f0f921\"]], \"type\": \"histogram2d\"}], \"histogram2dcontour\": [{\"colorbar\": {\"outlinewidth\": 0, \"ticks\": \"\"}, \"colorscale\": [[0.0, \"#0d0887\"], [0.1111111111111111, \"#46039f\"], [0.2222222222222222, \"#7201a8\"], [0.3333333333333333, \"#9c179e\"], [0.4444444444444444, \"#bd3786\"], [0.5555555555555556, \"#d8576b\"], [0.6666666666666666, \"#ed7953\"], [0.7777777777777778, \"#fb9f3a\"], [0.8888888888888888, \"#fdca26\"], [1.0, \"#f0f921\"]], \"type\": \"histogram2dcontour\"}], \"mesh3d\": [{\"colorbar\": {\"outlinewidth\": 0, \"ticks\": \"\"}, \"type\": \"mesh3d\"}], \"parcoords\": [{\"line\": {\"colorbar\": {\"outlinewidth\": 0, \"ticks\": \"\"}}, \"type\": \"parcoords\"}], \"pie\": [{\"automargin\": true, \"type\": \"pie\"}], \"scatter\": [{\"marker\": {\"colorbar\": {\"outlinewidth\": 0, \"ticks\": \"\"}}, \"type\": \"scatter\"}], \"scatter3d\": [{\"line\": {\"colorbar\": {\"outlinewidth\": 0, \"ticks\": \"\"}}, \"marker\": {\"colorbar\": {\"outlinewidth\": 0, \"ticks\": \"\"}}, \"type\": \"scatter3d\"}], \"scattercarpet\": [{\"marker\": {\"colorbar\": {\"outlinewidth\": 0, \"ticks\": \"\"}}, \"type\": \"scattercarpet\"}], \"scattergeo\": [{\"marker\": {\"colorbar\": {\"outlinewidth\": 0, \"ticks\": \"\"}}, \"type\": \"scattergeo\"}], \"scattergl\": [{\"marker\": {\"colorbar\": {\"outlinewidth\": 0, \"ticks\": \"\"}}, \"type\": \"scattergl\"}], \"scattermapbox\": [{\"marker\": {\"colorbar\": {\"outlinewidth\": 0, \"ticks\": \"\"}}, \"type\": \"scattermapbox\"}], \"scatterpolar\": [{\"marker\": {\"colorbar\": {\"outlinewidth\": 0, \"ticks\": \"\"}}, \"type\": \"scatterpolar\"}], \"scatterpolargl\": [{\"marker\": {\"colorbar\": {\"outlinewidth\": 0, \"ticks\": \"\"}}, \"type\": \"scatterpolargl\"}], \"scatterternary\": [{\"marker\": {\"colorbar\": {\"outlinewidth\": 0, \"ticks\": \"\"}}, \"type\": \"scatterternary\"}], \"surface\": [{\"colorbar\": {\"outlinewidth\": 0, \"ticks\": \"\"}, \"colorscale\": [[0.0, \"#0d0887\"], [0.1111111111111111, \"#46039f\"], [0.2222222222222222, \"#7201a8\"], [0.3333333333333333, \"#9c179e\"], [0.4444444444444444, \"#bd3786\"], [0.5555555555555556, \"#d8576b\"], [0.6666666666666666, \"#ed7953\"], [0.7777777777777778, \"#fb9f3a\"], [0.8888888888888888, \"#fdca26\"], [1.0, \"#f0f921\"]], \"type\": \"surface\"}], \"table\": [{\"cells\": {\"fill\": {\"color\": \"#EBF0F8\"}, \"line\": {\"color\": \"white\"}}, \"header\": {\"fill\": {\"color\": \"#C8D4E3\"}, \"line\": {\"color\": \"white\"}}, \"type\": \"table\"}]}, \"layout\": {\"annotationdefaults\": {\"arrowcolor\": \"#2a3f5f\", \"arrowhead\": 0, \"arrowwidth\": 1}, \"autotypenumbers\": \"strict\", \"coloraxis\": {\"colorbar\": {\"outlinewidth\": 0, \"ticks\": \"\"}}, \"colorscale\": {\"diverging\": [[0, \"#8e0152\"], [0.1, \"#c51b7d\"], [0.2, \"#de77ae\"], [0.3, \"#f1b6da\"], [0.4, \"#fde0ef\"], [0.5, \"#f7f7f7\"], [0.6, \"#e6f5d0\"], [0.7, \"#b8e186\"], [0.8, \"#7fbc41\"], [0.9, \"#4d9221\"], [1, \"#276419\"]], \"sequential\": [[0.0, \"#0d0887\"], [0.1111111111111111, \"#46039f\"], [0.2222222222222222, \"#7201a8\"], [0.3333333333333333, \"#9c179e\"], [0.4444444444444444, \"#bd3786\"], [0.5555555555555556, \"#d8576b\"], [0.6666666666666666, \"#ed7953\"], [0.7777777777777778, \"#fb9f3a\"], [0.8888888888888888, \"#fdca26\"], [1.0, \"#f0f921\"]], \"sequentialminus\": [[0.0, \"#0d0887\"], [0.1111111111111111, \"#46039f\"], [0.2222222222222222, \"#7201a8\"], [0.3333333333333333, \"#9c179e\"], [0.4444444444444444, \"#bd3786\"], [0.5555555555555556, \"#d8576b\"], [0.6666666666666666, \"#ed7953\"], [0.7777777777777778, \"#fb9f3a\"], [0.8888888888888888, \"#fdca26\"], [1.0, \"#f0f921\"]]}, \"colorway\": [\"#636efa\", \"#EF553B\", \"#00cc96\", \"#ab63fa\", \"#FFA15A\", \"#19d3f3\", \"#FF6692\", \"#B6E880\", \"#FF97FF\", \"#FECB52\"], \"font\": {\"color\": \"#2a3f5f\"}, \"geo\": {\"bgcolor\": \"white\", \"lakecolor\": \"white\", \"landcolor\": \"#E5ECF6\", \"showlakes\": true, \"showland\": true, \"subunitcolor\": \"white\"}, \"hoverlabel\": {\"align\": \"left\"}, \"hovermode\": \"closest\", \"mapbox\": {\"style\": \"light\"}, \"paper_bgcolor\": \"white\", \"plot_bgcolor\": \"#E5ECF6\", \"polar\": {\"angularaxis\": {\"gridcolor\": \"white\", \"linecolor\": \"white\", \"ticks\": \"\"}, \"bgcolor\": \"#E5ECF6\", \"radialaxis\": {\"gridcolor\": \"white\", \"linecolor\": \"white\", \"ticks\": \"\"}}, \"scene\": {\"xaxis\": {\"backgroundcolor\": \"#E5ECF6\", \"gridcolor\": \"white\", \"gridwidth\": 2, \"linecolor\": \"white\", \"showbackground\": true, \"ticks\": \"\", \"zerolinecolor\": \"white\"}, \"yaxis\": {\"backgroundcolor\": \"#E5ECF6\", \"gridcolor\": \"white\", \"gridwidth\": 2, \"linecolor\": \"white\", \"showbackground\": true, \"ticks\": \"\", \"zerolinecolor\": \"white\"}, \"zaxis\": {\"backgroundcolor\": \"#E5ECF6\", \"gridcolor\": \"white\", \"gridwidth\": 2, \"linecolor\": \"white\", \"showbackground\": true, \"ticks\": \"\", \"zerolinecolor\": \"white\"}}, \"shapedefaults\": {\"line\": {\"color\": \"#2a3f5f\"}}, \"ternary\": {\"aaxis\": {\"gridcolor\": \"white\", \"linecolor\": \"white\", \"ticks\": \"\"}, \"baxis\": {\"gridcolor\": \"white\", \"linecolor\": \"white\", \"ticks\": \"\"}, \"bgcolor\": \"#E5ECF6\", \"caxis\": {\"gridcolor\": \"white\", \"linecolor\": \"white\", \"ticks\": \"\"}}, \"title\": {\"x\": 0.05}, \"xaxis\": {\"automargin\": true, \"gridcolor\": \"white\", \"linecolor\": \"white\", \"ticks\": \"\", \"title\": {\"standoff\": 15}, \"zerolinecolor\": \"white\", \"zerolinewidth\": 2}, \"yaxis\": {\"automargin\": true, \"gridcolor\": \"white\", \"linecolor\": \"white\", \"ticks\": \"\", \"title\": {\"standoff\": 15}, \"zerolinecolor\": \"white\", \"zerolinewidth\": 2}}}, \"title\": {\"text\": \"Hyperparameter Importances\"}, \"xaxis\": {\"title\": {\"text\": \"Importance for Objective Value\"}}, \"yaxis\": {\"title\": {\"text\": \"Hyperparameter\"}}},                        {\"responsive\": true}                    ).then(function(){\n",
       "                            \n",
       "var gd = document.getElementById('82c73b3e-b2b8-4c01-8597-ccffaf02241f');\n",
       "var x = new MutationObserver(function (mutations, observer) {{\n",
       "        var display = window.getComputedStyle(gd).display;\n",
       "        if (!display || display === 'none') {{\n",
       "            console.log([gd, 'removed!']);\n",
       "            Plotly.purge(gd);\n",
       "            observer.disconnect();\n",
       "        }}\n",
       "}});\n",
       "\n",
       "// Listen for the removal of the full notebook cells\n",
       "var notebookContainer = gd.closest('#notebook-container');\n",
       "if (notebookContainer) {{\n",
       "    x.observe(notebookContainer, {childList: true});\n",
       "}}\n",
       "\n",
       "// Listen for the clearing of the current output cell\n",
       "var outputEl = gd.closest('.output');\n",
       "if (outputEl) {{\n",
       "    x.observe(outputEl, {childList: true});\n",
       "}}\n",
       "\n",
       "                        })                };                });            </script>        </div>"
      ]
     },
     "metadata": {},
     "output_type": "display_data"
    }
   ],
   "source": [
    "plot_param_importances(study)"
   ]
  },
  {
   "cell_type": "code",
   "execution_count": 17,
   "metadata": {
    "execution": {
     "iopub.execute_input": "2021-03-30T14:03:02.890298Z",
     "iopub.status.busy": "2021-03-30T14:03:02.889653Z",
     "iopub.status.idle": "2021-03-30T14:03:02.892997Z",
     "shell.execute_reply": "2021-03-30T14:03:02.892447Z"
    },
    "papermill": {
     "duration": 0.028319,
     "end_time": "2021-03-30T14:03:02.893128",
     "exception": false,
     "start_time": "2021-03-30T14:03:02.864809",
     "status": "completed"
    },
    "tags": []
   },
   "outputs": [
    {
     "data": {
      "text/plain": [
       "{'resample': None,\n",
       " 'power': False,\n",
       " 'boosting_type': 'gbdt',\n",
       " 'num_leaves': 201,\n",
       " 'min_child_samples': 38,\n",
       " 'max_depth': 16,\n",
       " 'max_delta_step': 8,\n",
       " 'reg_alpha': 0.08602858145146089,\n",
       " 'reg_lambda': 9.519335431382597,\n",
       " 'colsample_bytree': 0.34690397935398376,\n",
       " 'cat_smooth': 82.38395064451798,\n",
       " 'cat_l2': 12}"
      ]
     },
     "execution_count": 17,
     "metadata": {},
     "output_type": "execute_result"
    }
   ],
   "source": [
    "study.best_params"
   ]
  },
  {
   "cell_type": "markdown",
   "metadata": {
    "papermill": {
     "duration": 0.019107,
     "end_time": "2021-03-30T14:03:02.932226",
     "exception": false,
     "start_time": "2021-03-30T14:03:02.913119",
     "status": "completed"
    },
    "tags": []
   },
   "source": [
    "Update the best parameters after a long training"
   ]
  },
  {
   "cell_type": "code",
   "execution_count": 18,
   "metadata": {
    "execution": {
     "iopub.execute_input": "2021-03-30T14:03:02.975557Z",
     "iopub.status.busy": "2021-03-30T14:03:02.974964Z",
     "iopub.status.idle": "2021-03-30T14:03:02.977592Z",
     "shell.execute_reply": "2021-03-30T14:03:02.977061Z"
    },
    "papermill": {
     "duration": 0.026229,
     "end_time": "2021-03-30T14:03:02.977727",
     "exception": false,
     "start_time": "2021-03-30T14:03:02.951498",
     "status": "completed"
    },
    "tags": []
   },
   "outputs": [],
   "source": [
    "best_params = {'resample': None,\n",
    " 'power': False,\n",
    " 'boosting_type': 'gbdt',\n",
    " 'num_leaves': 250,\n",
    " 'min_child_samples': 75,\n",
    " 'max_depth': 63,\n",
    " 'max_delta_step': 5,\n",
    " 'reg_alpha': 3.4218738754608045,\n",
    " 'reg_lambda': 3.0962347920614643,\n",
    " 'colsample_bytree': 0.3189138428868663,\n",
    " 'cat_smooth': 45.74149068289875,\n",
    " 'cat_l2': 19}"
   ]
  },
  {
   "cell_type": "markdown",
   "metadata": {
    "papermill": {
     "duration": 0.018966,
     "end_time": "2021-03-30T14:03:03.016127",
     "exception": false,
     "start_time": "2021-03-30T14:03:02.997161",
     "status": "completed"
    },
    "tags": []
   },
   "source": [
    "# Prepare to submit"
   ]
  },
  {
   "cell_type": "code",
   "execution_count": 19,
   "metadata": {
    "execution": {
     "iopub.execute_input": "2021-03-30T14:03:03.058483Z",
     "iopub.status.busy": "2021-03-30T14:03:03.057884Z",
     "iopub.status.idle": "2021-03-30T14:03:03.062206Z",
     "shell.execute_reply": "2021-03-30T14:03:03.062766Z"
    },
    "papermill": {
     "duration": 0.027459,
     "end_time": "2021-03-30T14:03:03.062939",
     "exception": false,
     "start_time": "2021-03-30T14:03:03.035480",
     "status": "completed"
    },
    "tags": []
   },
   "outputs": [],
   "source": [
    "final_params = dict()\n",
    "final_params['clf']=dict(best_params)\n",
    "\n",
    "final_params['resample']=final_params['clf']['resample']\n",
    "del final_params['clf']['resample']\n",
    "\n",
    "final_params['power']=final_params['clf']['power']\n",
    "del final_params['clf']['power']\n",
    "\n",
    "fixedparams['learning_rate'] = 0.005"
   ]
  },
  {
   "cell_type": "code",
   "execution_count": 20,
   "metadata": {
    "execution": {
     "iopub.execute_input": "2021-03-30T14:03:03.104834Z",
     "iopub.status.busy": "2021-03-30T14:03:03.104230Z",
     "iopub.status.idle": "2021-03-30T15:03:07.549827Z",
     "shell.execute_reply": "2021-03-30T15:03:07.550308Z"
    },
    "papermill": {
     "duration": 3604.468058,
     "end_time": "2021-03-30T15:03:07.550522",
     "exception": false,
     "start_time": "2021-03-30T14:03:03.082464",
     "status": "completed"
    },
    "tags": []
   },
   "outputs": [
    {
     "name": "stdout",
     "output_type": "stream",
     "text": [
      "\n",
      " FOLD 0 ...\n",
      "\n",
      " FOLD 1 ...\n",
      "\n",
      " FOLD 2 ...\n",
      "\n",
      " FOLD 3 ...\n",
      "\n",
      " FOLD 4 ...\n",
      "\n",
      " FOLD 5 ...\n",
      "\n",
      " FOLD 6 ...\n",
      "\n",
      " FOLD 7 ...\n",
      "\n",
      " FOLD 8 ...\n",
      "\n",
      " FOLD 9 ...\n",
      "CPU times: user 3h 53min 48s, sys: 1min 8s, total: 3h 54min 57s\n",
      "Wall time: 1h 4s\n"
     ]
    }
   ],
   "source": [
    "%%time\n",
    "\n",
    "submission.loc[:, 'target'] = kfold_prediction(X, y, X_test, 10, \n",
    "                                               final_params, fixedparams,\n",
    "                                               500)\n",
    "submission.to_csv('submission.csv', index = False)"
   ]
  },
  {
   "cell_type": "markdown",
   "metadata": {
    "papermill": {
     "duration": 0.021348,
     "end_time": "2021-03-30T15:03:07.593455",
     "exception": false,
     "start_time": "2021-03-30T15:03:07.572107",
     "status": "completed"
    },
    "tags": []
   },
   "source": [
    "# References:\n",
    "\n",
    "- <https://optuna.readthedocs.io/>\n",
    "- <https://www.kaggle.com/rmiperrier/tps-mar-lgbm-optuna>\n",
    "- <https://towardsdatascience.com/how-to-make-your-model-awesome-with-optuna-b56d490368af>\n",
    "- <https://optuna.readthedocs.io/en/v1.0.0/tutorial/pruning.html>\n",
    "- <https://www.kaggle.com/kst6690/dsb2019-tuning-lightgbm-parameter-using-optuna>"
   ]
  }
 ],
 "metadata": {
  "kernelspec": {
   "display_name": "Python 3",
   "language": "python",
   "name": "python3"
  },
  "language_info": {
   "codemirror_mode": {
    "name": "ipython",
    "version": 3
   },
   "file_extension": ".py",
   "mimetype": "text/x-python",
   "name": "python",
   "nbconvert_exporter": "python",
   "pygments_lexer": "ipython3",
   "version": "3.7.9"
  },
  "papermill": {
   "default_parameters": {},
   "duration": 5738.177745,
   "end_time": "2021-03-30T15:03:08.425890",
   "environment_variables": {},
   "exception": null,
   "input_path": "__notebook__.ipynb",
   "output_path": "__notebook__.ipynb",
   "parameters": {},
   "start_time": "2021-03-30T13:27:30.248145",
   "version": "2.2.2"
  }
 },
 "nbformat": 4,
 "nbformat_minor": 4
}
