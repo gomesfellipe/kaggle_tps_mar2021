{
 "cells": [
  {
   "cell_type": "markdown",
   "metadata": {
    "papermill": {
     "duration": 0.017145,
     "end_time": "2021-03-11T21:01:41.723736",
     "exception": false,
     "start_time": "2021-03-11T21:01:41.706591",
     "status": "completed"
    },
    "tags": []
   },
   "source": [
    "# Import dependencies"
   ]
  },
  {
   "cell_type": "code",
   "execution_count": 1,
   "metadata": {
    "execution": {
     "iopub.execute_input": "2021-03-11T21:01:41.762674Z",
     "iopub.status.busy": "2021-03-11T21:01:41.762088Z",
     "iopub.status.idle": "2021-03-11T21:01:48.316203Z",
     "shell.execute_reply": "2021-03-11T21:01:48.314857Z"
    },
    "papermill": {
     "duration": 6.576545,
     "end_time": "2021-03-11T21:01:48.316397",
     "exception": false,
     "start_time": "2021-03-11T21:01:41.739852",
     "status": "completed"
    },
    "tags": []
   },
   "outputs": [
    {
     "data": {
      "text/html": [
       "<style type='text/css'>\n",
       ".datatable table.frame { margin-bottom: 0; }\n",
       ".datatable table.frame thead { border-bottom: none; }\n",
       ".datatable table.frame tr.coltypes td {  color: #FFFFFF;  line-height: 6px;  padding: 0 0.5em;}\n",
       ".datatable .bool    { background: #DDDD99; }\n",
       ".datatable .object  { background: #565656; }\n",
       ".datatable .int     { background: #5D9E5D; }\n",
       ".datatable .float   { background: #4040CC; }\n",
       ".datatable .str     { background: #CC4040; }\n",
       ".datatable .row_index {  background: var(--jp-border-color3);  border-right: 1px solid var(--jp-border-color0);  color: var(--jp-ui-font-color3);  font-size: 9px;}\n",
       ".datatable .frame tr.coltypes .row_index {  background: var(--jp-border-color0);}\n",
       ".datatable th:nth-child(2) { padding-left: 12px; }\n",
       ".datatable .hellipsis {  color: var(--jp-cell-editor-border-color);}\n",
       ".datatable .vellipsis {  background: var(--jp-layout-color0);  color: var(--jp-cell-editor-border-color);}\n",
       ".datatable .na {  color: var(--jp-cell-editor-border-color);  font-size: 80%;}\n",
       ".datatable .footer { font-size: 9px; }\n",
       ".datatable .frame_dimensions {  background: var(--jp-border-color3);  border-top: 1px solid var(--jp-border-color0);  color: var(--jp-ui-font-color3);  display: inline-block;  opacity: 0.6;  padding: 1px 10px 1px 5px;}\n",
       "</style>\n"
      ],
      "text/plain": [
       "<IPython.core.display.HTML object>"
      ]
     },
     "metadata": {},
     "output_type": "display_data"
    }
   ],
   "source": [
    "import numpy as np\n",
    "import pandas as pd\n",
    "import pandas_profiling\n",
    "import time\n",
    "\n",
    "from sklearn.model_selection import train_test_split, StratifiedKFold, cross_val_score\n",
    "from sklearn.preprocessing import LabelEncoder, OrdinalEncoder\n",
    "from sklearn.compose import ColumnTransformer\n",
    "from sklearn.metrics import roc_auc_score, average_precision_score, log_loss\n",
    "\n",
    "from hyperopt import fmin, hp, tpe, Trials, space_eval\n",
    "from hyperopt.pyll import scope as ho_scope\n",
    "from hyperopt.pyll.stochastic import sample as ho_sample\n",
    "from functools import partial\n",
    "\n",
    "from sklearn.tree import DecisionTreeClassifier\n",
    "from sklearn.ensemble import RandomForestClassifier\n",
    "from xgboost import XGBClassifier\n",
    "from lightgbm import LGBMClassifier\n",
    "from catboost import CatBoostClassifier\n",
    "\n",
    "from imblearn.pipeline import Pipeline\n",
    "#from imblearn.over_sampling import ADASYN\n",
    "from imblearn.under_sampling import OneSidedSelection, NeighbourhoodCleaningRule, TomekLinks, RandomUnderSampler\n",
    "\n",
    "import category_encoders as ce"
   ]
  },
  {
   "cell_type": "code",
   "execution_count": 2,
   "metadata": {
    "execution": {
     "iopub.execute_input": "2021-03-11T21:01:48.358550Z",
     "iopub.status.busy": "2021-03-11T21:01:48.356804Z",
     "iopub.status.idle": "2021-03-11T21:01:48.359244Z",
     "shell.execute_reply": "2021-03-11T21:01:48.359722Z"
    },
    "papermill": {
     "duration": 0.025132,
     "end_time": "2021-03-11T21:01:48.359859",
     "exception": false,
     "start_time": "2021-03-11T21:01:48.334727",
     "status": "completed"
    },
    "tags": []
   },
   "outputs": [],
   "source": [
    "def evalue_model(model, y_test, X_test, model_name):\n",
    "    \n",
    "    yhat_prob = [x[1] for x in model.predict_proba(X_test)]\n",
    "    \n",
    "    results = {'model': model_name,\n",
    "               'auc': roc_auc_score(y_true = y_test, y_score = yhat_prob),\n",
    "               'aucpr': average_precision_score(y_true = y_test, y_score = yhat_prob),\n",
    "               'logloss': log_loss(y_test, yhat_prob)}\n",
    "    \n",
    "    return results"
   ]
  },
  {
   "cell_type": "code",
   "execution_count": 3,
   "metadata": {
    "execution": {
     "iopub.execute_input": "2021-03-11T21:01:48.401300Z",
     "iopub.status.busy": "2021-03-11T21:01:48.400670Z",
     "iopub.status.idle": "2021-03-11T21:01:51.976069Z",
     "shell.execute_reply": "2021-03-11T21:01:51.974938Z"
    },
    "papermill": {
     "duration": 3.599286,
     "end_time": "2021-03-11T21:01:51.976202",
     "exception": false,
     "start_time": "2021-03-11T21:01:48.376916",
     "status": "completed"
    },
    "tags": []
   },
   "outputs": [],
   "source": [
    "submission = pd.read_csv('../input/tabular-playground-series-mar-2021/sample_submission.csv')\n",
    "new_data = pd.read_csv('../input/tabular-playground-series-mar-2021/test.csv')\n",
    "df = pd.read_csv('../input/tabular-playground-series-mar-2021/train.csv')"
   ]
  },
  {
   "cell_type": "code",
   "execution_count": 4,
   "metadata": {
    "execution": {
     "iopub.execute_input": "2021-03-11T21:01:52.016522Z",
     "iopub.status.busy": "2021-03-11T21:01:52.015941Z",
     "iopub.status.idle": "2021-03-11T21:01:52.019684Z",
     "shell.execute_reply": "2021-03-11T21:01:52.019203Z"
    },
    "papermill": {
     "duration": 0.024796,
     "end_time": "2021-03-11T21:01:52.019798",
     "exception": false,
     "start_time": "2021-03-11T21:01:51.995002",
     "status": "completed"
    },
    "tags": []
   },
   "outputs": [],
   "source": [
    "#profile = df.profile_report(title=\"Profile train.csv\", explorative=True)\n",
    "#profile.to_file(output_file=\"profile_report.html\")"
   ]
  },
  {
   "cell_type": "code",
   "execution_count": 5,
   "metadata": {
    "execution": {
     "iopub.execute_input": "2021-03-11T21:01:52.065104Z",
     "iopub.status.busy": "2021-03-11T21:01:52.062774Z",
     "iopub.status.idle": "2021-03-11T21:01:52.155216Z",
     "shell.execute_reply": "2021-03-11T21:01:52.154729Z"
    },
    "papermill": {
     "duration": 0.116973,
     "end_time": "2021-03-11T21:01:52.155339",
     "exception": false,
     "start_time": "2021-03-11T21:01:52.038366",
     "status": "completed"
    },
    "tags": []
   },
   "outputs": [],
   "source": [
    "df.drop(columns = \"id\", inplace = True)\n",
    "new_data.drop(columns = \"id\", inplace = True)"
   ]
  },
  {
   "cell_type": "code",
   "execution_count": 6,
   "metadata": {
    "execution": {
     "iopub.execute_input": "2021-03-11T21:01:52.200259Z",
     "iopub.status.busy": "2021-03-11T21:01:52.199542Z",
     "iopub.status.idle": "2021-03-11T21:01:52.944360Z",
     "shell.execute_reply": "2021-03-11T21:01:52.943897Z"
    },
    "papermill": {
     "duration": 0.77179,
     "end_time": "2021-03-11T21:01:52.944501",
     "exception": false,
     "start_time": "2021-03-11T21:01:52.172711",
     "status": "completed"
    },
    "tags": []
   },
   "outputs": [],
   "source": [
    "for col in df.columns[df.dtypes == \"object\"].tolist():\n",
    "    df[col] = df[col].astype('category')"
   ]
  },
  {
   "cell_type": "markdown",
   "metadata": {
    "papermill": {
     "duration": 0.016985,
     "end_time": "2021-03-11T21:01:52.979311",
     "exception": false,
     "start_time": "2021-03-11T21:01:52.962326",
     "status": "completed"
    },
    "tags": []
   },
   "source": [
    "# Prepare Data"
   ]
  },
  {
   "cell_type": "code",
   "execution_count": 7,
   "metadata": {
    "execution": {
     "iopub.execute_input": "2021-03-11T21:01:53.025710Z",
     "iopub.status.busy": "2021-03-11T21:01:53.024804Z",
     "iopub.status.idle": "2021-03-11T21:01:53.258189Z",
     "shell.execute_reply": "2021-03-11T21:01:53.257727Z"
    },
    "papermill": {
     "duration": 0.261591,
     "end_time": "2021-03-11T21:01:53.258324",
     "exception": false,
     "start_time": "2021-03-11T21:01:52.996733",
     "status": "completed"
    },
    "tags": []
   },
   "outputs": [],
   "source": [
    "X = df.drop('target', axis=1)\n",
    "y = df['target']\n",
    "\n",
    "X_train, X_test, y_train, y_test = train_test_split(X, y, test_size=0.2, random_state=42, stratify=y)"
   ]
  },
  {
   "cell_type": "code",
   "execution_count": 8,
   "metadata": {
    "execution": {
     "iopub.execute_input": "2021-03-11T21:01:53.300114Z",
     "iopub.status.busy": "2021-03-11T21:01:53.298518Z",
     "iopub.status.idle": "2021-03-11T21:01:53.303009Z",
     "shell.execute_reply": "2021-03-11T21:01:53.302508Z"
    },
    "papermill": {
     "duration": 0.026569,
     "end_time": "2021-03-11T21:01:53.303125",
     "exception": false,
     "start_time": "2021-03-11T21:01:53.276556",
     "status": "completed"
    },
    "tags": []
   },
   "outputs": [],
   "source": [
    "high_cardinality = [\"cat5\", \"cat7\", \"cat8\", \"cat10\"]\n",
    "\n",
    "categorical_cols = X.columns[X.dtypes == \"category\"].tolist()\n",
    "\n",
    "categorical_cols = list(set(categorical_cols) - set(high_cardinality))\n",
    "\n",
    "cat_columns_position = [X.columns.tolist().index(x) for x in categorical_cols + high_cardinality]"
   ]
  },
  {
   "cell_type": "markdown",
   "metadata": {
    "papermill": {
     "duration": 0.017072,
     "end_time": "2021-03-11T21:01:53.337280",
     "exception": false,
     "start_time": "2021-03-11T21:01:53.320208",
     "status": "completed"
    },
    "tags": []
   },
   "source": [
    "# Baseline Models"
   ]
  },
  {
   "cell_type": "code",
   "execution_count": 9,
   "metadata": {
    "execution": {
     "iopub.execute_input": "2021-03-11T21:01:53.377877Z",
     "iopub.status.busy": "2021-03-11T21:01:53.377329Z",
     "iopub.status.idle": "2021-03-11T21:01:53.381039Z",
     "shell.execute_reply": "2021-03-11T21:01:53.380474Z"
    },
    "papermill": {
     "duration": 0.025974,
     "end_time": "2021-03-11T21:01:53.381148",
     "exception": false,
     "start_time": "2021-03-11T21:01:53.355174",
     "status": "completed"
    },
    "tags": []
   },
   "outputs": [],
   "source": [
    "categorical_transformer = Pipeline(steps=[\n",
    "   # ('OrdinalEncoder', ce.OrdinalEncoder(cols=categorical_cols + high_cardinality))\n",
    "    ('OrdinalEncoder', OrdinalEncoder(handle_unknown = \"use_encoded_value\", unknown_value = 999))\n",
    "    #('TargetEncoder', ce.TargetEncoder(cols=high_cardinality))\n",
    "])\n",
    "\n",
    "preprocessor = ColumnTransformer(\n",
    "    transformers=[\n",
    "        ('cat', categorical_transformer, categorical_cols + high_cardinality)\n",
    "])\n",
    "\n",
    "undersample = RandomUnderSampler(sampling_strategy='majority')"
   ]
  },
  {
   "cell_type": "code",
   "execution_count": 10,
   "metadata": {
    "execution": {
     "iopub.execute_input": "2021-03-11T21:01:53.429243Z",
     "iopub.status.busy": "2021-03-11T21:01:53.428720Z",
     "iopub.status.idle": "2021-03-11T21:01:53.432404Z",
     "shell.execute_reply": "2021-03-11T21:01:53.431998Z"
    },
    "papermill": {
     "duration": 0.03416,
     "end_time": "2021-03-11T21:01:53.432523",
     "exception": false,
     "start_time": "2021-03-11T21:01:53.398363",
     "status": "completed"
    },
    "tags": []
   },
   "outputs": [],
   "source": [
    "# Desicion Tree ----------------------------------------\n",
    "model_tree = DecisionTreeClassifier(random_state = 42)\n",
    "\n",
    "pipe_tree = Pipeline([('preprocessor', preprocessor),\n",
    "                      ('clf', model_tree )])\n",
    "\n",
    "pipe_tree_un = Pipeline([('preprocessor', preprocessor),\n",
    "                         ('undersample', undersample),\n",
    "                         ('clf', model_tree )])\n",
    "\n",
    "# Random Forest ----------------------------------------\n",
    "model_rf = RandomForestClassifier(random_state = 42, n_jobs=-1)\n",
    "\n",
    "pipe_rf = Pipeline([('preprocessor', preprocessor),\n",
    "                    ('clf', model_rf )])\n",
    "\n",
    "pipe_rf_un = Pipeline([('preprocessor', preprocessor),\n",
    "                       ('undersample', undersample),\n",
    "                       ('clf', model_rf )])\n",
    "\n",
    "# LightGBM ---------------------------------------------\n",
    "model_lgbm = LGBMClassifier(random_state = 42, \n",
    "                            device = \"gpu\", \n",
    "                            n_estimators = 500)\n",
    "\n",
    "pipe_lgbm = Pipeline([('preprocessor', preprocessor),\n",
    "                      ('clf', model_lgbm )])\n",
    "\n",
    "pipe_lgbm_un = Pipeline([('preprocessor', preprocessor),\n",
    "                         ('undersample', undersample),\n",
    "                         ('clf', model_lgbm )])\n",
    "\n",
    "# CatBoost ----------------------------------------------\n",
    "model_cat = CatBoostClassifier(random_state = 42, verbose = 0,\n",
    "                               task_type=\"GPU\", border_count = 32,\n",
    "                                n_estimators = 500,\n",
    "                                early_stopping_rounds = 100)\n",
    "\n",
    "pipe_cat = Pipeline([('clf', model_cat )])\n",
    "\n",
    "pipe_cat_un = Pipeline([('undersample', undersample),\n",
    "                        ('clf', model_cat )])\n",
    "\n",
    "# CatBoost (fast mode)----------------------------------\n",
    "model_cat_fast = CatBoostClassifier(random_seed=42, verbose = 0,\n",
    "                                    task_type=\"GPU\", border_count = 32, # turn on gpu\n",
    "                                    n_estimators = 500,\n",
    "                                     boosting_type = \"Plain\",\n",
    "                                     bootstrap_type = \"Bernoulli\",\n",
    "                                     max_ctr_complexity = 1,\n",
    "                                     subsample = 0.6,\n",
    "                                     #colsample_bylevel = 0.5, # ONLY CPU\n",
    "                                     #one_hot_max_size = 4,\n",
    "                                     #leaf_estimation_iterations = 5, #[1,10]\n",
    "                                     early_stopping_rounds = 100)\n",
    "\n",
    "pipe_cat_fast = Pipeline([('clf', model_cat_fast )])\n",
    "\n",
    "pipe_cat_fast_un = Pipeline([('undersample', undersample),\n",
    "                             ('clf', model_cat_fast )])"
   ]
  },
  {
   "cell_type": "code",
   "execution_count": 11,
   "metadata": {
    "execution": {
     "iopub.execute_input": "2021-03-11T21:01:53.472142Z",
     "iopub.status.busy": "2021-03-11T21:01:53.471028Z",
     "iopub.status.idle": "2021-03-11T21:01:53.473574Z",
     "shell.execute_reply": "2021-03-11T21:01:53.473937Z"
    },
    "papermill": {
     "duration": 0.024358,
     "end_time": "2021-03-11T21:01:53.474052",
     "exception": false,
     "start_time": "2021-03-11T21:01:53.449694",
     "status": "completed"
    },
    "tags": []
   },
   "outputs": [],
   "source": [
    "classifiers = {\n",
    "    \"DecisionTreeClassifier\": pipe_tree,\n",
    "    \"DecisionTreeClassifier_un\": pipe_tree_un,\n",
    "    \"RandomForestClassifier\": pipe_rf,\n",
    "    \"RandomForestClassifier_un\": pipe_rf_un,\n",
    "    \"LGBMClassifier\": pipe_lgbm,\n",
    "    \"LGBMClassifier_un\": pipe_lgbm_un,\n",
    "    \"CatBoostClassifier\": pipe_cat,\n",
    "    \"CatBoostClassifier_un\": pipe_cat_un,\n",
    "    \"CatBoostClassifier_fast\": pipe_cat_fast,\n",
    "    \"CatBoostClassifier_fast_un\": pipe_cat_fast_un\n",
    "}"
   ]
  },
  {
   "cell_type": "code",
   "execution_count": 12,
   "metadata": {
    "execution": {
     "iopub.execute_input": "2021-03-11T21:01:53.514353Z",
     "iopub.status.busy": "2021-03-11T21:01:53.513861Z",
     "iopub.status.idle": "2021-03-11T21:01:53.517687Z",
     "shell.execute_reply": "2021-03-11T21:01:53.517284Z"
    },
    "papermill": {
     "duration": 0.026225,
     "end_time": "2021-03-11T21:01:53.517788",
     "exception": false,
     "start_time": "2021-03-11T21:01:53.491563",
     "status": "completed"
    },
    "tags": []
   },
   "outputs": [],
   "source": [
    "results = pd.DataFrame(columns= [\"model\", \"auc\", \"aucpr\", \"logloss\",  \"time\"])"
   ]
  },
  {
   "cell_type": "code",
   "execution_count": 13,
   "metadata": {
    "execution": {
     "iopub.execute_input": "2021-03-11T21:01:53.562030Z",
     "iopub.status.busy": "2021-03-11T21:01:53.559661Z",
     "iopub.status.idle": "2021-03-11T21:05:27.682147Z",
     "shell.execute_reply": "2021-03-11T21:05:27.683060Z"
    },
    "papermill": {
     "duration": 214.148032,
     "end_time": "2021-03-11T21:05:27.683262",
     "exception": false,
     "start_time": "2021-03-11T21:01:53.535230",
     "status": "completed"
    },
    "tags": []
   },
   "outputs": [
    {
     "name": "stdout",
     "output_type": "stream",
     "text": [
      "Running DecisionTreeClassifier\n",
      "Running DecisionTreeClassifier_un\n",
      "Running RandomForestClassifier\n",
      "Running RandomForestClassifier_un\n",
      "Running LGBMClassifier\n"
     ]
    },
    {
     "name": "stderr",
     "output_type": "stream",
     "text": [
      "/opt/conda/lib/python3.7/site-packages/lightgbm/basic.py:1551: UserWarning: Using categorical_feature in Dataset.\n",
      "  warnings.warn('Using categorical_feature in Dataset.')\n"
     ]
    },
    {
     "name": "stdout",
     "output_type": "stream",
     "text": [
      "Running LGBMClassifier_un\n"
     ]
    },
    {
     "name": "stderr",
     "output_type": "stream",
     "text": [
      "/opt/conda/lib/python3.7/site-packages/lightgbm/basic.py:1551: UserWarning: Using categorical_feature in Dataset.\n",
      "  warnings.warn('Using categorical_feature in Dataset.')\n"
     ]
    },
    {
     "name": "stdout",
     "output_type": "stream",
     "text": [
      "Running CatBoostClassifier\n",
      "Running CatBoostClassifier_un\n",
      "Running CatBoostClassifier_fast\n",
      "Running CatBoostClassifier_fast_un\n",
      "CPU times: user 4min 36s, sys: 18.6 s, total: 4min 54s\n",
      "Wall time: 3min 34s\n"
     ]
    }
   ],
   "source": [
    "%%time\n",
    "\n",
    "import time\n",
    "\n",
    "for key, classifier in classifiers.items():\n",
    "    print(\"Running\", key)\n",
    "    \n",
    "    start_time = time.time()\n",
    "    \n",
    "    if key.find(\"LGBMClassifier\") != -1:\n",
    "        classifiers[key] = classifier.fit(X_train, y_train, clf__categorical_feature = cat_columns_position)\n",
    "    elif key.find(\"CatBoostClassifier\") != -1:\n",
    "        classifiers[key] = classifier.fit(X_train, y_train, clf__cat_features = cat_columns_position)\n",
    "    else:\n",
    "        classifiers[key] = classifier.fit(X_train, y_train)\n",
    "\n",
    "    end_time = (time.time() - start_time)\n",
    "\n",
    "    results = results.append(\n",
    "        pd.concat([\n",
    "        pd.DataFrame(evalue_model(classifiers[key], y_test, X_test, key), index=[0]),\n",
    "        pd.DataFrame({\"time\" : end_time}, index = [0]) ],\n",
    "        axis=1)\n",
    "    )"
   ]
  },
  {
   "cell_type": "code",
   "execution_count": 14,
   "metadata": {
    "execution": {
     "iopub.execute_input": "2021-03-11T21:05:27.756209Z",
     "iopub.status.busy": "2021-03-11T21:05:27.755552Z",
     "iopub.status.idle": "2021-03-11T21:05:27.768675Z",
     "shell.execute_reply": "2021-03-11T21:05:27.769668Z"
    },
    "papermill": {
     "duration": 0.05476,
     "end_time": "2021-03-11T21:05:27.769837",
     "exception": false,
     "start_time": "2021-03-11T21:05:27.715077",
     "status": "completed"
    },
    "tags": []
   },
   "outputs": [
    {
     "data": {
      "text/html": [
       "<div>\n",
       "<style scoped>\n",
       "    .dataframe tbody tr th:only-of-type {\n",
       "        vertical-align: middle;\n",
       "    }\n",
       "\n",
       "    .dataframe tbody tr th {\n",
       "        vertical-align: top;\n",
       "    }\n",
       "\n",
       "    .dataframe thead th {\n",
       "        text-align: right;\n",
       "    }\n",
       "</style>\n",
       "<table border=\"1\" class=\"dataframe\">\n",
       "  <thead>\n",
       "    <tr style=\"text-align: right;\">\n",
       "      <th></th>\n",
       "      <th>model</th>\n",
       "      <th>auc</th>\n",
       "      <th>aucpr</th>\n",
       "      <th>logloss</th>\n",
       "      <th>time</th>\n",
       "    </tr>\n",
       "  </thead>\n",
       "  <tbody>\n",
       "    <tr>\n",
       "      <th>0</th>\n",
       "      <td>CatBoostClassifier_fast_un</td>\n",
       "      <td>0.889978</td>\n",
       "      <td>0.783907</td>\n",
       "      <td>0.415708</td>\n",
       "      <td>10.582134</td>\n",
       "    </tr>\n",
       "    <tr>\n",
       "      <th>0</th>\n",
       "      <td>CatBoostClassifier_fast</td>\n",
       "      <td>0.889469</td>\n",
       "      <td>0.785135</td>\n",
       "      <td>0.351202</td>\n",
       "      <td>10.716575</td>\n",
       "    </tr>\n",
       "    <tr>\n",
       "      <th>0</th>\n",
       "      <td>CatBoostClassifier</td>\n",
       "      <td>0.887654</td>\n",
       "      <td>0.781164</td>\n",
       "      <td>0.354235</td>\n",
       "      <td>84.804311</td>\n",
       "    </tr>\n",
       "    <tr>\n",
       "      <th>0</th>\n",
       "      <td>CatBoostClassifier_un</td>\n",
       "      <td>0.887511</td>\n",
       "      <td>0.778835</td>\n",
       "      <td>0.418003</td>\n",
       "      <td>22.704176</td>\n",
       "    </tr>\n",
       "    <tr>\n",
       "      <th>0</th>\n",
       "      <td>LGBMClassifier</td>\n",
       "      <td>0.884387</td>\n",
       "      <td>0.775620</td>\n",
       "      <td>0.358807</td>\n",
       "      <td>16.088659</td>\n",
       "    </tr>\n",
       "    <tr>\n",
       "      <th>0</th>\n",
       "      <td>LGBMClassifier_un</td>\n",
       "      <td>0.882450</td>\n",
       "      <td>0.769712</td>\n",
       "      <td>0.427368</td>\n",
       "      <td>8.034112</td>\n",
       "    </tr>\n",
       "    <tr>\n",
       "      <th>0</th>\n",
       "      <td>RandomForestClassifier_un</td>\n",
       "      <td>0.862284</td>\n",
       "      <td>0.726314</td>\n",
       "      <td>0.561822</td>\n",
       "      <td>13.623294</td>\n",
       "    </tr>\n",
       "    <tr>\n",
       "      <th>0</th>\n",
       "      <td>RandomForestClassifier</td>\n",
       "      <td>0.860380</td>\n",
       "      <td>0.733585</td>\n",
       "      <td>0.546284</td>\n",
       "      <td>27.053407</td>\n",
       "    </tr>\n",
       "    <tr>\n",
       "      <th>0</th>\n",
       "      <td>DecisionTreeClassifier_un</td>\n",
       "      <td>0.721743</td>\n",
       "      <td>0.427562</td>\n",
       "      <td>9.084113</td>\n",
       "      <td>2.623575</td>\n",
       "    </tr>\n",
       "    <tr>\n",
       "      <th>0</th>\n",
       "      <td>DecisionTreeClassifier</td>\n",
       "      <td>0.714695</td>\n",
       "      <td>0.455737</td>\n",
       "      <td>7.230536</td>\n",
       "      <td>3.435738</td>\n",
       "    </tr>\n",
       "  </tbody>\n",
       "</table>\n",
       "</div>"
      ],
      "text/plain": [
       "                        model       auc     aucpr   logloss       time\n",
       "0  CatBoostClassifier_fast_un  0.889978  0.783907  0.415708  10.582134\n",
       "0     CatBoostClassifier_fast  0.889469  0.785135  0.351202  10.716575\n",
       "0          CatBoostClassifier  0.887654  0.781164  0.354235  84.804311\n",
       "0       CatBoostClassifier_un  0.887511  0.778835  0.418003  22.704176\n",
       "0              LGBMClassifier  0.884387  0.775620  0.358807  16.088659\n",
       "0           LGBMClassifier_un  0.882450  0.769712  0.427368   8.034112\n",
       "0   RandomForestClassifier_un  0.862284  0.726314  0.561822  13.623294\n",
       "0      RandomForestClassifier  0.860380  0.733585  0.546284  27.053407\n",
       "0   DecisionTreeClassifier_un  0.721743  0.427562  9.084113   2.623575\n",
       "0      DecisionTreeClassifier  0.714695  0.455737  7.230536   3.435738"
      ]
     },
     "execution_count": 14,
     "metadata": {},
     "output_type": "execute_result"
    }
   ],
   "source": [
    "results.sort_values(by=['auc'], ascending = False)"
   ]
  },
  {
   "cell_type": "code",
   "execution_count": 15,
   "metadata": {
    "execution": {
     "iopub.execute_input": "2021-03-11T21:05:27.843442Z",
     "iopub.status.busy": "2021-03-11T21:05:27.842712Z",
     "iopub.status.idle": "2021-03-11T21:05:40.113438Z",
     "shell.execute_reply": "2021-03-11T21:05:40.113846Z"
    },
    "papermill": {
     "duration": 12.311426,
     "end_time": "2021-03-11T21:05:40.113993",
     "exception": false,
     "start_time": "2021-03-11T21:05:27.802567",
     "status": "completed"
    },
    "tags": []
   },
   "outputs": [
    {
     "data": {
      "text/plain": [
       "<matplotlib.legend.Legend at 0x7f8431a98450>"
      ]
     },
     "execution_count": 15,
     "metadata": {},
     "output_type": "execute_result"
    },
    {
     "data": {
      "image/png": "[encoded data removed]",
      "text/plain": [
       "<Figure size 576x396 with 1 Axes>"
      ]
     },
     "metadata": {},
     "output_type": "display_data"
    }
   ],
   "source": [
    "from sklearn import metrics\n",
    "import numpy as np\n",
    "import matplotlib.pyplot as plt\n",
    "\n",
    "for key, classifier in classifiers.items():\n",
    "    \n",
    "    yhat_prob = [x[1] for x in classifier.predict_proba(X_test)]\n",
    "\n",
    "    fpr, tpr, thresh = metrics.roc_curve(y_true = y_test, y_score = yhat_prob)\n",
    "    auc = metrics.roc_auc_score(y_test, yhat_prob)\n",
    "    plt.plot(fpr,tpr,label=key+\", auc=\"+str(round(auc, 4)))\n",
    "    \n",
    "plt.legend(loc=0)"
   ]
  },
  {
   "cell_type": "markdown",
   "metadata": {
    "papermill": {
     "duration": 0.023275,
     "end_time": "2021-03-11T21:05:40.161217",
     "exception": false,
     "start_time": "2021-03-11T21:05:40.137942",
     "status": "completed"
    },
    "tags": []
   },
   "source": [
    "# Bayes Tunning"
   ]
  },
  {
   "cell_type": "code",
   "execution_count": 16,
   "metadata": {
    "execution": {
     "iopub.execute_input": "2021-03-11T21:05:40.212770Z",
     "iopub.status.busy": "2021-03-11T21:05:40.211065Z",
     "iopub.status.idle": "2021-03-11T21:05:40.213348Z",
     "shell.execute_reply": "2021-03-11T21:05:40.213777Z"
    },
    "papermill": {
     "duration": 0.029156,
     "end_time": "2021-03-11T21:05:40.213892",
     "exception": false,
     "start_time": "2021-03-11T21:05:40.184736",
     "status": "completed"
    },
    "tags": []
   },
   "outputs": [],
   "source": [
    "# eval dataset to lgbm\n",
    "#X_train, X_val, y_train, y_val = train_test_split(X_train, y_train, test_size=0.2, random_state=42, stratify=y_train)"
   ]
  },
  {
   "cell_type": "code",
   "execution_count": 17,
   "metadata": {
    "execution": {
     "iopub.execute_input": "2021-03-11T21:05:40.268184Z",
     "iopub.status.busy": "2021-03-11T21:05:40.267684Z",
     "iopub.status.idle": "2021-03-11T21:05:40.273168Z",
     "shell.execute_reply": "2021-03-11T21:05:40.272682Z"
    },
    "papermill": {
     "duration": 0.035915,
     "end_time": "2021-03-11T21:05:40.273267",
     "exception": false,
     "start_time": "2021-03-11T21:05:40.237352",
     "status": "completed"
    },
    "tags": []
   },
   "outputs": [
    {
     "data": {
      "text/plain": [
       "{'clf': {'max_depth': 8,\n",
       "  'reg_lambda': 1.9554917329170782,\n",
       "  'subsample': 0.3126465537644695},\n",
       " 'undersample': False}"
      ]
     },
     "execution_count": 17,
     "metadata": {},
     "output_type": "execute_result"
    }
   ],
   "source": [
    "hp_space = {\n",
    "    'undersample': hp.choice(label = 'undersample', options = [True, False]),\n",
    "    'clf': {\n",
    "        #'n_estimators': ho_scope.int(hp.quniform('n_estimators',200,600,100)), \n",
    "\n",
    "        'max_depth':  ho_scope.int(hp.quniform('max_depth',1,9,1)),\n",
    "        #'leaf_estimation_iterations':  ho_scope.int(hp.quniform('leaf_estimation_iterations',1,5,1)),\n",
    "        \n",
    "        'subsample': hp.uniform('colsample_bytree',0.2,0.7),\n",
    "        #'colsample_bylevel': hp.uniform('colsample_bylevel',0.2,0.6),\n",
    "        \n",
    "        'reg_lambda': hp.loguniform('reg_lambda',np.log(1e-4),np.log(7))\n",
    "        \n",
    "        # catboost \n",
    "       # 'border_count': hp.choice(label = 'border_count', options = [32, 64 ,128, 254]) # turn off on gpu\n",
    "        #'ctr_target_border_count': hp.choice(label = 'ctr_target_border_count', options = [1,5,10,20,50,100,200, 250])\n",
    "    }\n",
    "}\n",
    "\n",
    "ho_sample(hp_space)"
   ]
  },
  {
   "cell_type": "code",
   "execution_count": 18,
   "metadata": {
    "execution": {
     "iopub.execute_input": "2021-03-11T21:05:40.323973Z",
     "iopub.status.busy": "2021-03-11T21:05:40.323489Z",
     "iopub.status.idle": "2021-03-11T21:05:40.326996Z",
     "shell.execute_reply": "2021-03-11T21:05:40.326608Z"
    },
    "papermill": {
     "duration": 0.030242,
     "end_time": "2021-03-11T21:05:40.327095",
     "exception": false,
     "start_time": "2021-03-11T21:05:40.296853",
     "status": "completed"
    },
    "tags": []
   },
   "outputs": [],
   "source": [
    "iteracoes = Trials()"
   ]
  },
  {
   "cell_type": "code",
   "execution_count": 19,
   "metadata": {
    "execution": {
     "iopub.execute_input": "2021-03-11T21:05:40.382043Z",
     "iopub.status.busy": "2021-03-11T21:05:40.380951Z",
     "iopub.status.idle": "2021-03-11T21:05:40.383768Z",
     "shell.execute_reply": "2021-03-11T21:05:40.383326Z"
    },
    "papermill": {
     "duration": 0.032399,
     "end_time": "2021-03-11T21:05:40.383866",
     "exception": false,
     "start_time": "2021-03-11T21:05:40.351467",
     "status": "completed"
    },
    "tags": []
   },
   "outputs": [],
   "source": [
    "def instancia_modelo(hiperparametros):\n",
    "        \n",
    "    clf = CatBoostClassifier(**hiperparametros['clf'],\n",
    "                             random_seed=42, verbose = 0,\n",
    "                             task_type=\"GPU\", border_count = 32, # turn on gpu\n",
    "                             boosting_type = \"Plain\",\n",
    "                             bootstrap_type = \"Bernoulli\",\n",
    "                             max_ctr_complexity = 0,\n",
    "                             n_estimators = 550,\n",
    "                             early_stopping_rounds = 100)\n",
    "\n",
    "    if hiperparametros['undersample'] == True:\n",
    "        undersample = RandomUnderSampler(sampling_strategy='majority')\n",
    "\n",
    "    else:\n",
    "        undersample = None\n",
    "        \n",
    "    #categorical_transformer = Pipeline(steps=[\n",
    "    #    ('OrdinalEncoder', ce.OrdinalEncoder(cols=categorical_cols)),\n",
    "    #    ('JamesSteinEncoder', ce.JamesSteinEncoder(cols=high_cardinality))\n",
    "    #])\n",
    "\n",
    "    #preprocessor = ColumnTransformer(\n",
    "    #    transformers=[\n",
    "    #        #('num', numerical_transformer, numerical_cols),\n",
    "    #        ('cat', categorical_transformer, high_cardinality + categorical_cols)\n",
    "    #])\n",
    "    \n",
    "    pipe = Pipeline([#('preprocessor', preprocessor),\n",
    "                       ('undersample', undersample),\n",
    "                       ('clf', clf) ])\n",
    "\n",
    "    return pipe"
   ]
  },
  {
   "cell_type": "code",
   "execution_count": 20,
   "metadata": {
    "execution": {
     "iopub.execute_input": "2021-03-11T21:05:40.437054Z",
     "iopub.status.busy": "2021-03-11T21:05:40.436425Z",
     "iopub.status.idle": "2021-03-11T21:05:40.439259Z",
     "shell.execute_reply": "2021-03-11T21:05:40.438874Z"
    },
    "papermill": {
     "duration": 0.031549,
     "end_time": "2021-03-11T21:05:40.439357",
     "exception": false,
     "start_time": "2021-03-11T21:05:40.407808",
     "status": "completed"
    },
    "tags": []
   },
   "outputs": [],
   "source": [
    "## criando uma função para realizar o treino do modelo\n",
    "def funcao_para_minimizar(hiperparametros, features, target):\n",
    "    \n",
    "    ## criando uma instancia do modelo com a combinação definida de hiperparametros para usar dentro da função\n",
    "    pipe = instancia_modelo(hiperparametros)\n",
    "    \n",
    "    #pipe.named_steps.preprocessor.fit(X_train, y_train)\n",
    "    #X_val_interim = pipe.named_steps.preprocessor.transform(X_val)\n",
    "    # Usando dados de validacao\n",
    "    \n",
    "    #eval_set = [X_val, y_val]\n",
    "    \n",
    "    #fit_params={'clf__early_stopping_rounds': 100, \n",
    "    #            'clf__eval_metric': 'auc',\n",
    "    #            'clf__verbose': False,\n",
    "    #            'clf__categorical_feature': categorical_cols + high_cardinality,\n",
    "    #            'clf__eval_set': eval_set}\n",
    "    \n",
    "    fit_params={'clf__cat_features':cat_columns_position}\n",
    "    \n",
    "    cv = StratifiedKFold(n_splits=5)\n",
    "    \n",
    "    ## treinando o modelo com cross-validation\n",
    "    resultado = cross_val_score(estimator = pipe, \n",
    "                                X = features, \n",
    "                                y = target, \n",
    "                                scoring = \"roc_auc\",\n",
    "                                cv = cv, \n",
    "                                error_score = \"raise\",\n",
    "                                fit_params = fit_params,\n",
    "                                n_jobs = -1)\n",
    "    \n",
    "    ## retornando a metrica da performance do modelo\n",
    "    return -resultado.mean()"
   ]
  },
  {
   "cell_type": "code",
   "execution_count": 21,
   "metadata": {
    "execution": {
     "iopub.execute_input": "2021-03-11T21:05:40.496941Z",
     "iopub.status.busy": "2021-03-11T21:05:40.496179Z",
     "iopub.status.idle": "2021-03-12T00:44:50.952696Z",
     "shell.execute_reply": "2021-03-12T00:44:50.949917Z"
    },
    "papermill": {
     "duration": 13150.489501,
     "end_time": "2021-03-12T00:44:50.952972",
     "exception": false,
     "start_time": "2021-03-11T21:05:40.463471",
     "status": "completed"
    },
    "tags": []
   },
   "outputs": [
    {
     "name": "stdout",
     "output_type": "stream",
     "text": [
      "100%|██████████| 120/120 [3:39:10<00:00, 109.59s/trial, best loss: -0.8911124643210313]\n",
      "CPU times: user 1min 41s, sys: 5min 3s, total: 6min 45s\n",
      "Wall time: 3h 39min 10s\n"
     ]
    }
   ],
   "source": [
    "%%time\n",
    "\n",
    "## rodando a otimização\n",
    "otimizacao = fmin(fn = partial(funcao_para_minimizar, features = X_train, target = y_train),\n",
    "                  space = hp_space, \n",
    "                  algo = tpe.suggest,\n",
    "                  trials = iteracoes,\n",
    "                  max_evals = int(120), \n",
    "                  rstate = np.random.RandomState(42))"
   ]
  },
  {
   "cell_type": "code",
   "execution_count": 22,
   "metadata": {
    "execution": {
     "iopub.execute_input": "2021-03-12T00:44:51.132967Z",
     "iopub.status.busy": "2021-03-12T00:44:51.132179Z",
     "iopub.status.idle": "2021-03-12T00:44:51.135700Z",
     "shell.execute_reply": "2021-03-12T00:44:51.136222Z"
    },
    "papermill": {
     "duration": 0.097475,
     "end_time": "2021-03-12T00:44:51.136398",
     "exception": false,
     "start_time": "2021-03-12T00:44:51.038923",
     "status": "completed"
    },
    "tags": []
   },
   "outputs": [],
   "source": [
    "def extrai_space_eval(hp_space, trial):\n",
    "    ## desempacota o resultado\n",
    "    desempacota_trial = space_eval(space = hp_space, \n",
    "                                   hp_assignment = {k: v[0] for (k, v) in trial['misc']['vals'].items() if len(v) > 0})\n",
    "    \n",
    "    ## retornando o resultado\n",
    "    return desempacota_trial"
   ]
  },
  {
   "cell_type": "code",
   "execution_count": 23,
   "metadata": {
    "execution": {
     "iopub.execute_input": "2021-03-12T00:44:51.275807Z",
     "iopub.status.busy": "2021-03-12T00:44:51.274951Z",
     "iopub.status.idle": "2021-03-12T00:44:51.277637Z",
     "shell.execute_reply": "2021-03-12T00:44:51.277192Z"
    },
    "papermill": {
     "duration": 0.064211,
     "end_time": "2021-03-12T00:44:51.277748",
     "exception": false,
     "start_time": "2021-03-12T00:44:51.213537",
     "status": "completed"
    },
    "tags": []
   },
   "outputs": [],
   "source": [
    "\n",
    "def desempacota_dicionario(dicionario):\n",
    "    desempacotado = {}\n",
    "    for (chave, valor) in dicionario.items():\n",
    "        if isinstance(valor, dict):\n",
    "            desempacotado = {**desempacotado, **desempacota_dicionario(valor)}\n",
    "        else:\n",
    "            desempacotado[chave] = valor\n",
    "            \n",
    "    return desempacotado"
   ]
  },
  {
   "cell_type": "code",
   "execution_count": 24,
   "metadata": {
    "execution": {
     "iopub.execute_input": "2021-03-12T00:44:51.423829Z",
     "iopub.status.busy": "2021-03-12T00:44:51.403279Z",
     "iopub.status.idle": "2021-03-12T00:44:51.456855Z",
     "shell.execute_reply": "2021-03-12T00:44:51.456424Z"
    },
    "papermill": {
     "duration": 0.122831,
     "end_time": "2021-03-12T00:44:51.456962",
     "exception": false,
     "start_time": "2021-03-12T00:44:51.334131",
     "status": "completed"
    },
    "tags": []
   },
   "outputs": [],
   "source": [
    "## colocando o historico em um dataframe\n",
    "historico = pd.DataFrame([desempacota_dicionario(extrai_space_eval(hp_space, x)) for x in iteracoes.trials])\n",
    "\n",
    "## colocando o AUC como uma das colunas\n",
    "historico['auc'] = [-x['loss'] for x in iteracoes.results]"
   ]
  },
  {
   "cell_type": "code",
   "execution_count": 25,
   "metadata": {
    "execution": {
     "iopub.execute_input": "2021-03-12T00:44:51.574967Z",
     "iopub.status.busy": "2021-03-12T00:44:51.574327Z",
     "iopub.status.idle": "2021-03-12T00:44:51.578235Z",
     "shell.execute_reply": "2021-03-12T00:44:51.577781Z"
    },
    "papermill": {
     "duration": 0.064937,
     "end_time": "2021-03-12T00:44:51.578376",
     "exception": false,
     "start_time": "2021-03-12T00:44:51.513439",
     "status": "completed"
    },
    "tags": []
   },
   "outputs": [
    {
     "name": "stdout",
     "output_type": "stream",
     "text": [
      "Hiperparâmetros selecionados:\n",
      "{'clf': {'max_depth': 9, 'reg_lambda': 3.851903811191025, 'subsample': 0.671382036954592}, 'undersample': False}\n"
     ]
    }
   ],
   "source": [
    "# hiperparâmetros selecionados pela otimização\n",
    "hiperparametros_selecionados = space_eval(space = hp_space, hp_assignment = otimizacao)\n",
    "print('Hiperparâmetros selecionados:\\n%s' % hiperparametros_selecionados)"
   ]
  },
  {
   "cell_type": "code",
   "execution_count": 26,
   "metadata": {
    "execution": {
     "iopub.execute_input": "2021-03-12T00:44:51.696895Z",
     "iopub.status.busy": "2021-03-12T00:44:51.696208Z",
     "iopub.status.idle": "2021-03-12T00:44:53.363056Z",
     "shell.execute_reply": "2021-03-12T00:44:53.363461Z"
    },
    "papermill": {
     "duration": 1.728731,
     "end_time": "2021-03-12T00:44:53.363621",
     "exception": false,
     "start_time": "2021-03-12T00:44:51.634890",
     "status": "completed"
    },
    "tags": []
   },
   "outputs": [
    {
     "data": {
      "text/html": [
       "        <script type=\"text/javascript\">\n",
       "        window.PlotlyConfig = {MathJaxConfig: 'local'};\n",
       "        if (window.MathJax) {MathJax.Hub.Config({SVG: {font: \"STIX-Web\"}});}\n",
       "        if (typeof require !== 'undefined') {\n",
       "        require.undef(\"plotly\");\n",
       "        requirejs.config({\n",
       "            paths: {\n",
       "                'plotly': ['https://cdn.plot.ly/plotly-latest.min']\n",
       "            }\n",
       "        });\n",
       "        require(['plotly'], function(Plotly) {\n",
       "            window._Plotly = Plotly;\n",
       "        });\n",
       "        }\n",
       "        </script>\n",
       "        "
      ]
     },
     "metadata": {},
     "output_type": "display_data"
    },
    {
     "data": {
      "text/html": [
       "<div>                            <div id=\"e86d4988-20c9-48ca-8e0e-e0fb0c4a60ab\" class=\"plotly-graph-div\" style=\"height:525px; width:100%;\"></div>            <script type=\"text/javascript\">                require([\"plotly\"], function(Plotly) {                    window.PLOTLYENV=window.PLOTLYENV || {};                                    if (document.getElementById(\"e86d4988-20c9-48ca-8e0e-e0fb0c4a60ab\")) {                    Plotly.newPlot(                        \"e86d4988-20c9-48ca-8e0e-e0fb0c4a60ab\",                        [{\"dimensions\": [{\"label\": \"max_depth\", \"values\": [6, 8, 6, 5, 5, 3, 8, 3, 2, 5, 2, 5, 6, 2, 2, 3, 2, 9, 4, 7, 9, 9, 9, 8, 9, 7, 7, 8, 9, 7, 8, 6, 9, 6, 4, 8, 1, 7, 8, 4, 9, 6, 8, 9, 5, 7, 6, 9, 8, 3, 5, 4, 7, 8, 9, 6, 1, 8, 7, 3, 7, 9, 5, 8, 9, 9, 9, 9, 8, 9, 8, 9, 8, 9, 7, 9, 8, 7, 2, 6, 9, 8, 8, 9, 7, 6, 4, 9, 8, 9, 1, 7, 5, 8, 6, 9, 7, 4, 8, 9, 3, 7, 9, 8, 8, 9, 5, 7, 6, 3, 9, 8, 9, 2, 9, 8, 6, 7, 8, 9]}, {\"label\": \"reg_lambda\", \"values\": [0.000523393253491844, 0.0817288076330695, 0.039542102033188385, 0.0004853222917725085, 0.700264850655076, 0.00480519887591513, 1.5074689781660695, 0.02471093191658041, 0.00044403902077321883, 0.020363493459658426, 0.07357265039706164, 0.007171407119122142, 0.02522627906129855, 0.7710088839251744, 0.005332405573709245, 0.0003184661241558046, 0.00028140522385863, 0.008871833898292658, 0.5849559827061891, 0.09254286416829491, 5.2518511831121355, 4.447524492781569, 6.668912485398252, 5.094765829343903, 2.437003507515441, 0.2530871757237112, 2.2880209864966456, 0.26465015507023326, 0.0015233799771316254, 5.761606360960654, 6.8766964931688825, 0.20219611754739455, 0.0012090947954438202, 1.6413111278160915, 0.0001071358979847575, 0.971854101117225, 3.208308308303996, 0.4140705644699245, 0.1314331777506043, 0.04716691586591448, 1.2851644394032022, 0.012914600382765495, 3.4193760713401944, 0.3653295213412819, 0.002130319345195045, 0.04900924544420384, 0.1590518969945714, 0.48140505996630584, 1.0608549090039658, 1.9331935103705014, 0.0036640353611139473, 0.00017046542974060724, 0.696381531987641, 6.900223112366999, 0.016149837645673806, 0.000824322469638156, 0.10734365073430717, 0.03359194657258588, 3.2650403614504344, 4.836832243926754, 0.06587815270390178, 0.27634123880200434, 0.8628340474587997, 1.4792870224986463, 0.0034975538288190564, 0.22764540576575973, 2.6379213278209463, 0.5771739932343197, 2.8768411027198675, 0.6029675992802259, 4.248132740677217, 2.1235544023719295, 0.3589955995494196, 1.8810177048208696, 0.17612593680544542, 1.9986830422503006, 1.2286294265651716, 1.790908599250475, 2.246642773097445, 0.08075720724435141, 3.851903811191025, 6.955185621087619, 0.008785824905714435, 4.052087986519783, 1.0157582570705546, 3.8442525689599614, 5.900704122446924, 0.30287300771450626, 0.4654087998321337, 1.436515209039963, 0.05960819224358626, 0.13653763325195745, 0.02963186445683751, 0.020628228698306824, 0.10357591634942243, 0.7229576778536955, 1.2061429503146863, 4.234809297126293, 0.8774027493931884, 1.4531284817386683, 5.467214529472812, 0.013033727887812709, 0.5534822138375701, 2.9255969212238124, 0.0005497404142916886, 0.03902005968909776, 0.3167959672854066, 0.17843024723797157, 6.864996813875474, 0.38842783601004605, 0.006027146706119985, 0.00011262937637846157, 3.3515958565625614, 0.0026239998685407416, 0.21154321222335098, 2.6633443207836445, 1.4644409147699575, 0.7033688770490065, 5.0480927815671786, 0.00020842465843375389]}, {\"label\": \"subsample\", \"values\": [0.24370434701236804, 0.3646314275108262, 0.5004421552688774, 0.21046782148380877, 0.6903588585658549, 0.5730500590641545, 0.6006781771347869, 0.3111947591391403, 0.6922003739984945, 0.42257561764054397, 0.5773407088762308, 0.529104775609671, 0.33132442276360863, 0.3129334731954235, 0.597446637947358, 0.6266093624173699, 0.3890239190348377, 0.2615920231508498, 0.6830518614660326, 0.5249086142382668, 0.4692416295511892, 0.4757538572706045, 0.46617767637060314, 0.4299494559279592, 0.4595963236630319, 0.3861834245413768, 0.5368848233016723, 0.4409756308193523, 0.6489045824006401, 0.48996677239448866, 0.3584306232591332, 0.4069686324739018, 0.2550282830853085, 0.49723015642381174, 0.5542976461920426, 0.46215149943419825, 0.35137879061784577, 0.5082487247312546, 0.2933161160184623, 0.4020558705408077, 0.20846364162101372, 0.5620532723480375, 0.6524896275812835, 0.5859481702851921, 0.6143577364258158, 0.4760445914036284, 0.2920409143893625, 0.2300714247093399, 0.37555487978898267, 0.34089612418408544, 0.42011674790306336, 0.5168967810030116, 0.45106983736321565, 0.5495455156643747, 0.4726183588144558, 0.3147749525467122, 0.43635887392244843, 0.6446053393835649, 0.6815228988431254, 0.5428588128072388, 0.5779322135273857, 0.48816064876151377, 0.36786342983455966, 0.41624397801744417, 0.39511685019380915, 0.48806231273907535, 0.5311284943663142, 0.5286141942302632, 0.5264834616432864, 0.5988505846438809, 0.604747281232573, 0.6342212366509621, 0.626209672219365, 0.6991565698394133, 0.6774053782904266, 0.6622864906064478, 0.699928862391925, 0.662790092345671, 0.6991247750724063, 0.6261795918065293, 0.671382036954592, 0.6671705365792828, 0.5675217364652063, 0.6882899644713499, 0.6887988469950497, 0.5856719576933708, 0.6073188744794411, 0.6377010577536827, 0.6167591381613807, 0.6732665122255319, 0.6526677233304957, 0.6737929883408644, 0.554549292241147, 0.591923178532753, 0.689528782525113, 0.51430819192705, 0.6493498266283895, 0.614120635739527, 0.6622074269963776, 0.5699314013294203, 0.6729187616728375, 0.5816943498288097, 0.6371310238739035, 0.5013527177297561, 0.6842545229962227, 0.2822483085591494, 0.6220053566069272, 0.5459016374587089, 0.5927743241134432, 0.6377196417179166, 0.5610293685744855, 0.23604258797717098, 0.6981951348929176, 0.6577910440881375, 0.6098511566795926, 0.4428321313570316, 0.5370281793310775, 0.6746242825715478, 0.3346878716250635, 0.6427299146001997]}, {\"label\": \"undersample\", \"values\": [0, 1, 1, 1, 0, 0, 1, 1, 1, 1, 0, 1, 0, 1, 1, 1, 0, 1, 0, 1, 1, 1, 1, 1, 1, 1, 1, 1, 1, 1, 0, 1, 1, 1, 0, 1, 1, 1, 0, 1, 1, 0, 1, 1, 1, 0, 1, 1, 0, 1, 1, 1, 0, 1, 1, 1, 0, 1, 1, 1, 1, 0, 1, 1, 1, 0, 0, 0, 0, 0, 0, 0, 0, 0, 0, 0, 0, 0, 0, 0, 0, 0, 0, 0, 0, 0, 0, 0, 0, 0, 0, 0, 0, 0, 0, 0, 0, 0, 0, 0, 0, 0, 0, 0, 0, 0, 0, 0, 0, 0, 0, 0, 0, 0, 0, 0, 0, 0, 0, 0]}, {\"label\": \"auc\", \"values\": [0.887207792986976, 0.8895752703058427, 0.8881933183893993, 0.8859064002935021, 0.8871128592177211, 0.8837203844620302, 0.890078458578512, 0.8835822184692799, 0.8819052450788984, 0.8867452423728711, 0.8815142415048489, 0.887132039920376, 0.8875385501099673, 0.8813815856048007, 0.8818307776144755, 0.8841011881782455, 0.8814051047989462, 0.889109274042395, 0.8856244897166359, 0.8892596605160008, 0.8907707964585574, 0.8906121563363513, 0.8906561248337921, 0.8900601707344696, 0.8905195553519443, 0.8889696008465992, 0.8893928395827263, 0.8898546235156182, 0.8894108085398107, 0.8891454606963652, 0.8897299150401412, 0.887915690751878, 0.8887574311719106, 0.8881090941432476, 0.8854542720300417, 0.8899092348511898, 0.8779009585194005, 0.8893372112692518, 0.8893353382485794, 0.8853672996565132, 0.8900409780183247, 0.8881759250810937, 0.8901777102414693, 0.8904546761833453, 0.8871463487145524, 0.8890898979041415, 0.8874143495938634, 0.8899906606146072, 0.8897176138062332, 0.8835753788244982, 0.8866837318630589, 0.8856606062991302, 0.8889551710010253, 0.8901090527125872, 0.8897207921790364, 0.8876422499124631, 0.877626837845186, 0.8899851768891891, 0.8894495310944844, 0.8838024728768812, 0.8892762399844105, 0.8906289058037593, 0.886566644819885, 0.88982527509197, 0.889150108950622, 0.8907018723281702, 0.8909487330472986, 0.8907147599820486, 0.8901032940953503, 0.8908396769143285, 0.8902499858226532, 0.8909796262554079, 0.8901907261614234, 0.8910590639783214, 0.8893760446327672, 0.8909916995863736, 0.890420920213387, 0.8894199154605833, 0.8815170069567472, 0.8882341717763552, 0.8911124643210313, 0.8903076329128471, 0.8899076384603413, 0.8910922697042333, 0.8894508230270579, 0.8882399947530178, 0.8855911227900656, 0.8908888358523048, 0.890161346202245, 0.8910796326302346, 0.8777126407654651, 0.8893901236856443, 0.8868595836034265, 0.8901082077809569, 0.8884191464681395, 0.8907768049447649, 0.8893135561693535, 0.8855381684726401, 0.8902647862462644, 0.8909007808631089, 0.8837692133323432, 0.8892087968021454, 0.8909448896735466, 0.8900524792933403, 0.8900207129300037, 0.8899026153044394, 0.8870384194681286, 0.889186222074118, 0.8883102408391931, 0.8837681318580435, 0.8903244846897976, 0.8888503443732766, 0.8910129197903748, 0.8815406159104727, 0.8907975841973087, 0.8898915204363101, 0.8881084107861345, 0.889410438611981, 0.8896341133671231, 0.889974220784435]}], \"domain\": {\"x\": [0.0, 1.0], \"y\": [0.0, 1.0]}, \"line\": {\"color\": [0.887207792986976, 0.8895752703058427, 0.8881933183893993, 0.8859064002935021, 0.8871128592177211, 0.8837203844620302, 0.890078458578512, 0.8835822184692799, 0.8819052450788984, 0.8867452423728711, 0.8815142415048489, 0.887132039920376, 0.8875385501099673, 0.8813815856048007, 0.8818307776144755, 0.8841011881782455, 0.8814051047989462, 0.889109274042395, 0.8856244897166359, 0.8892596605160008, 0.8907707964585574, 0.8906121563363513, 0.8906561248337921, 0.8900601707344696, 0.8905195553519443, 0.8889696008465992, 0.8893928395827263, 0.8898546235156182, 0.8894108085398107, 0.8891454606963652, 0.8897299150401412, 0.887915690751878, 0.8887574311719106, 0.8881090941432476, 0.8854542720300417, 0.8899092348511898, 0.8779009585194005, 0.8893372112692518, 0.8893353382485794, 0.8853672996565132, 0.8900409780183247, 0.8881759250810937, 0.8901777102414693, 0.8904546761833453, 0.8871463487145524, 0.8890898979041415, 0.8874143495938634, 0.8899906606146072, 0.8897176138062332, 0.8835753788244982, 0.8866837318630589, 0.8856606062991302, 0.8889551710010253, 0.8901090527125872, 0.8897207921790364, 0.8876422499124631, 0.877626837845186, 0.8899851768891891, 0.8894495310944844, 0.8838024728768812, 0.8892762399844105, 0.8906289058037593, 0.886566644819885, 0.88982527509197, 0.889150108950622, 0.8907018723281702, 0.8909487330472986, 0.8907147599820486, 0.8901032940953503, 0.8908396769143285, 0.8902499858226532, 0.8909796262554079, 0.8901907261614234, 0.8910590639783214, 0.8893760446327672, 0.8909916995863736, 0.890420920213387, 0.8894199154605833, 0.8815170069567472, 0.8882341717763552, 0.8911124643210313, 0.8903076329128471, 0.8899076384603413, 0.8910922697042333, 0.8894508230270579, 0.8882399947530178, 0.8855911227900656, 0.8908888358523048, 0.890161346202245, 0.8910796326302346, 0.8777126407654651, 0.8893901236856443, 0.8868595836034265, 0.8901082077809569, 0.8884191464681395, 0.8907768049447649, 0.8893135561693535, 0.8855381684726401, 0.8902647862462644, 0.8909007808631089, 0.8837692133323432, 0.8892087968021454, 0.8909448896735466, 0.8900524792933403, 0.8900207129300037, 0.8899026153044394, 0.8870384194681286, 0.889186222074118, 0.8883102408391931, 0.8837681318580435, 0.8903244846897976, 0.8888503443732766, 0.8910129197903748, 0.8815406159104727, 0.8907975841973087, 0.8898915204363101, 0.8881084107861345, 0.889410438611981, 0.8896341133671231, 0.889974220784435], \"coloraxis\": \"coloraxis\"}, \"name\": \"\", \"type\": \"parcoords\"}],                        {\"coloraxis\": {\"colorbar\": {\"title\": {\"text\": \"auc\"}}, \"colorscale\": [[0.0, \"#0d0887\"], [0.1111111111111111, \"#46039f\"], [0.2222222222222222, \"#7201a8\"], [0.3333333333333333, \"#9c179e\"], [0.4444444444444444, \"#bd3786\"], [0.5555555555555556, \"#d8576b\"], [0.6666666666666666, \"#ed7953\"], [0.7777777777777778, \"#fb9f3a\"], [0.8888888888888888, \"#fdca26\"], [1.0, \"#f0f921\"]]}, \"legend\": {\"tracegroupgap\": 0}, \"margin\": {\"t\": 60}, \"template\": {\"data\": {\"bar\": [{\"error_x\": {\"color\": \"#2a3f5f\"}, \"error_y\": {\"color\": \"#2a3f5f\"}, \"marker\": {\"line\": {\"color\": \"#E5ECF6\", \"width\": 0.5}}, \"type\": \"bar\"}], \"barpolar\": [{\"marker\": {\"line\": {\"color\": \"#E5ECF6\", \"width\": 0.5}}, \"type\": \"barpolar\"}], \"carpet\": [{\"aaxis\": {\"endlinecolor\": \"#2a3f5f\", \"gridcolor\": \"white\", \"linecolor\": \"white\", \"minorgridcolor\": \"white\", \"startlinecolor\": \"#2a3f5f\"}, \"baxis\": {\"endlinecolor\": \"#2a3f5f\", \"gridcolor\": \"white\", \"linecolor\": \"white\", \"minorgridcolor\": \"white\", \"startlinecolor\": \"#2a3f5f\"}, \"type\": \"carpet\"}], \"choropleth\": [{\"colorbar\": {\"outlinewidth\": 0, \"ticks\": \"\"}, \"type\": \"choropleth\"}], \"contour\": [{\"colorbar\": {\"outlinewidth\": 0, \"ticks\": \"\"}, \"colorscale\": [[0.0, \"#0d0887\"], [0.1111111111111111, \"#46039f\"], [0.2222222222222222, \"#7201a8\"], [0.3333333333333333, \"#9c179e\"], [0.4444444444444444, \"#bd3786\"], [0.5555555555555556, \"#d8576b\"], [0.6666666666666666, \"#ed7953\"], [0.7777777777777778, \"#fb9f3a\"], [0.8888888888888888, \"#fdca26\"], [1.0, \"#f0f921\"]], \"type\": \"contour\"}], \"contourcarpet\": [{\"colorbar\": {\"outlinewidth\": 0, \"ticks\": \"\"}, \"type\": \"contourcarpet\"}], \"heatmap\": [{\"colorbar\": {\"outlinewidth\": 0, \"ticks\": \"\"}, \"colorscale\": [[0.0, \"#0d0887\"], [0.1111111111111111, \"#46039f\"], [0.2222222222222222, \"#7201a8\"], [0.3333333333333333, \"#9c179e\"], [0.4444444444444444, \"#bd3786\"], [0.5555555555555556, \"#d8576b\"], [0.6666666666666666, \"#ed7953\"], [0.7777777777777778, \"#fb9f3a\"], [0.8888888888888888, \"#fdca26\"], [1.0, \"#f0f921\"]], \"type\": \"heatmap\"}], \"heatmapgl\": [{\"colorbar\": {\"outlinewidth\": 0, \"ticks\": \"\"}, \"colorscale\": [[0.0, \"#0d0887\"], [0.1111111111111111, \"#46039f\"], [0.2222222222222222, \"#7201a8\"], [0.3333333333333333, \"#9c179e\"], [0.4444444444444444, \"#bd3786\"], [0.5555555555555556, \"#d8576b\"], [0.6666666666666666, \"#ed7953\"], [0.7777777777777778, \"#fb9f3a\"], [0.8888888888888888, \"#fdca26\"], [1.0, \"#f0f921\"]], \"type\": \"heatmapgl\"}], \"histogram\": [{\"marker\": {\"colorbar\": {\"outlinewidth\": 0, \"ticks\": \"\"}}, \"type\": \"histogram\"}], \"histogram2d\": [{\"colorbar\": {\"outlinewidth\": 0, \"ticks\": \"\"}, \"colorscale\": [[0.0, \"#0d0887\"], [0.1111111111111111, \"#46039f\"], [0.2222222222222222, \"#7201a8\"], [0.3333333333333333, \"#9c179e\"], [0.4444444444444444, \"#bd3786\"], [0.5555555555555556, \"#d8576b\"], [0.6666666666666666, \"#ed7953\"], [0.7777777777777778, \"#fb9f3a\"], [0.8888888888888888, \"#fdca26\"], [1.0, \"#f0f921\"]], \"type\": \"histogram2d\"}], \"histogram2dcontour\": [{\"colorbar\": {\"outlinewidth\": 0, \"ticks\": \"\"}, \"colorscale\": [[0.0, \"#0d0887\"], [0.1111111111111111, \"#46039f\"], [0.2222222222222222, \"#7201a8\"], [0.3333333333333333, \"#9c179e\"], [0.4444444444444444, \"#bd3786\"], [0.5555555555555556, \"#d8576b\"], [0.6666666666666666, \"#ed7953\"], [0.7777777777777778, \"#fb9f3a\"], [0.8888888888888888, \"#fdca26\"], [1.0, \"#f0f921\"]], \"type\": \"histogram2dcontour\"}], \"mesh3d\": [{\"colorbar\": {\"outlinewidth\": 0, \"ticks\": \"\"}, \"type\": \"mesh3d\"}], \"parcoords\": [{\"line\": {\"colorbar\": {\"outlinewidth\": 0, \"ticks\": \"\"}}, \"type\": \"parcoords\"}], \"pie\": [{\"automargin\": true, \"type\": \"pie\"}], \"scatter\": [{\"marker\": {\"colorbar\": {\"outlinewidth\": 0, \"ticks\": \"\"}}, \"type\": \"scatter\"}], \"scatter3d\": [{\"line\": {\"colorbar\": {\"outlinewidth\": 0, \"ticks\": \"\"}}, \"marker\": {\"colorbar\": {\"outlinewidth\": 0, \"ticks\": \"\"}}, \"type\": \"scatter3d\"}], \"scattercarpet\": [{\"marker\": {\"colorbar\": {\"outlinewidth\": 0, \"ticks\": \"\"}}, \"type\": \"scattercarpet\"}], \"scattergeo\": [{\"marker\": {\"colorbar\": {\"outlinewidth\": 0, \"ticks\": \"\"}}, \"type\": \"scattergeo\"}], \"scattergl\": [{\"marker\": {\"colorbar\": {\"outlinewidth\": 0, \"ticks\": \"\"}}, \"type\": \"scattergl\"}], \"scattermapbox\": [{\"marker\": {\"colorbar\": {\"outlinewidth\": 0, \"ticks\": \"\"}}, \"type\": \"scattermapbox\"}], \"scatterpolar\": [{\"marker\": {\"colorbar\": {\"outlinewidth\": 0, \"ticks\": \"\"}}, \"type\": \"scatterpolar\"}], \"scatterpolargl\": [{\"marker\": {\"colorbar\": {\"outlinewidth\": 0, \"ticks\": \"\"}}, \"type\": \"scatterpolargl\"}], \"scatterternary\": [{\"marker\": {\"colorbar\": {\"outlinewidth\": 0, \"ticks\": \"\"}}, \"type\": \"scatterternary\"}], \"surface\": [{\"colorbar\": {\"outlinewidth\": 0, \"ticks\": \"\"}, \"colorscale\": [[0.0, \"#0d0887\"], [0.1111111111111111, \"#46039f\"], [0.2222222222222222, \"#7201a8\"], [0.3333333333333333, \"#9c179e\"], [0.4444444444444444, \"#bd3786\"], [0.5555555555555556, \"#d8576b\"], [0.6666666666666666, \"#ed7953\"], [0.7777777777777778, \"#fb9f3a\"], [0.8888888888888888, \"#fdca26\"], [1.0, \"#f0f921\"]], \"type\": \"surface\"}], \"table\": [{\"cells\": {\"fill\": {\"color\": \"#EBF0F8\"}, \"line\": {\"color\": \"white\"}}, \"header\": {\"fill\": {\"color\": \"#C8D4E3\"}, \"line\": {\"color\": \"white\"}}, \"type\": \"table\"}]}, \"layout\": {\"annotationdefaults\": {\"arrowcolor\": \"#2a3f5f\", \"arrowhead\": 0, \"arrowwidth\": 1}, \"autotypenumbers\": \"strict\", \"coloraxis\": {\"colorbar\": {\"outlinewidth\": 0, \"ticks\": \"\"}}, \"colorscale\": {\"diverging\": [[0, \"#8e0152\"], [0.1, \"#c51b7d\"], [0.2, \"#de77ae\"], [0.3, \"#f1b6da\"], [0.4, \"#fde0ef\"], [0.5, \"#f7f7f7\"], [0.6, \"#e6f5d0\"], [0.7, \"#b8e186\"], [0.8, \"#7fbc41\"], [0.9, \"#4d9221\"], [1, \"#276419\"]], \"sequential\": [[0.0, \"#0d0887\"], [0.1111111111111111, \"#46039f\"], [0.2222222222222222, \"#7201a8\"], [0.3333333333333333, \"#9c179e\"], [0.4444444444444444, \"#bd3786\"], [0.5555555555555556, \"#d8576b\"], [0.6666666666666666, \"#ed7953\"], [0.7777777777777778, \"#fb9f3a\"], [0.8888888888888888, \"#fdca26\"], [1.0, \"#f0f921\"]], \"sequentialminus\": [[0.0, \"#0d0887\"], [0.1111111111111111, \"#46039f\"], [0.2222222222222222, \"#7201a8\"], [0.3333333333333333, \"#9c179e\"], [0.4444444444444444, \"#bd3786\"], [0.5555555555555556, \"#d8576b\"], [0.6666666666666666, \"#ed7953\"], [0.7777777777777778, \"#fb9f3a\"], [0.8888888888888888, \"#fdca26\"], [1.0, \"#f0f921\"]]}, \"colorway\": [\"#636efa\", \"#EF553B\", \"#00cc96\", \"#ab63fa\", \"#FFA15A\", \"#19d3f3\", \"#FF6692\", \"#B6E880\", \"#FF97FF\", \"#FECB52\"], \"font\": {\"color\": \"#2a3f5f\"}, \"geo\": {\"bgcolor\": \"white\", \"lakecolor\": \"white\", \"landcolor\": \"#E5ECF6\", \"showlakes\": true, \"showland\": true, \"subunitcolor\": \"white\"}, \"hoverlabel\": {\"align\": \"left\"}, \"hovermode\": \"closest\", \"mapbox\": {\"style\": \"light\"}, \"paper_bgcolor\": \"white\", \"plot_bgcolor\": \"#E5ECF6\", \"polar\": {\"angularaxis\": {\"gridcolor\": \"white\", \"linecolor\": \"white\", \"ticks\": \"\"}, \"bgcolor\": \"#E5ECF6\", \"radialaxis\": {\"gridcolor\": \"white\", \"linecolor\": \"white\", \"ticks\": \"\"}}, \"scene\": {\"xaxis\": {\"backgroundcolor\": \"#E5ECF6\", \"gridcolor\": \"white\", \"gridwidth\": 2, \"linecolor\": \"white\", \"showbackground\": true, \"ticks\": \"\", \"zerolinecolor\": \"white\"}, \"yaxis\": {\"backgroundcolor\": \"#E5ECF6\", \"gridcolor\": \"white\", \"gridwidth\": 2, \"linecolor\": \"white\", \"showbackground\": true, \"ticks\": \"\", \"zerolinecolor\": \"white\"}, \"zaxis\": {\"backgroundcolor\": \"#E5ECF6\", \"gridcolor\": \"white\", \"gridwidth\": 2, \"linecolor\": \"white\", \"showbackground\": true, \"ticks\": \"\", \"zerolinecolor\": \"white\"}}, \"shapedefaults\": {\"line\": {\"color\": \"#2a3f5f\"}}, \"ternary\": {\"aaxis\": {\"gridcolor\": \"white\", \"linecolor\": \"white\", \"ticks\": \"\"}, \"baxis\": {\"gridcolor\": \"white\", \"linecolor\": \"white\", \"ticks\": \"\"}, \"bgcolor\": \"#E5ECF6\", \"caxis\": {\"gridcolor\": \"white\", \"linecolor\": \"white\", \"ticks\": \"\"}}, \"title\": {\"x\": 0.05}, \"xaxis\": {\"automargin\": true, \"gridcolor\": \"white\", \"linecolor\": \"white\", \"ticks\": \"\", \"title\": {\"standoff\": 15}, \"zerolinecolor\": \"white\", \"zerolinewidth\": 2}, \"yaxis\": {\"automargin\": true, \"gridcolor\": \"white\", \"linecolor\": \"white\", \"ticks\": \"\", \"title\": {\"standoff\": 15}, \"zerolinecolor\": \"white\", \"zerolinewidth\": 2}}}},                        {\"responsive\": true}                    ).then(function(){\n",
       "                            \n",
       "var gd = document.getElementById('e86d4988-20c9-48ca-8e0e-e0fb0c4a60ab');\n",
       "var x = new MutationObserver(function (mutations, observer) {{\n",
       "        var display = window.getComputedStyle(gd).display;\n",
       "        if (!display || display === 'none') {{\n",
       "            console.log([gd, 'removed!']);\n",
       "            Plotly.purge(gd);\n",
       "            observer.disconnect();\n",
       "        }}\n",
       "}});\n",
       "\n",
       "// Listen for the removal of the full notebook cells\n",
       "var notebookContainer = gd.closest('#notebook-container');\n",
       "if (notebookContainer) {{\n",
       "    x.observe(notebookContainer, {childList: true});\n",
       "}}\n",
       "\n",
       "// Listen for the clearing of the current output cell\n",
       "var outputEl = gd.closest('.output');\n",
       "if (outputEl) {{\n",
       "    x.observe(outputEl, {childList: true});\n",
       "}}\n",
       "\n",
       "                        })                };                });            </script>        </div>"
      ]
     },
     "metadata": {},
     "output_type": "display_data"
    }
   ],
   "source": [
    "import plotly.express as px\n",
    "\n",
    "historico.loc[:,'undersample'] = historico.loc[:,'undersample']*1\n",
    "\n",
    "\n",
    "fig = px.parallel_coordinates(historico, color=\"auc\")\n",
    "fig.show()"
   ]
  },
  {
   "cell_type": "code",
   "execution_count": 27,
   "metadata": {
    "execution": {
     "iopub.execute_input": "2021-03-12T00:44:53.727284Z",
     "iopub.status.busy": "2021-03-12T00:44:53.630427Z",
     "iopub.status.idle": "2021-03-12T00:45:22.818634Z",
     "shell.execute_reply": "2021-03-12T00:45:22.819617Z"
    },
    "papermill": {
     "duration": 29.397449,
     "end_time": "2021-03-12T00:45:22.819838",
     "exception": false,
     "start_time": "2021-03-12T00:44:53.422389",
     "status": "completed"
    },
    "tags": []
   },
   "outputs": [
    {
     "name": "stdout",
     "output_type": "stream",
     "text": [
      "CPU times: user 32.1 s, sys: 4.82 s, total: 36.9 s\n",
      "Wall time: 29.3 s\n"
     ]
    },
    {
     "data": {
      "text/html": [
       "<div>\n",
       "<style scoped>\n",
       "    .dataframe tbody tr th:only-of-type {\n",
       "        vertical-align: middle;\n",
       "    }\n",
       "\n",
       "    .dataframe tbody tr th {\n",
       "        vertical-align: top;\n",
       "    }\n",
       "\n",
       "    .dataframe thead th {\n",
       "        text-align: right;\n",
       "    }\n",
       "</style>\n",
       "<table border=\"1\" class=\"dataframe\">\n",
       "  <thead>\n",
       "    <tr style=\"text-align: right;\">\n",
       "      <th></th>\n",
       "      <th>model</th>\n",
       "      <th>auc</th>\n",
       "      <th>aucpr</th>\n",
       "      <th>logloss</th>\n",
       "      <th>time</th>\n",
       "    </tr>\n",
       "  </thead>\n",
       "  <tbody>\n",
       "    <tr>\n",
       "      <th>0</th>\n",
       "      <td>final_model</td>\n",
       "      <td>0.890993</td>\n",
       "      <td>0.787530</td>\n",
       "      <td>0.348870</td>\n",
       "      <td>NaN</td>\n",
       "    </tr>\n",
       "    <tr>\n",
       "      <th>0</th>\n",
       "      <td>CatBoostClassifier_fast_un</td>\n",
       "      <td>0.889978</td>\n",
       "      <td>0.783907</td>\n",
       "      <td>0.415708</td>\n",
       "      <td>10.582134</td>\n",
       "    </tr>\n",
       "    <tr>\n",
       "      <th>0</th>\n",
       "      <td>CatBoostClassifier_fast</td>\n",
       "      <td>0.889469</td>\n",
       "      <td>0.785135</td>\n",
       "      <td>0.351202</td>\n",
       "      <td>10.716575</td>\n",
       "    </tr>\n",
       "    <tr>\n",
       "      <th>0</th>\n",
       "      <td>CatBoostClassifier</td>\n",
       "      <td>0.887654</td>\n",
       "      <td>0.781164</td>\n",
       "      <td>0.354235</td>\n",
       "      <td>84.804311</td>\n",
       "    </tr>\n",
       "    <tr>\n",
       "      <th>0</th>\n",
       "      <td>CatBoostClassifier_un</td>\n",
       "      <td>0.887511</td>\n",
       "      <td>0.778835</td>\n",
       "      <td>0.418003</td>\n",
       "      <td>22.704176</td>\n",
       "    </tr>\n",
       "    <tr>\n",
       "      <th>0</th>\n",
       "      <td>LGBMClassifier</td>\n",
       "      <td>0.884387</td>\n",
       "      <td>0.775620</td>\n",
       "      <td>0.358807</td>\n",
       "      <td>16.088659</td>\n",
       "    </tr>\n",
       "    <tr>\n",
       "      <th>0</th>\n",
       "      <td>LGBMClassifier_un</td>\n",
       "      <td>0.882450</td>\n",
       "      <td>0.769712</td>\n",
       "      <td>0.427368</td>\n",
       "      <td>8.034112</td>\n",
       "    </tr>\n",
       "    <tr>\n",
       "      <th>0</th>\n",
       "      <td>RandomForestClassifier_un</td>\n",
       "      <td>0.862284</td>\n",
       "      <td>0.726314</td>\n",
       "      <td>0.561822</td>\n",
       "      <td>13.623294</td>\n",
       "    </tr>\n",
       "    <tr>\n",
       "      <th>0</th>\n",
       "      <td>RandomForestClassifier</td>\n",
       "      <td>0.860380</td>\n",
       "      <td>0.733585</td>\n",
       "      <td>0.546284</td>\n",
       "      <td>27.053407</td>\n",
       "    </tr>\n",
       "    <tr>\n",
       "      <th>0</th>\n",
       "      <td>DecisionTreeClassifier_un</td>\n",
       "      <td>0.721743</td>\n",
       "      <td>0.427562</td>\n",
       "      <td>9.084113</td>\n",
       "      <td>2.623575</td>\n",
       "    </tr>\n",
       "    <tr>\n",
       "      <th>0</th>\n",
       "      <td>DecisionTreeClassifier</td>\n",
       "      <td>0.714695</td>\n",
       "      <td>0.455737</td>\n",
       "      <td>7.230536</td>\n",
       "      <td>3.435738</td>\n",
       "    </tr>\n",
       "  </tbody>\n",
       "</table>\n",
       "</div>"
      ],
      "text/plain": [
       "                        model       auc     aucpr   logloss       time\n",
       "0                 final_model  0.890993  0.787530  0.348870        NaN\n",
       "0  CatBoostClassifier_fast_un  0.889978  0.783907  0.415708  10.582134\n",
       "0     CatBoostClassifier_fast  0.889469  0.785135  0.351202  10.716575\n",
       "0          CatBoostClassifier  0.887654  0.781164  0.354235  84.804311\n",
       "0       CatBoostClassifier_un  0.887511  0.778835  0.418003  22.704176\n",
       "0              LGBMClassifier  0.884387  0.775620  0.358807  16.088659\n",
       "0           LGBMClassifier_un  0.882450  0.769712  0.427368   8.034112\n",
       "0   RandomForestClassifier_un  0.862284  0.726314  0.561822  13.623294\n",
       "0      RandomForestClassifier  0.860380  0.733585  0.546284  27.053407\n",
       "0   DecisionTreeClassifier_un  0.721743  0.427562  9.084113   2.623575\n",
       "0      DecisionTreeClassifier  0.714695  0.455737  7.230536   3.435738"
      ]
     },
     "execution_count": 27,
     "metadata": {},
     "output_type": "execute_result"
    }
   ],
   "source": [
    "%%time\n",
    "\n",
    "# Local results\n",
    "modelo_final = instancia_modelo(hiperparametros=hiperparametros_selecionados)\n",
    "modelo_final = modelo_final.fit(X_train, y_train, clf__cat_features=cat_columns_position)\n",
    "\n",
    "results = results.append(pd.DataFrame(evalue_model(modelo_final, y_test, X_test, \"final_model\"), index=[0]))\n",
    "results.sort_values(by=['auc'], ascending = False)"
   ]
  },
  {
   "cell_type": "code",
   "execution_count": 28,
   "metadata": {
    "execution": {
     "iopub.execute_input": "2021-03-12T00:45:23.009851Z",
     "iopub.status.busy": "2021-03-12T00:45:23.009017Z",
     "iopub.status.idle": "2021-03-12T00:49:56.623088Z",
     "shell.execute_reply": "2021-03-12T00:49:56.623729Z"
    },
    "papermill": {
     "duration": 273.711746,
     "end_time": "2021-03-12T00:49:56.623937",
     "exception": false,
     "start_time": "2021-03-12T00:45:22.912191",
     "status": "completed"
    },
    "tags": []
   },
   "outputs": [
    {
     "name": "stdout",
     "output_type": "stream",
     "text": [
      "CPU times: user 5min 12s, sys: 39.2 s, total: 5min 52s\n",
      "Wall time: 4min 33s\n"
     ]
    }
   ],
   "source": [
    "%%time\n",
    "\n",
    "# Submit results\n",
    "clf = CatBoostClassifier(**hiperparametros_selecionados['clf'],\n",
    "                         random_seed=42, verbose = 0, task_type=\"GPU\", border_count = 32,\n",
    "                         bootstrap_type = \"Bernoulli\",\n",
    "                         n_estimators = 3000,\n",
    "                         early_stopping_rounds = 100)\n",
    "    \n",
    "pipe = Pipeline([#('preprocessor', preprocessor),\n",
    "                 ('undersample', undersample),\n",
    "                 ('clf', clf) ])\n",
    "\n",
    "final_fit = pipe.fit(X, y, clf__cat_features=cat_columns_position)\n",
    "\n",
    "submission.loc[:, 'target'] = final_fit.predict_proba(new_data)[:,1]\n",
    "submission.to_csv('submission.csv', index = False)"
   ]
  },
  {
   "cell_type": "code",
   "execution_count": null,
   "metadata": {
    "papermill": {
     "duration": 0.05896,
     "end_time": "2021-03-12T00:49:56.742969",
     "exception": false,
     "start_time": "2021-03-12T00:49:56.684009",
     "status": "completed"
    },
    "tags": []
   },
   "outputs": [],
   "source": []
  }
 ],
 "metadata": {
  "kernelspec": {
   "display_name": "Python 3",
   "language": "python",
   "name": "python3"
  },
  "language_info": {
   "codemirror_mode": {
    "name": "ipython",
    "version": 3
   },
   "file_extension": ".py",
   "mimetype": "text/x-python",
   "name": "python",
   "nbconvert_exporter": "python",
   "pygments_lexer": "ipython3",
   "version": "3.7.9"
  },
  "papermill": {
   "default_parameters": {},
   "duration": 13702.660779,
   "end_time": "2021-03-12T00:49:59.412705",
   "environment_variables": {},
   "exception": null,
   "input_path": "__notebook__.ipynb",
   "output_path": "__notebook__.ipynb",
   "parameters": {},
   "start_time": "2021-03-11T21:01:36.751926",
   "version": "2.2.2"
  }
 },
 "nbformat": 4,
 "nbformat_minor": 4
}
